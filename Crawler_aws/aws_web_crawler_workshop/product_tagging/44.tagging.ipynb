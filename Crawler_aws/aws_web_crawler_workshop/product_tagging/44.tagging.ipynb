{
 "cells": [
  {
   "cell_type": "code",
   "execution_count": 1,
   "id": "2f6cc1a3-0a13-433d-8288-b7e01bb6c8b2",
   "metadata": {
    "tags": []
   },
   "outputs": [],
   "source": [
    "import openai"
   ]
  },
  {
   "cell_type": "code",
   "execution_count": 2,
   "id": "51154285-f85d-4e65-b335-12e9b42db52f",
   "metadata": {
    "tags": []
   },
   "outputs": [],
   "source": [
    "with open('api.key', 'r') as f:\n",
    "    api_key = f.read().replace('\\n', '')"
   ]
  },
  {
   "cell_type": "code",
   "execution_count": 3,
   "id": "d95ffda9-69e2-4694-b370-4539f4dd9a98",
   "metadata": {
    "tags": []
   },
   "outputs": [],
   "source": [
    "import re\n",
    "import json\n",
    "import time\n",
    "\n",
    "\n",
    "class GPTGenerater:\n",
    "    \n",
    "    def __init__(self, api_key, model=\"gpt-3.5-turbo\", temperature=0.1):\n",
    "        self.api_key = api_key\n",
    "        openai.api_key = self.api_key\n",
    "        self.model = model\n",
    "        self.temperature = temperature\n",
    "        \n",
    "    def predict(self, prompt):\n",
    "        response = openai.ChatCompletion.create(\n",
    "            model=self.model,\n",
    "            messages=[{\"role\": \"assistant\", \"content\": prompt}],\n",
    "            temperature=self.temperature,\n",
    "        )\n",
    "        return response\n",
    "    \n",
    "    \n",
    "\n",
    "JSON_RE = re.compile(r'(\\{.*\\})')\n",
    "\n",
    "class JsonExtract:\n",
    "    \n",
    "    def reply2result(self, reply: str) -> dict:\n",
    "\n",
    "        json_str = JSON_RE.findall(reply.replace('\\n', ' '))[0]\n",
    "        ret = json.loads(json_str)\n",
    "        return ret\n",
    "\n",
    "    def result2products(self, result: dict, target_key='tags') -> list[str]:\n",
    "        assert target_key in result\n",
    "        assert isinstance(result[target_key], list)\n",
    "\n",
    "        ret = result[target_key]\n",
    "\n",
    "        return ret\n",
    "\n",
    "    def reply2products(self, reply:str) -> list[str]:\n",
    "        \n",
    "        result = self.reply2result(reply)\n",
    "        ret = self.result2products(result)\n",
    "\n",
    "\n",
    "        return ret"
   ]
  },
  {
   "cell_type": "code",
   "execution_count": 4,
   "id": "67a642ec-8dbf-4792-8d01-065562365bf8",
   "metadata": {
    "tags": []
   },
   "outputs": [],
   "source": [
    "sample_generator = GPTGenerater(api_key)"
   ]
  },
  {
   "cell_type": "code",
   "execution_count": 1,
   "id": "7ee46a52-6f22-4d95-9c67-6e29c4da28d5",
   "metadata": {
    "tags": []
   },
   "outputs": [
    {
     "ename": "NameError",
     "evalue": "name 'JsonExtract' is not defined",
     "output_type": "error",
     "traceback": [
      "\u001b[0;31m---------------------------------------------------------------------------\u001b[0m",
      "\u001b[0;31mNameError\u001b[0m                                 Traceback (most recent call last)",
      "Cell \u001b[0;32mIn[1], line 18\u001b[0m\n\u001b[1;32m      1\u001b[0m instruction \u001b[38;5;241m=\u001b[39m \u001b[38;5;124m'''\u001b[39m\n\u001b[1;32m      2\u001b[0m \u001b[38;5;124mAssign appropriate labels/tags to the product as \u001b[39m\u001b[38;5;124m\"\u001b[39m\u001b[38;5;124mtags\u001b[39m\u001b[38;5;124m\"\u001b[39m\u001b[38;5;124m, in flavor, brand, key ingredient, and package size \u001b[39m\n\u001b[1;32m      3\u001b[0m \u001b[38;5;124m(if applicable), etc.  \u001b[39m\n\u001b[0;32m   (...)\u001b[0m\n\u001b[1;32m     14\u001b[0m \u001b[38;5;124mThe json result is: \u001b[39m\n\u001b[1;32m     15\u001b[0m \u001b[38;5;124m'''\u001b[39m\n\u001b[0;32m---> 18\u001b[0m \u001b[38;5;28;01mclass\u001b[39;00m \u001b[38;5;21;01mSampleAugumentation\u001b[39;00m(\u001b[43mJsonExtract\u001b[49m):\n\u001b[1;32m     20\u001b[0m     \u001b[38;5;28;01mdef\u001b[39;00m \u001b[38;5;21m__init__\u001b[39m(\u001b[38;5;28mself\u001b[39m, sample_generator, instruction):\n\u001b[1;32m     21\u001b[0m         \u001b[38;5;28mself\u001b[39m\u001b[38;5;241m.\u001b[39msample_generator \u001b[38;5;241m=\u001b[39m sample_generator\n",
      "\u001b[0;31mNameError\u001b[0m: name 'JsonExtract' is not defined"
     ]
    }
   ],
   "source": [
    "instruction = '''\n",
    "Assign appropriate labels/tags to the product as \"tags\", in flavor, brand, key ingredient, and package size \n",
    "(if applicable), etc.  \n",
    "\n",
    "product: {product}\n",
    "\n",
    "1. Return the results in JSON format with the following key: \"tags\".\n",
    "2. Replied answer should be as diverse as possible.\n",
    "3. Do not repeat answers.\n",
    "4. Reply in Taiwan Chinese.\n",
    "5. Please avoid choosing duplicate tags.\n",
    "6. Your tags shall be no more than {max_tags}.\n",
    "\n",
    "The json result is: \n",
    "'''\n",
    "\n",
    "\n",
    "class SampleAugumentation(JsonExtract):\n",
    "    \n",
    "    def __init__(self, sample_generator, instruction):\n",
    "        self.sample_generator = sample_generator\n",
    "        self.instruction = instruction\n",
    "        \n",
    "    def _sample_generate(self, product:str, max_tags:int=10, debug=False):\n",
    "        \n",
    "\n",
    "        prompt = self.instruction.format(product=product, max_tags=max_tags)\n",
    "        response = self.sample_generator.predict(prompt)\n",
    "        \n",
    "        content = response.to_dict()['choices'][0]['message']['content']\n",
    "        \n",
    "        ret = self.reply2result(content)\n",
    "        \n",
    "        return ret\n",
    "    \n",
    "    def sample_generate(self, product:str, max_tags:int=10):\n",
    "        debug = False\n",
    "        while True:\n",
    "            try:\n",
    "                return self._sample_generate(product=product, max_tags=max_tags, debug=debug)\n",
    "            except Exception as e:\n",
    "                debug = True\n",
    "                print(e)\n",
    "                time.sleep(1)"
   ]
  },
  {
   "cell_type": "code",
   "execution_count": null,
   "id": "f8ce76bf-903e-4932-a38d-141208774391",
   "metadata": {
    "tags": []
   },
   "outputs": [],
   "source": [
    "sa = SampleAugumentation(sample_generator, instruction)"
   ]
  },
  {
   "cell_type": "code",
   "execution_count": null,
   "id": "6611d07b-59f6-4090-9403-10cf24f460cf",
   "metadata": {},
   "outputs": [],
   "source": []
  },
  {
   "cell_type": "code",
   "execution_count": 7,
   "id": "53b535c0-806b-459c-bbb4-bd30eb86981e",
   "metadata": {
    "tags": []
   },
   "outputs": [
    {
     "data": {
      "text/plain": [
       "{'tags': ['手沖咖啡', '統一', '精品', '咖啡', '飲品', '咖啡豆', '咖啡因', '香氣', '口感', '包裝']}"
      ]
     },
     "execution_count": 7,
     "metadata": {},
     "output_type": "execute_result"
    }
   ],
   "source": [
    "product = '統一精品手沖咖啡'\n",
    "sa.sample_generate(product=product, max_tags=10)"
   ]
  },
  {
   "cell_type": "code",
   "execution_count": null,
   "id": "76893c63-6495-4f64-8252-f14c32b1c8bb",
   "metadata": {},
   "outputs": [],
   "source": []
  },
  {
   "cell_type": "code",
   "execution_count": null,
   "id": "8d1a909e-5c64-4b79-a7ba-35a4346531a8",
   "metadata": {},
   "outputs": [],
   "source": []
  },
  {
   "cell_type": "code",
   "execution_count": 8,
   "id": "5ebe2657-44e4-4679-b207-693c314945fd",
   "metadata": {
    "tags": []
   },
   "outputs": [],
   "source": [
    "import pandas as pd"
   ]
  },
  {
   "cell_type": "code",
   "execution_count": 9,
   "id": "32c93429-8932-48be-bb6d-cd7beb85cacf",
   "metadata": {
    "tags": []
   },
   "outputs": [],
   "source": [
    "df_samples = pd.read_csv('data/samples.csv', index_col=0)\n",
    "df_samples = df_samples[df_samples['item_name'].apply(lambda x: '外送費' not in x)]\n",
    "df_samples = df_samples[df_samples['item_name'].apply(lambda x: '平台費' not in x)]"
   ]
  },
  {
   "cell_type": "code",
   "execution_count": 15,
   "id": "02244a17-285f-4560-8330-14e787c05d8b",
   "metadata": {
    "tags": []
   },
   "outputs": [
    {
     "data": {
      "text/plain": [
       "item_name    \"三得利微醉\"\"白色沙瓦\"\"350ml[350ML/罐] \"\n",
       "item_type                               菸酒類\n",
       "category                                 啤酒\n",
       "Name: 212255, dtype: object"
      ]
     },
     "execution_count": 15,
     "metadata": {},
     "output_type": "execute_result"
    }
   ],
   "source": [
    "item = df_samples.sample(1).iloc[0]\n",
    "item"
   ]
  },
  {
   "cell_type": "code",
   "execution_count": 16,
   "id": "c6b82298-b72b-403b-a8af-cf97941c2b39",
   "metadata": {
    "tags": []
   },
   "outputs": [
    {
     "data": {
      "text/plain": [
       "{'tags': ['三得利', '微醉', '白色沙瓦', '350ml', '罐']}"
      ]
     },
     "execution_count": 16,
     "metadata": {},
     "output_type": "execute_result"
    }
   ],
   "source": [
    "sa.sample_generate(product=item['item_name'], max_tags=5)"
   ]
  },
  {
   "cell_type": "code",
   "execution_count": 18,
   "id": "a03555ff-e782-4df5-9571-54f06e7e42fe",
   "metadata": {
    "tags": []
   },
   "outputs": [
    {
     "data": {
      "text/plain": [
       "{'tags': ['三得利', '微醉', '白色沙瓦']}"
      ]
     },
     "execution_count": 18,
     "metadata": {},
     "output_type": "execute_result"
    }
   ],
   "source": [
    "sa.sample_generate(product=item['item_name'], max_tags=3)"
   ]
  },
  {
   "cell_type": "code",
   "execution_count": null,
   "id": "36530c4e-ab43-4940-bf1a-fa7dc27920ec",
   "metadata": {},
   "outputs": [],
   "source": []
  },
  {
   "cell_type": "code",
   "execution_count": null,
   "id": "c1781909-e881-459f-9d19-5bb36a1f1232",
   "metadata": {},
   "outputs": [],
   "source": []
  },
  {
   "cell_type": "code",
   "execution_count": null,
   "id": "d4634da4-ecae-43bf-998e-6cd32428540d",
   "metadata": {},
   "outputs": [],
   "source": []
  },
  {
   "cell_type": "code",
   "execution_count": null,
   "id": "00c8543b-eba0-45d3-bd5f-d7660ad0ad79",
   "metadata": {},
   "outputs": [],
   "source": []
  },
  {
   "cell_type": "code",
   "execution_count": 13,
   "id": "9754ce7c-4a58-4e24-b992-9ed0549e3ff2",
   "metadata": {
    "tags": []
   },
   "outputs": [],
   "source": [
    "from collections import Counter\n",
    "c = Counter()"
   ]
  },
  {
   "cell_type": "code",
   "execution_count": null,
   "id": "fa111c60-7c99-45ac-9632-ad2a2f48b437",
   "metadata": {
    "collapsed": true,
    "jupyter": {
     "outputs_hidden": true
    },
    "tags": []
   },
   "outputs": [],
   "source": [
    "\n",
    "for i, (_, x) in enumerate(df_samples.sample(1000).iterrows()):\n",
    "    print(i, end='\\r')\n",
    "    try:\n",
    "        tags = sa._sample_generate(product=x['item_name'], max_tags=3)\n",
    "    except:\n",
    "        pass\n",
    "    c.update(tags['tags'])"
   ]
  },
  {
   "cell_type": "code",
   "execution_count": 86,
   "id": "d24f33f5-efef-4e60-a233-ae894e9edb19",
   "metadata": {
    "tags": []
   },
   "outputs": [],
   "source": [
    "with open('workflow_asset/tag_set_example.json', 'w') as f:\n",
    "    f.write(json.dumps(c))"
   ]
  },
  {
   "cell_type": "code",
   "execution_count": null,
   "id": "ccbc1058-3ddc-4dc5-b181-872932abe116",
   "metadata": {},
   "outputs": [],
   "source": []
  }
 ],
 "metadata": {
  "kernelspec": {
   "display_name": "conda_python3",
   "language": "python",
   "name": "conda_python3"
  },
  "language_info": {
   "codemirror_mode": {
    "name": "ipython",
    "version": 3
   },
   "file_extension": ".py",
   "mimetype": "text/x-python",
   "name": "python",
   "nbconvert_exporter": "python",
   "pygments_lexer": "ipython3",
   "version": "3.10.10"
  }
 },
 "nbformat": 4,
 "nbformat_minor": 5
}
