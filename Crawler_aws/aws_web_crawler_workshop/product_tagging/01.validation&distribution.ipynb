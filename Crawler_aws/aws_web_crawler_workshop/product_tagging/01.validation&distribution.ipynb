{
 "cells": [
  {
   "cell_type": "markdown",
   "id": "889c44f5-5276-41b0-a2e2-3dd6939b15cb",
   "metadata": {
    "tags": []
   },
   "source": [
    "# Env Setup"
   ]
  },
  {
   "cell_type": "code",
   "execution_count": 1,
   "id": "94a8b9b8-3b56-4bed-a507-53e22da2ddd0",
   "metadata": {
    "tags": []
   },
   "outputs": [],
   "source": [
    "import pandas as pd\n",
    "df = pd.read_csv('data/samples.csv', index_col=0)\n",
    "dfc = pd.read_csv('data/category.csv')"
   ]
  },
  {
   "cell_type": "markdown",
   "id": "36cfe144-4db9-4f74-a5da-e2f63e341906",
   "metadata": {},
   "source": [
    "# Display Option"
   ]
  },
  {
   "cell_type": "code",
   "execution_count": 2,
   "id": "7f55f66a-113d-4da0-bbd2-8c23c533ef8f",
   "metadata": {
    "tags": []
   },
   "outputs": [],
   "source": [
    "pd.set_option('display.max_rows', 100)"
   ]
  },
  {
   "cell_type": "markdown",
   "id": "c406644f-3ba7-4377-8cd1-3741699b80c5",
   "metadata": {
    "tags": []
   },
   "source": [
    "# Glace"
   ]
  },
  {
   "cell_type": "code",
   "execution_count": 3,
   "id": "32efa748-9f2a-4f44-8fe1-4dc34ee8dca1",
   "metadata": {
    "tags": []
   },
   "outputs": [
    {
     "data": {
      "text/html": [
       "<div>\n",
       "<style scoped>\n",
       "    .dataframe tbody tr th:only-of-type {\n",
       "        vertical-align: middle;\n",
       "    }\n",
       "\n",
       "    .dataframe tbody tr th {\n",
       "        vertical-align: top;\n",
       "    }\n",
       "\n",
       "    .dataframe thead th {\n",
       "        text-align: right;\n",
       "    }\n",
       "</style>\n",
       "<table border=\"1\" class=\"dataframe\">\n",
       "  <thead>\n",
       "    <tr style=\"text-align: right;\">\n",
       "      <th></th>\n",
       "      <th>item_name</th>\n",
       "      <th>item_type</th>\n",
       "      <th>category</th>\n",
       "    </tr>\n",
       "  </thead>\n",
       "  <tbody>\n",
       "    <tr>\n",
       "      <th>0</th>\n",
       "      <td>統一大補帖當歸鴨細麵</td>\n",
       "      <td>民生食材類</td>\n",
       "      <td>各式麵條/拌麵</td>\n",
       "    </tr>\n",
       "    <tr>\n",
       "      <th>1</th>\n",
       "      <td>辛香菇杯麵</td>\n",
       "      <td>民生食材類</td>\n",
       "      <td>各式麵條/拌麵</td>\n",
       "    </tr>\n",
       "    <tr>\n",
       "      <th>2</th>\n",
       "      <td>(V)卜蜂義式輕食沙拉胸(4℃/110g)</td>\n",
       "      <td>民生食材類</td>\n",
       "      <td>各式麵條/拌麵</td>\n",
       "    </tr>\n",
       "    <tr>\n",
       "      <th>3</th>\n",
       "      <td>五木雞蛋麵經濟包2kg</td>\n",
       "      <td>民生食材類</td>\n",
       "      <td>各式麵條/拌麵</td>\n",
       "    </tr>\n",
       "    <tr>\n",
       "      <th>4</th>\n",
       "      <td>昇泰</td>\n",
       "      <td>民生食材類</td>\n",
       "      <td>各式麵條/拌麵</td>\n",
       "    </tr>\n",
       "    <tr>\n",
       "      <th>...</th>\n",
       "      <td>...</td>\n",
       "      <td>...</td>\n",
       "      <td>...</td>\n",
       "    </tr>\n",
       "    <tr>\n",
       "      <th>1584523</th>\n",
       "      <td>新鮮芒果西瓜牛奶綿綿冰</td>\n",
       "      <td>冰品類</td>\n",
       "      <td>甜筒</td>\n",
       "    </tr>\n",
       "    <tr>\n",
       "      <th>1584524</th>\n",
       "      <td>特大杯焦糖可可碎片星冰樂 2023-05-26 h1us-q</td>\n",
       "      <td>冰品類</td>\n",
       "      <td>甜筒</td>\n",
       "    </tr>\n",
       "    <tr>\n",
       "      <th>1584525</th>\n",
       "      <td>百香芒果冰沙</td>\n",
       "      <td>冰品類</td>\n",
       "      <td>現調冰品</td>\n",
       "    </tr>\n",
       "    <tr>\n",
       "      <th>1584526</th>\n",
       "      <td>檸檬冰磚</td>\n",
       "      <td>冰品類</td>\n",
       "      <td>其他冰品</td>\n",
       "    </tr>\n",
       "    <tr>\n",
       "      <th>1584527</th>\n",
       "      <td>韓國YOUUS急凍冰球</td>\n",
       "      <td>冰品類</td>\n",
       "      <td>冰塊</td>\n",
       "    </tr>\n",
       "  </tbody>\n",
       "</table>\n",
       "<p>1584528 rows × 3 columns</p>\n",
       "</div>"
      ],
      "text/plain": [
       "                               item_name item_type category\n",
       "0                            統一大補帖當歸鴨細麵      民生食材類  各式麵條/拌麵\n",
       "1                                 辛香菇杯麵      民生食材類  各式麵條/拌麵\n",
       "2                 (V)卜蜂義式輕食沙拉胸(4℃/110g)      民生食材類  各式麵條/拌麵\n",
       "3                           五木雞蛋麵經濟包2kg      民生食材類  各式麵條/拌麵\n",
       "4                                    昇泰      民生食材類  各式麵條/拌麵\n",
       "...                                  ...       ...      ...\n",
       "1584523                     新鮮芒果西瓜牛奶綿綿冰        冰品類       甜筒\n",
       "1584524  特大杯焦糖可可碎片星冰樂 2023-05-26 h1us-q        冰品類       甜筒\n",
       "1584525                           百香芒果冰沙       冰品類     現調冰品\n",
       "1584526                             檸檬冰磚       冰品類     其他冰品\n",
       "1584527                      韓國YOUUS急凍冰球       冰品類       冰塊\n",
       "\n",
       "[1584528 rows x 3 columns]"
      ]
     },
     "execution_count": 3,
     "metadata": {},
     "output_type": "execute_result"
    }
   ],
   "source": [
    "df"
   ]
  },
  {
   "cell_type": "code",
   "execution_count": 4,
   "id": "f582ae60-29dc-4d38-a0ed-5f4d9399f6cd",
   "metadata": {
    "tags": []
   },
   "outputs": [
    {
     "data": {
      "text/html": [
       "<div>\n",
       "<style scoped>\n",
       "    .dataframe tbody tr th:only-of-type {\n",
       "        vertical-align: middle;\n",
       "    }\n",
       "\n",
       "    .dataframe tbody tr th {\n",
       "        vertical-align: top;\n",
       "    }\n",
       "\n",
       "    .dataframe thead th {\n",
       "        text-align: right;\n",
       "    }\n",
       "</style>\n",
       "<table border=\"1\" class=\"dataframe\">\n",
       "  <thead>\n",
       "    <tr style=\"text-align: right;\">\n",
       "      <th></th>\n",
       "      <th>item_type</th>\n",
       "      <th>category</th>\n",
       "      <th>description</th>\n",
       "      <th>item1</th>\n",
       "      <th>item2</th>\n",
       "    </tr>\n",
       "  </thead>\n",
       "  <tbody>\n",
       "    <tr>\n",
       "      <th>0</th>\n",
       "      <td>咖啡類</td>\n",
       "      <td>現做咖啡飲品</td>\n",
       "      <td>從咖啡廳、超商、超市中現煮的咖啡商品</td>\n",
       "      <td>全家特濃拿鐵</td>\n",
       "      <td>西西里風味檸檬氣泡咖啡</td>\n",
       "    </tr>\n",
       "    <tr>\n",
       "      <th>1</th>\n",
       "      <td>咖啡類</td>\n",
       "      <td>罐裝/瓶裝咖啡</td>\n",
       "      <td>使用鋁罐或寶特瓶裝可馬上飲用的咖啡液體</td>\n",
       "      <td>《UCC》無糖咖啡飲料185g</td>\n",
       "      <td>SANGARIA 圓潤咖啡飲料-拿鐵 (280gx24入)</td>\n",
       "    </tr>\n",
       "    <tr>\n",
       "      <th>2</th>\n",
       "      <td>咖啡類</td>\n",
       "      <td>沖泡式咖啡</td>\n",
       "      <td>多合一的沖泡式咖啡(粉末)</td>\n",
       "      <td>西雅圖即品拿鐵無加糖2合1咖啡21g</td>\n",
       "      <td>【King Coffee 王者咖啡】經典風味推薦組：三合一滴滴煉奶即溶咖啡</td>\n",
       "    </tr>\n",
       "    <tr>\n",
       "      <th>3</th>\n",
       "      <td>咖啡類</td>\n",
       "      <td>濾掛式咖啡</td>\n",
       "      <td>使用濾掛的咖啡</td>\n",
       "      <td>【熙舍咖啡】義大利濾掛式咖啡綜合風味10g/包</td>\n",
       "      <td>《西雅圖》極品濾掛咖啡-曼巴風情(50入/盒)</td>\n",
       "    </tr>\n",
       "    <tr>\n",
       "      <th>4</th>\n",
       "      <td>咖啡類</td>\n",
       "      <td>即溶咖啡</td>\n",
       "      <td>具有顆粒加水便可馬上融化的咖啡，通常為罐裝。(排除多合一且多數為黑咖啡)</td>\n",
       "      <td>AGFMAXIM咖啡罐(藍)-奢華摩登 (80g)</td>\n",
       "      <td>AGFMAXIM咖啡罐(藍)-奢華摩登 (80g)</td>\n",
       "    </tr>\n",
       "    <tr>\n",
       "      <th>...</th>\n",
       "      <td>...</td>\n",
       "      <td>...</td>\n",
       "      <td>...</td>\n",
       "      <td>...</td>\n",
       "      <td>...</td>\n",
       "    </tr>\n",
       "    <tr>\n",
       "      <th>171</th>\n",
       "      <td>菸酒類</td>\n",
       "      <td>紅白酒</td>\n",
       "      <td>在商店販賣的葡萄酒，紅酒由葡萄製成，白酒由白葡萄製成，可參考https://www.nmpl...</td>\n",
       "      <td>玉泉法國紅葡萄酒</td>\n",
       "      <td>昆斯特樂麗絲玲白酒</td>\n",
       "    </tr>\n",
       "    <tr>\n",
       "      <th>172</th>\n",
       "      <td>菸酒類</td>\n",
       "      <td>香檳氣泡酒</td>\n",
       "      <td>在商店販賣的香檳或有發泡性的酒，可參考https://www.my9.com.tw/coll...</td>\n",
       "      <td>杜瓦樂華 玫瑰微甜香檳</td>\n",
       "      <td>西班牙 北極熊氣泡酒</td>\n",
       "    </tr>\n",
       "    <tr>\n",
       "      <th>173</th>\n",
       "      <td>菸酒類</td>\n",
       "      <td>藥酒</td>\n",
       "      <td>將藥物置於75％酒精或白酒中浸泡而成的保健食品(這邊暫時歸類在酒類，後續調整至保健食品類)，...</td>\n",
       "      <td>【大鵰】蔘茸藥酒300ml*24(乙類成藥)</td>\n",
       "      <td>【養命酒】日本藥用養命酒700ML×2瓶</td>\n",
       "    </tr>\n",
       "    <tr>\n",
       "      <th>174</th>\n",
       "      <td>菸酒類</td>\n",
       "      <td>高粱</td>\n",
       "      <td>如類別名稱，可參考https://www.my9.com.tw/collections/ba...</td>\n",
       "      <td>38°金門高粱酒</td>\n",
       "      <td>金門紅標高粱58%</td>\n",
       "    </tr>\n",
       "    <tr>\n",
       "      <th>175</th>\n",
       "      <td>禮盒類</td>\n",
       "      <td>禮盒</td>\n",
       "      <td>只要商品被組合成禮盒，就歸在這一類</td>\n",
       "      <td>古傳滴雞精禮盒</td>\n",
       "      <td>天地合補金盞花葉黃素禮盒</td>\n",
       "    </tr>\n",
       "  </tbody>\n",
       "</table>\n",
       "<p>176 rows × 5 columns</p>\n",
       "</div>"
      ],
      "text/plain": [
       "    item_type category                                        description   \n",
       "0         咖啡類   現做咖啡飲品                                 從咖啡廳、超商、超市中現煮的咖啡商品  \\\n",
       "1         咖啡類  罐裝/瓶裝咖啡                                使用鋁罐或寶特瓶裝可馬上飲用的咖啡液體   \n",
       "2         咖啡類    沖泡式咖啡                                      多合一的沖泡式咖啡(粉末)   \n",
       "3         咖啡類    濾掛式咖啡                                            使用濾掛的咖啡   \n",
       "4         咖啡類     即溶咖啡               具有顆粒加水便可馬上融化的咖啡，通常為罐裝。(排除多合一且多數為黑咖啡)   \n",
       "..        ...      ...                                                ...   \n",
       "171       菸酒類      紅白酒  在商店販賣的葡萄酒，紅酒由葡萄製成，白酒由白葡萄製成，可參考https://www.nmpl...   \n",
       "172       菸酒類    香檳氣泡酒  在商店販賣的香檳或有發泡性的酒，可參考https://www.my9.com.tw/coll...   \n",
       "173       菸酒類       藥酒  將藥物置於75％酒精或白酒中浸泡而成的保健食品(這邊暫時歸類在酒類，後續調整至保健食品類)，...   \n",
       "174       菸酒類       高粱  如類別名稱，可參考https://www.my9.com.tw/collections/ba...   \n",
       "175       禮盒類       禮盒                                  只要商品被組合成禮盒，就歸在這一類   \n",
       "\n",
       "                         item1                                  item2  \n",
       "0                       全家特濃拿鐵                            西西里風味檸檬氣泡咖啡  \n",
       "1              《UCC》無糖咖啡飲料185g          SANGARIA 圓潤咖啡飲料-拿鐵 (280gx24入)  \n",
       "2           西雅圖即品拿鐵無加糖2合1咖啡21g  【King Coffee 王者咖啡】經典風味推薦組：三合一滴滴煉奶即溶咖啡  \n",
       "3      【熙舍咖啡】義大利濾掛式咖啡綜合風味10g/包                《西雅圖》極品濾掛咖啡-曼巴風情(50入/盒)  \n",
       "4    AGFMAXIM咖啡罐(藍)-奢華摩登 (80g)              AGFMAXIM咖啡罐(藍)-奢華摩登 (80g)  \n",
       "..                         ...                                    ...  \n",
       "171                   玉泉法國紅葡萄酒                              昆斯特樂麗絲玲白酒  \n",
       "172                杜瓦樂華 玫瑰微甜香檳                             西班牙 北極熊氣泡酒  \n",
       "173     【大鵰】蔘茸藥酒300ml*24(乙類成藥)                   【養命酒】日本藥用養命酒700ML×2瓶  \n",
       "174                   38°金門高粱酒                              金門紅標高粱58%  \n",
       "175                    古傳滴雞精禮盒                           天地合補金盞花葉黃素禮盒  \n",
       "\n",
       "[176 rows x 5 columns]"
      ]
     },
     "execution_count": 4,
     "metadata": {},
     "output_type": "execute_result"
    }
   ],
   "source": [
    "dfc"
   ]
  },
  {
   "cell_type": "markdown",
   "id": "f057376b-1818-41e6-8bc4-fd2f31f2878a",
   "metadata": {
    "tags": []
   },
   "source": [
    "# Validation"
   ]
  },
  {
   "cell_type": "code",
   "execution_count": 5,
   "id": "dd9bcd5f-258a-45fb-99ca-740a5098e313",
   "metadata": {
    "tags": []
   },
   "outputs": [
    {
     "name": "stdout",
     "output_type": "stream",
     "text": [
      "set()\n",
      "set()\n",
      "set()\n",
      "set()\n"
     ]
    }
   ],
   "source": [
    "for i in [\n",
    "    set(dfc.category) - set(df.category),\n",
    "    set(df.category) - set(dfc.category),\n",
    "    set(dfc.item_type) - set(df.item_type),\n",
    "    set(df.item_type) - set(dfc.item_type),\n",
    "]:\n",
    "    print(i)"
   ]
  },
  {
   "cell_type": "code",
   "execution_count": null,
   "id": "707983b4-23b5-4bf9-82d7-780102f8ff6e",
   "metadata": {},
   "outputs": [],
   "source": []
  },
  {
   "cell_type": "markdown",
   "id": "aee50106-b814-44ac-b226-3c9279475d54",
   "metadata": {},
   "source": [
    "# rare samples"
   ]
  },
  {
   "cell_type": "code",
   "execution_count": 6,
   "id": "ceffe533-f1e8-43c2-95b2-05f20e4cae77",
   "metadata": {
    "tags": []
   },
   "outputs": [],
   "source": [
    "df_count = df.groupby(['item_type', 'category']).count()\n",
    "df_count['item_name_dedupe'] = df.drop_duplicates('item_name').groupby(['item_type', 'category']).count()['item_name']\n"
   ]
  },
  {
   "cell_type": "code",
   "execution_count": 7,
   "id": "85714c99-756b-44c9-805f-27fd43b26c79",
   "metadata": {
    "tags": []
   },
   "outputs": [
    {
     "data": {
      "text/plain": [
       "26"
      ]
     },
     "execution_count": 7,
     "metadata": {},
     "output_type": "execute_result"
    }
   ],
   "source": [
    "len(set(map(lambda x: x[0], df_count.index)))"
   ]
  },
  {
   "cell_type": "code",
   "execution_count": 8,
   "id": "3543ab90-0433-4ef1-93b8-689bfb59cf5d",
   "metadata": {
    "tags": []
   },
   "outputs": [
    {
     "data": {
      "text/plain": [
       "176"
      ]
     },
     "execution_count": 8,
     "metadata": {},
     "output_type": "execute_result"
    }
   ],
   "source": [
    "len(set(map(lambda x: x[1], df_count.index)))"
   ]
  },
  {
   "cell_type": "code",
   "execution_count": 9,
   "id": "2ba63cfc-9cd5-4dbc-9f4d-491752dcb7b7",
   "metadata": {
    "tags": []
   },
   "outputs": [
    {
     "data": {
      "text/html": [
       "<div>\n",
       "<style scoped>\n",
       "    .dataframe tbody tr th:only-of-type {\n",
       "        vertical-align: middle;\n",
       "    }\n",
       "\n",
       "    .dataframe tbody tr th {\n",
       "        vertical-align: top;\n",
       "    }\n",
       "\n",
       "    .dataframe thead th {\n",
       "        text-align: right;\n",
       "    }\n",
       "</style>\n",
       "<table border=\"1\" class=\"dataframe\">\n",
       "  <thead>\n",
       "    <tr style=\"text-align: right;\">\n",
       "      <th></th>\n",
       "      <th></th>\n",
       "      <th>item_name</th>\n",
       "      <th>item_name_dedupe</th>\n",
       "    </tr>\n",
       "    <tr>\n",
       "      <th>item_type</th>\n",
       "      <th>category</th>\n",
       "      <th></th>\n",
       "      <th></th>\n",
       "    </tr>\n",
       "  </thead>\n",
       "  <tbody>\n",
       "    <tr>\n",
       "      <th rowspan=\"5\" valign=\"top\">3C類</th>\n",
       "      <th>手機/通訊/週邊</th>\n",
       "      <td>246679</td>\n",
       "      <td>245592</td>\n",
       "    </tr>\n",
       "    <tr>\n",
       "      <th>桌機/筆電/平板</th>\n",
       "      <td>149160</td>\n",
       "      <td>148913</td>\n",
       "    </tr>\n",
       "    <tr>\n",
       "      <th>相機/攝影/DV</th>\n",
       "      <td>6425</td>\n",
       "      <td>6358</td>\n",
       "    </tr>\n",
       "    <tr>\n",
       "      <th>虛擬/點數商品</th>\n",
       "      <td>1</td>\n",
       "      <td>1</td>\n",
       "    </tr>\n",
       "    <tr>\n",
       "      <th>週邊/耗材</th>\n",
       "      <td>16727</td>\n",
       "      <td>16389</td>\n",
       "    </tr>\n",
       "    <tr>\n",
       "      <th>...</th>\n",
       "      <th>...</th>\n",
       "      <td>...</td>\n",
       "      <td>...</td>\n",
       "    </tr>\n",
       "    <tr>\n",
       "      <th rowspan=\"5\" valign=\"top\">點心/零食類</th>\n",
       "      <th>肉乾/肉紙</th>\n",
       "      <td>9741</td>\n",
       "      <td>9229</td>\n",
       "    </tr>\n",
       "    <tr>\n",
       "      <th>蔬片乾</th>\n",
       "      <td>1</td>\n",
       "      <td>1</td>\n",
       "    </tr>\n",
       "    <tr>\n",
       "      <th>豆乾</th>\n",
       "      <td>596</td>\n",
       "      <td>527</td>\n",
       "    </tr>\n",
       "    <tr>\n",
       "      <th>餅乾</th>\n",
       "      <td>26196</td>\n",
       "      <td>23018</td>\n",
       "    </tr>\n",
       "    <tr>\n",
       "      <th>魷魚絲</th>\n",
       "      <td>158</td>\n",
       "      <td>136</td>\n",
       "    </tr>\n",
       "  </tbody>\n",
       "</table>\n",
       "<p>176 rows × 2 columns</p>\n",
       "</div>"
      ],
      "text/plain": [
       "                    item_name  item_name_dedupe\n",
       "item_type category                             \n",
       "3C類       手機/通訊/週邊     246679            245592\n",
       "          桌機/筆電/平板     149160            148913\n",
       "          相機/攝影/DV       6425              6358\n",
       "          虛擬/點數商品           1                 1\n",
       "          週邊/耗材         16727             16389\n",
       "...                       ...               ...\n",
       "點心/零食類    肉乾/肉紙          9741              9229\n",
       "          蔬片乾               1                 1\n",
       "          豆乾              596               527\n",
       "          餅乾            26196             23018\n",
       "          魷魚絲             158               136\n",
       "\n",
       "[176 rows x 2 columns]"
      ]
     },
     "execution_count": 9,
     "metadata": {},
     "output_type": "execute_result"
    }
   ],
   "source": [
    "df_count"
   ]
  },
  {
   "cell_type": "code",
   "execution_count": 10,
   "id": "1640ee8b-8f18-4534-8e3b-9f38a062b908",
   "metadata": {
    "tags": []
   },
   "outputs": [
    {
     "data": {
      "text/plain": [
       "(43, 2)"
      ]
     },
     "execution_count": 10,
     "metadata": {},
     "output_type": "execute_result"
    }
   ],
   "source": [
    "df_count[df_count['item_name']<10].shape#.iloc[20:]"
   ]
  },
  {
   "cell_type": "code",
   "execution_count": 11,
   "id": "9675f68c-9932-46c9-88e6-847708df18c3",
   "metadata": {
    "tags": []
   },
   "outputs": [],
   "source": [
    "rare_sample_cat = set(df_count[df_count['item_name'] < 10].reset_index()['category'])"
   ]
  },
  {
   "cell_type": "code",
   "execution_count": 12,
   "id": "ff2e68fb-36ca-4fa6-bb6c-cc95add7522a",
   "metadata": {
    "tags": []
   },
   "outputs": [
    {
     "data": {
      "text/html": [
       "<div>\n",
       "<style scoped>\n",
       "    .dataframe tbody tr th:only-of-type {\n",
       "        vertical-align: middle;\n",
       "    }\n",
       "\n",
       "    .dataframe tbody tr th {\n",
       "        vertical-align: top;\n",
       "    }\n",
       "\n",
       "    .dataframe thead th {\n",
       "        text-align: right;\n",
       "    }\n",
       "</style>\n",
       "<table border=\"1\" class=\"dataframe\">\n",
       "  <thead>\n",
       "    <tr style=\"text-align: right;\">\n",
       "      <th></th>\n",
       "      <th>item_name</th>\n",
       "      <th>item_type</th>\n",
       "      <th>category</th>\n",
       "    </tr>\n",
       "  </thead>\n",
       "  <tbody>\n",
       "    <tr>\n",
       "      <th>55420</th>\n",
       "      <td>龜田製果 嬰兒米果 53g 龜田 嬰兒米餅 日本米餅</td>\n",
       "      <td>民生食材類</td>\n",
       "      <td>嬰幼兒食品</td>\n",
       "    </tr>\n",
       "    <tr>\n",
       "      <th>55421</th>\n",
       "      <td>德國製PowR1乾糧 德軍採購同款(軍糧</td>\n",
       "      <td>民生食材類</td>\n",
       "      <td>其他民生食材</td>\n",
       "    </tr>\n",
       "    <tr>\n",
       "      <th>55422</th>\n",
       "      <td>【京工養生館】芋頭香菇粥(30gx24包)</td>\n",
       "      <td>民生食材類</td>\n",
       "      <td>沖泡即食品</td>\n",
       "    </tr>\n",
       "    <tr>\n",
       "      <th>56286</th>\n",
       "      <td>100%純生乳奶粉 隨手包</td>\n",
       "      <td>民生食材類</td>\n",
       "      <td>奶粉</td>\n",
       "    </tr>\n",
       "    <tr>\n",
       "      <th>56287</th>\n",
       "      <td>玄米油</td>\n",
       "      <td>民生食材類</td>\n",
       "      <td>油</td>\n",
       "    </tr>\n",
       "    <tr>\n",
       "      <th>177948</th>\n",
       "      <td>BLACK POWER黑水運動機能礦泉水</td>\n",
       "      <td>水類</td>\n",
       "      <td>機能水</td>\n",
       "    </tr>\n",
       "    <tr>\n",
       "      <th>208697</th>\n",
       "      <td>【華燈市】法蘭西銀6+2半吸頂燈</td>\n",
       "      <td>傢俱/家飾類</td>\n",
       "      <td>燈具</td>\n",
       "    </tr>\n",
       "    <tr>\n",
       "      <th>210403</th>\n",
       "      <td>(M)大關花泡香桃子氣泡清酒250ml</td>\n",
       "      <td>菸酒類</td>\n",
       "      <td>清酒</td>\n",
       "    </tr>\n",
       "    <tr>\n",
       "      <th>210404</th>\n",
       "      <td>月桂冠清酒</td>\n",
       "      <td>菸酒類</td>\n",
       "      <td>清酒</td>\n",
       "    </tr>\n",
       "    <tr>\n",
       "      <th>210405</th>\n",
       "      <td>金門特級高粱38度</td>\n",
       "      <td>菸酒類</td>\n",
       "      <td>清酒</td>\n",
       "    </tr>\n",
       "    <tr>\n",
       "      <th>210406</th>\n",
       "      <td>「現貨快速出貨」日本 博多 華味鳥 柚子胡椒 30g</td>\n",
       "      <td>菸酒類</td>\n",
       "      <td>清酒</td>\n",
       "    </tr>\n",
       "    <tr>\n",
       "      <th>212599</th>\n",
       "      <td>【大鵰】蔘茸藥酒300ml*24(乙類成藥)</td>\n",
       "      <td>菸酒類</td>\n",
       "      <td>藥酒</td>\n",
       "    </tr>\n",
       "    <tr>\n",
       "      <th>212600</th>\n",
       "      <td>杜瓦樂華 玫瑰微甜香檳</td>\n",
       "      <td>菸酒類</td>\n",
       "      <td>香檳氣泡酒</td>\n",
       "    </tr>\n",
       "    <tr>\n",
       "      <th>213262</th>\n",
       "      <td>Spring Vodka迷你冷泉伏特加銀牌獎</td>\n",
       "      <td>菸酒類</td>\n",
       "      <td>清酒</td>\n",
       "    </tr>\n",
       "    <tr>\n",
       "      <th>213263</th>\n",
       "      <td>金門特級高粱58度</td>\n",
       "      <td>菸酒類</td>\n",
       "      <td>清酒</td>\n",
       "    </tr>\n",
       "    <tr>\n",
       "      <th>213264</th>\n",
       "      <td>CIRIO 經典拿坡里紅醬[420g]</td>\n",
       "      <td>菸酒類</td>\n",
       "      <td>清酒</td>\n",
       "    </tr>\n",
       "    <tr>\n",
       "      <th>213265</th>\n",
       "      <td>10倍蝦幣回饋 現貨 快速出貨 梅好日子💕冰熬梅膏養生系列</td>\n",
       "      <td>菸酒類</td>\n",
       "      <td>清酒</td>\n",
       "    </tr>\n",
       "    <tr>\n",
       "      <th>214003</th>\n",
       "      <td>38°金門高粱酒</td>\n",
       "      <td>菸酒類</td>\n",
       "      <td>高粱</td>\n",
       "    </tr>\n",
       "    <tr>\n",
       "      <th>229059</th>\n",
       "      <td>黃金玉米棒</td>\n",
       "      <td>鮮食類</td>\n",
       "      <td>其他鮮食商品</td>\n",
       "    </tr>\n",
       "    <tr>\n",
       "      <th>229468</th>\n",
       "      <td>茶葉蛋,溏心蛋</td>\n",
       "      <td>鮮食類</td>\n",
       "      <td>茶葉蛋/水煮蛋</td>\n",
       "    </tr>\n",
       "    <tr>\n",
       "      <th>231244</th>\n",
       "      <td>泰式香檸嫩雞胸</td>\n",
       "      <td>鮮食類</td>\n",
       "      <td>雞胸肉</td>\n",
       "    </tr>\n",
       "    <tr>\n",
       "      <th>231653</th>\n",
       "      <td>御料小館美式香辣雞丁</td>\n",
       "      <td>鮮食類</td>\n",
       "      <td>肉品</td>\n",
       "    </tr>\n",
       "    <tr>\n",
       "      <th>655017</th>\n",
       "      <td>可可風味小農鮮奶 (熱)</td>\n",
       "      <td>飲料類</td>\n",
       "      <td>其他現調飲品</td>\n",
       "    </tr>\n",
       "    <tr>\n",
       "      <th>655018</th>\n",
       "      <td>金車健酪YoGoFresh乳酸飲料-原味580ml</td>\n",
       "      <td>飲料類</td>\n",
       "      <td>特殊風味飲品</td>\n",
       "    </tr>\n",
       "    <tr>\n",
       "      <th>666817</th>\n",
       "      <td>芭樂檸檬 (店長推薦★)</td>\n",
       "      <td>飲料類</td>\n",
       "      <td>現調果汁</td>\n",
       "    </tr>\n",
       "    <tr>\n",
       "      <th>832489</th>\n",
       "      <td>Sony PSN 面額500</td>\n",
       "      <td>3C類</td>\n",
       "      <td>虛擬/點數商品</td>\n",
       "    </tr>\n",
       "    <tr>\n",
       "      <th>852397</th>\n",
       "      <td>洗選蛋</td>\n",
       "      <td>蛋品類</td>\n",
       "      <td>生雞蛋</td>\n",
       "    </tr>\n",
       "    <tr>\n",
       "      <th>1045968</th>\n",
       "      <td>擁抱點點自動折傘(富雨洋傘聯名款/MIT製作)</td>\n",
       "      <td>日用百貨類</td>\n",
       "      <td>晴雨相關用具</td>\n",
       "    </tr>\n",
       "    <tr>\n",
       "      <th>1045969</th>\n",
       "      <td>瞬熱式電腦馬桶座</td>\n",
       "      <td>日用百貨類</td>\n",
       "      <td>衛浴用品</td>\n",
       "    </tr>\n",
       "    <tr>\n",
       "      <th>1045970</th>\n",
       "      <td>25面寬夾縫收納櫃(儲物櫃)</td>\n",
       "      <td>日用百貨類</td>\n",
       "      <td>其他日用百貨</td>\n",
       "    </tr>\n",
       "    <tr>\n",
       "      <th>1203597</th>\n",
       "      <td>湯圓</td>\n",
       "      <td>冷凍食品類</td>\n",
       "      <td>其他冷凍商品</td>\n",
       "    </tr>\n",
       "    <tr>\n",
       "      <th>1203615</th>\n",
       "      <td>冷凍覆盆莓</td>\n",
       "      <td>冷凍食品類</td>\n",
       "      <td>冷凍水果</td>\n",
       "    </tr>\n",
       "    <tr>\n",
       "      <th>1203616</th>\n",
       "      <td>黃金魚蛋</td>\n",
       "      <td>冷凍食品類</td>\n",
       "      <td>火鍋用料</td>\n",
       "    </tr>\n",
       "    <tr>\n",
       "      <th>1203617</th>\n",
       "      <td>及地冷凍水餃</td>\n",
       "      <td>冷凍食品類</td>\n",
       "      <td>冷凍水餃/點心類</td>\n",
       "    </tr>\n",
       "    <tr>\n",
       "      <th>1215400</th>\n",
       "      <td>豆皮</td>\n",
       "      <td>生鮮食品類</td>\n",
       "      <td>其他生鮮食品</td>\n",
       "    </tr>\n",
       "    <tr>\n",
       "      <th>1215401</th>\n",
       "      <td>板豆腐</td>\n",
       "      <td>生鮮食品類</td>\n",
       "      <td>豆腐</td>\n",
       "    </tr>\n",
       "    <tr>\n",
       "      <th>1217732</th>\n",
       "      <td>微波料理包</td>\n",
       "      <td>生鮮食品類</td>\n",
       "      <td>速食調理包</td>\n",
       "    </tr>\n",
       "    <tr>\n",
       "      <th>1226076</th>\n",
       "      <td>AGFMAXIM咖啡罐(藍)-奢華摩登 (80g)</td>\n",
       "      <td>咖啡類</td>\n",
       "      <td>即溶咖啡</td>\n",
       "    </tr>\n",
       "    <tr>\n",
       "      <th>1226667</th>\n",
       "      <td>【熙舍咖啡】義大利濾掛式咖啡綜合風味10g/包</td>\n",
       "      <td>咖啡類</td>\n",
       "      <td>濾掛式咖啡</td>\n",
       "    </tr>\n",
       "    <tr>\n",
       "      <th>1226668</th>\n",
       "      <td>哥倫比亞咖啡豆(Supremo等級)</td>\n",
       "      <td>咖啡類</td>\n",
       "      <td>咖啡相關食用品</td>\n",
       "    </tr>\n",
       "    <tr>\n",
       "      <th>1345793</th>\n",
       "      <td>中國時報</td>\n",
       "      <td>書本/文教用品類</td>\n",
       "      <td>報紙</td>\n",
       "    </tr>\n",
       "    <tr>\n",
       "      <th>1436966</th>\n",
       "      <td>無糖口香糖-極酷嗆涼薄荷62g</td>\n",
       "      <td>點心/零食類</td>\n",
       "      <td>口香糖</td>\n",
       "    </tr>\n",
       "    <tr>\n",
       "      <th>1478726</th>\n",
       "      <td>南瓜先生-芥末南瓜脆片70g 三入組</td>\n",
       "      <td>點心/零食類</td>\n",
       "      <td>蔬片乾</td>\n",
       "    </tr>\n",
       "    <tr>\n",
       "      <th>1569707</th>\n",
       "      <td>小人物燕麥奶</td>\n",
       "      <td>豆米漿/植物奶</td>\n",
       "      <td>燕麥奶</td>\n",
       "    </tr>\n",
       "    <tr>\n",
       "      <th>1570762</th>\n",
       "      <td>【分批取】光泉紫米燕麥糙米漿1857ml</td>\n",
       "      <td>豆米漿/植物奶</td>\n",
       "      <td>米漿</td>\n",
       "    </tr>\n",
       "    <tr>\n",
       "      <th>1570772</th>\n",
       "      <td>寶貝彈(豆奶)</td>\n",
       "      <td>豆米漿/植物奶</td>\n",
       "      <td>燕麥奶</td>\n",
       "    </tr>\n",
       "    <tr>\n",
       "      <th>1576415</th>\n",
       "      <td>【漢石齋】天然A貨 冰種飄花 翡翠手鐲玉鐲(手圍19.5/版寬14mm)</td>\n",
       "      <td>精品類</td>\n",
       "      <td>珠寶／玉石</td>\n",
       "    </tr>\n",
       "    <tr>\n",
       "      <th>1583339</th>\n",
       "      <td>寒天檸檬愛玉</td>\n",
       "      <td>冰品類</td>\n",
       "      <td>仙草/愛玉</td>\n",
       "    </tr>\n",
       "    <tr>\n",
       "      <th>1584525</th>\n",
       "      <td>百香芒果冰沙</td>\n",
       "      <td>冰品類</td>\n",
       "      <td>現調冰品</td>\n",
       "    </tr>\n",
       "    <tr>\n",
       "      <th>1584526</th>\n",
       "      <td>檸檬冰磚</td>\n",
       "      <td>冰品類</td>\n",
       "      <td>其他冰品</td>\n",
       "    </tr>\n",
       "    <tr>\n",
       "      <th>1584527</th>\n",
       "      <td>韓國YOUUS急凍冰球</td>\n",
       "      <td>冰品類</td>\n",
       "      <td>冰塊</td>\n",
       "    </tr>\n",
       "  </tbody>\n",
       "</table>\n",
       "</div>"
      ],
      "text/plain": [
       "                                    item_name item_type  category\n",
       "55420              龜田製果 嬰兒米果 53g 龜田 嬰兒米餅 日本米餅     民生食材類     嬰幼兒食品\n",
       "55421                    德國製PowR1乾糧 德軍採購同款(軍糧     民生食材類    其他民生食材\n",
       "55422                   【京工養生館】芋頭香菇粥(30gx24包)     民生食材類     沖泡即食品\n",
       "56286                           100%純生乳奶粉 隨手包     民生食材類        奶粉\n",
       "56287                                     玄米油     民生食材類         油\n",
       "177948                   BLACK POWER黑水運動機能礦泉水        水類       機能水\n",
       "208697                       【華燈市】法蘭西銀6+2半吸頂燈    傢俱/家飾類        燈具\n",
       "210403                   (M)大關花泡香桃子氣泡清酒250ml        菸酒類        清酒\n",
       "210404                                 月桂冠清酒        菸酒類        清酒\n",
       "210405                             金門特級高粱38度        菸酒類        清酒\n",
       "210406            「現貨快速出貨」日本 博多 華味鳥 柚子胡椒 30g        菸酒類        清酒\n",
       "212599                 【大鵰】蔘茸藥酒300ml*24(乙類成藥)       菸酒類        藥酒\n",
       "212600                            杜瓦樂華 玫瑰微甜香檳       菸酒類     香檳氣泡酒\n",
       "213262                Spring Vodka迷你冷泉伏特加銀牌獎        菸酒類        清酒\n",
       "213263                             金門特級高粱58度        菸酒類        清酒\n",
       "213264                   CIRIO 經典拿坡里紅醬[420g]        菸酒類        清酒\n",
       "213265         10倍蝦幣回饋 現貨 快速出貨 梅好日子💕冰熬梅膏養生系列        菸酒類        清酒\n",
       "214003                               38°金門高粱酒       菸酒類        高粱\n",
       "229059                                  黃金玉米棒       鮮食類    其他鮮食商品\n",
       "229468                                茶葉蛋,溏心蛋       鮮食類   茶葉蛋/水煮蛋\n",
       "231244                                泰式香檸嫩雞胸       鮮食類       雞胸肉\n",
       "231653                             御料小館美式香辣雞丁       鮮食類        肉品\n",
       "655017                           可可風味小農鮮奶 (熱)       飲料類    其他現調飲品\n",
       "655018              金車健酪YoGoFresh乳酸飲料-原味580ml       飲料類    特殊風味飲品\n",
       "666817                           芭樂檸檬 (店長推薦★)       飲料類      現調果汁\n",
       "832489                         Sony PSN 面額500       3C類   虛擬/點數商品\n",
       "852397                                    洗選蛋       蛋品類       生雞蛋\n",
       "1045968              擁抱點點自動折傘(富雨洋傘聯名款/MIT製作)      日用百貨類    晴雨相關用具\n",
       "1045969                              瞬熱式電腦馬桶座     日用百貨類      衛浴用品\n",
       "1045970                        25面寬夾縫收納櫃(儲物櫃)     日用百貨類    其他日用百貨\n",
       "1203597                                    湯圓     冷凍食品類    其他冷凍商品\n",
       "1203615                                 冷凍覆盆莓     冷凍食品類      冷凍水果\n",
       "1203616                                  黃金魚蛋     冷凍食品類      火鍋用料\n",
       "1203617                                及地冷凍水餃     冷凍食品類  冷凍水餃/點心類\n",
       "1215400                                    豆皮     生鮮食品類    其他生鮮食品\n",
       "1215401                                   板豆腐     生鮮食品類        豆腐\n",
       "1217732                                 微波料理包     生鮮食品類     速食調理包\n",
       "1226076             AGFMAXIM咖啡罐(藍)-奢華摩登 (80g)       咖啡類      即溶咖啡\n",
       "1226667               【熙舍咖啡】義大利濾掛式咖啡綜合風味10g/包       咖啡類     濾掛式咖啡\n",
       "1226668                    哥倫比亞咖啡豆(Supremo等級)       咖啡類   咖啡相關食用品\n",
       "1345793                                  中國時報  書本/文教用品類        報紙\n",
       "1436966                       無糖口香糖-極酷嗆涼薄荷62g    點心/零食類       口香糖\n",
       "1478726                    南瓜先生-芥末南瓜脆片70g 三入組    點心/零食類       蔬片乾\n",
       "1569707                               小人物燕麥奶    豆米漿/植物奶       燕麥奶\n",
       "1570762                  【分批取】光泉紫米燕麥糙米漿1857ml   豆米漿/植物奶        米漿\n",
       "1570772                              寶貝彈(豆奶)    豆米漿/植物奶       燕麥奶\n",
       "1576415  【漢石齋】天然A貨 冰種飄花 翡翠手鐲玉鐲(手圍19.5/版寬14mm)       精品類     珠寶／玉石\n",
       "1583339                                寒天檸檬愛玉       冰品類     仙草/愛玉\n",
       "1584525                                百香芒果冰沙       冰品類      現調冰品\n",
       "1584526                                  檸檬冰磚       冰品類      其他冰品\n",
       "1584527                           韓國YOUUS急凍冰球       冰品類        冰塊"
      ]
     },
     "execution_count": 12,
     "metadata": {},
     "output_type": "execute_result"
    }
   ],
   "source": [
    "df[df['category'].apply(lambda x: x in rare_sample_cat)]"
   ]
  },
  {
   "cell_type": "code",
   "execution_count": null,
   "id": "4c44cb93-f697-4b8d-8851-fd287a0b8cd0",
   "metadata": {
    "tags": []
   },
   "outputs": [],
   "source": []
  },
  {
   "cell_type": "code",
   "execution_count": null,
   "id": "62aaf8ad-1cc6-44b2-acd8-00e593d38978",
   "metadata": {
    "tags": []
   },
   "outputs": [],
   "source": []
  },
  {
   "cell_type": "code",
   "execution_count": 13,
   "id": "145a617d-7e1a-4461-b4b6-80901df7fefa",
   "metadata": {
    "tags": []
   },
   "outputs": [
    {
     "name": "stdout",
     "output_type": "stream",
     "text": [
      "C059\n",
      "C059\n",
      "C059\n",
      "C059\n",
      "D050000L\n",
      "DejaVu Sans\n",
      "DejaVu Sans\n",
      "DejaVu Sans\n",
      "DejaVu Sans\n",
      "DejaVu Sans\n",
      "DejaVu Sans\n",
      "DejaVu Sans\n",
      "DejaVu Sans\n",
      "DejaVu Sans\n",
      "DejaVu Sans\n",
      "DejaVu Sans\n",
      "DejaVu Sans\n",
      "DejaVu Sans\n",
      "DejaVu Sans\n",
      "DejaVu Sans Display\n",
      "DejaVu Sans Mono\n",
      "DejaVu Sans Mono\n",
      "DejaVu Sans Mono\n",
      "DejaVu Sans Mono\n",
      "DejaVu Sans Mono\n",
      "DejaVu Sans Mono\n",
      "DejaVu Sans Mono\n",
      "DejaVu Sans Mono\n",
      "DejaVu Serif\n",
      "DejaVu Serif\n",
      "DejaVu Serif\n",
      "DejaVu Serif\n",
      "DejaVu Serif Display\n",
      "Inconsolata\n",
      "Inconsolata\n",
      "Nimbus Mono PS\n",
      "Nimbus Mono PS\n",
      "Nimbus Mono PS\n",
      "Nimbus Mono PS\n",
      "Nimbus Roman\n",
      "Nimbus Roman\n",
      "Nimbus Roman\n",
      "Nimbus Roman\n",
      "Nimbus Sans\n",
      "Nimbus Sans\n",
      "Nimbus Sans\n",
      "Nimbus Sans\n",
      "Nimbus Sans Narrow\n",
      "Nimbus Sans Narrow\n",
      "Nimbus Sans Narrow\n",
      "Nimbus Sans Narrow\n",
      "P052\n",
      "P052\n",
      "P052\n",
      "P052\n",
      "STIXGeneral\n",
      "STIXGeneral\n",
      "STIXGeneral\n",
      "STIXGeneral\n",
      "STIXNonUnicode\n",
      "STIXNonUnicode\n",
      "STIXNonUnicode\n",
      "STIXNonUnicode\n",
      "STIXSizeFiveSym\n",
      "STIXSizeFourSym\n",
      "STIXSizeFourSym\n",
      "STIXSizeOneSym\n",
      "STIXSizeOneSym\n",
      "STIXSizeThreeSym\n",
      "STIXSizeThreeSym\n",
      "STIXSizeTwoSym\n",
      "STIXSizeTwoSym\n",
      "Source Code Pro\n",
      "Source Code Pro\n",
      "Source Code Pro\n",
      "Source Code Pro\n",
      "Source Code Pro\n",
      "Source Code Pro\n",
      "Source Code Pro\n",
      "Source Code Pro\n",
      "Source Code Pro\n",
      "Source Code Pro\n",
      "Source Code Pro\n",
      "Source Code Pro\n",
      "Source Code Pro\n",
      "Source Code Pro\n",
      "Taipei Sans TC Beta\n",
      "URW Bookman\n",
      "URW Bookman\n",
      "URW Bookman\n",
      "URW Bookman\n",
      "URW Gothic\n",
      "URW Gothic\n",
      "URW Gothic\n",
      "URW Gothic\n",
      "Ubuntu\n",
      "Ubuntu\n",
      "Ubuntu\n",
      "Ubuntu\n",
      "Ubuntu\n",
      "Ubuntu\n",
      "Ubuntu\n",
      "Ubuntu\n",
      "Ubuntu\n",
      "Ubuntu Condensed\n",
      "Ubuntu Mono\n",
      "Ubuntu Mono\n",
      "Ubuntu Mono\n",
      "Ubuntu Mono\n",
      "Z003\n",
      "cmb10\n",
      "cmex10\n",
      "cmmi10\n",
      "cmr10\n",
      "cmss10\n",
      "cmsy10\n",
      "cmtt10\n"
     ]
    }
   ],
   "source": [
    "import matplotlib.font_manager\n",
    " # matplotlib.__file__\n",
    "a = sorted([f.name for f in matplotlib.font_manager.fontManager.ttflist])\n",
    "for i in a:\n",
    "    print(i)"
   ]
  },
  {
   "cell_type": "code",
   "execution_count": null,
   "id": "d5187ce8-6588-426d-8c41-bdedf05832f4",
   "metadata": {
    "tags": []
   },
   "outputs": [],
   "source": []
  },
  {
   "cell_type": "code",
   "execution_count": null,
   "id": "09a1cfc5-ef6c-4343-a638-a6a0f9b73a5e",
   "metadata": {},
   "outputs": [],
   "source": []
  },
  {
   "cell_type": "code",
   "execution_count": 14,
   "id": "64373962-8745-4b63-8983-bcdcc8100a01",
   "metadata": {
    "tags": []
   },
   "outputs": [],
   "source": [
    "from matplotlib import pyplot as plt"
   ]
  },
  {
   "cell_type": "code",
   "execution_count": 15,
   "id": "8a82bc01-03d7-4080-93c0-4db2a006bf75",
   "metadata": {
    "tags": []
   },
   "outputs": [],
   "source": [
    "import matplotlib\n",
    "plt.rcParams['font.sans-serif'] = ['Taipei Sans TC Beta']"
   ]
  },
  {
   "cell_type": "code",
   "execution_count": 16,
   "id": "9867d048-e6e2-4026-afa4-c933bddc5f78",
   "metadata": {
    "tags": []
   },
   "outputs": [
    {
     "data": {
      "text/plain": [
       "26"
      ]
     },
     "execution_count": 16,
     "metadata": {},
     "output_type": "execute_result"
    }
   ],
   "source": [
    "len(set(df.item_type))"
   ]
  },
  {
   "cell_type": "code",
   "execution_count": 17,
   "id": "860faf9c-208a-429b-996f-f5fdd43a4969",
   "metadata": {
    "tags": []
   },
   "outputs": [
    {
     "data": {
      "image/png": "[encoded data removed]",
      "text/plain": [
       "<Figure size 640x480 with 1 Axes>"
      ]
     },
     "metadata": {},
     "output_type": "display_data"
    }
   ],
   "source": [
    "df['item_type'].hist(\n",
    "    bins=len(set(df.item_type)),\n",
    "    # log=True,\n",
    ")\n",
    "plt.xticks(rotation=90)\n",
    "plt.yticks(rotation=0)\n",
    "plt.show()"
   ]
  },
  {
   "cell_type": "code",
   "execution_count": 18,
   "id": "70817290-a376-4a64-bc03-a5dfa95c929e",
   "metadata": {
    "tags": []
   },
   "outputs": [
    {
     "data": {
      "image/png": "[encoded data removed]",
      "text/plain": [
       "<Figure size 640x480 with 1 Axes>"
      ]
     },
     "metadata": {},
     "output_type": "display_data"
    }
   ],
   "source": [
    "df['item_type'].hist(\n",
    "    bins=len(set(df.item_type)),\n",
    "    log=True,\n",
    ")\n",
    "plt.xticks(rotation=90)\n",
    "plt.yticks(rotation=0)\n",
    "plt.show()"
   ]
  },
  {
   "cell_type": "code",
   "execution_count": null,
   "id": "bfa218cf-cd34-4cf0-89ba-d497eb09e86a",
   "metadata": {},
   "outputs": [],
   "source": []
  },
  {
   "cell_type": "code",
   "execution_count": null,
   "id": "2d974c30-85c3-4016-b2c0-45122263aa13",
   "metadata": {},
   "outputs": [],
   "source": []
  },
  {
   "cell_type": "code",
   "execution_count": 19,
   "id": "ff268055-1e6e-4a23-98b6-ce98678511de",
   "metadata": {
    "tags": []
   },
   "outputs": [
    {
     "data": {
      "text/plain": [
       "'在商店販賣的香檳或有發泡性的酒，可參考https://www.my9.com.tw/collections/%E9%A6%99%E6%AA%B3%E6%B0%A3%E6%B3%A1%E9%85%92'"
      ]
     },
     "execution_count": 19,
     "metadata": {},
     "output_type": "execute_result"
    }
   ],
   "source": [
    "dfc.iloc[172]['description']"
   ]
  },
  {
   "cell_type": "markdown",
   "id": "69016499-0944-4509-be40-b98dc30a99c2",
   "metadata": {},
   "source": [
    "1. URL included?"
   ]
  },
  {
   "cell_type": "code",
   "execution_count": null,
   "id": "764d801a-e9d3-4fd6-929e-7ae4a8b5d6dc",
   "metadata": {},
   "outputs": [],
   "source": []
  },
  {
   "cell_type": "code",
   "execution_count": null,
   "id": "073ee43b-cfb0-41a5-8e7a-2a6064d19da7",
   "metadata": {},
   "outputs": [],
   "source": []
  },
  {
   "cell_type": "code",
   "execution_count": null,
   "id": "a713d97c-d80e-46ee-a922-cf73413cd2ec",
   "metadata": {},
   "outputs": [],
   "source": []
  },
  {
   "cell_type": "code",
   "execution_count": null,
   "id": "b86c7c75-2187-4151-acff-2ad462b4314c",
   "metadata": {},
   "outputs": [],
   "source": []
  },
  {
   "cell_type": "code",
   "execution_count": null,
   "id": "c7b38869-c0a6-4d79-b147-298908b01d7b",
   "metadata": {},
   "outputs": [],
   "source": []
  },
  {
   "cell_type": "code",
   "execution_count": null,
   "id": "0a6cebf0-523d-4780-8b39-18cc7491a6ec",
   "metadata": {},
   "outputs": [],
   "source": []
  },
  {
   "cell_type": "code",
   "execution_count": null,
   "id": "506cbc63-bf48-4047-8ac6-99acaafcff6e",
   "metadata": {},
   "outputs": [],
   "source": []
  }
 ],
 "metadata": {
  "kernelspec": {
   "display_name": "conda_python3",
   "language": "python",
   "name": "conda_python3"
  },
  "language_info": {
   "codemirror_mode": {
    "name": "ipython",
    "version": 3
   },
   "file_extension": ".py",
   "mimetype": "text/x-python",
   "name": "python",
   "nbconvert_exporter": "python",
   "pygments_lexer": "ipython3",
   "version": "3.10.10"
  }
 },
 "nbformat": 4,
 "nbformat_minor": 5
}
