{
 "cells": [
  {
   "cell_type": "code",
   "execution_count": 3,
   "id": "22d16450-89ea-474e-9f89-8cbf56d7da6a",
   "metadata": {
    "tags": []
   },
   "outputs": [],
   "source": [
    "# ! pip install text2vec"
   ]
  },
  {
   "cell_type": "code",
   "execution_count": 1,
   "id": "09195e28-c6c0-4c31-b517-2704be65f0d2",
   "metadata": {
    "tags": []
   },
   "outputs": [],
   "source": [
    "import pandas as pd"
   ]
  },
  {
   "cell_type": "code",
   "execution_count": 2,
   "id": "110aca61-591d-4c34-b198-7deb2e0b61b8",
   "metadata": {
    "tags": []
   },
   "outputs": [],
   "source": [
    "df_gen = pd.read_csv('data/df_gen.csv', index_col=0).reset_index(drop=True)"
   ]
  },
  {
   "cell_type": "code",
   "execution_count": 3,
   "id": "8a1f14f2-ebd6-4335-8ab4-78730f7cb231",
   "metadata": {
    "tags": []
   },
   "outputs": [
    {
     "name": "stderr",
     "output_type": "stream",
     "text": [
      "\u001b[32m2023-07-20 17:56:42.341\u001b[0m | \u001b[34m\u001b[1mDEBUG   \u001b[0m | \u001b[36mtext2vec.sentence_model\u001b[0m:\u001b[36m__init__\u001b[0m:\u001b[36m76\u001b[0m - \u001b[34m\u001b[1mUse device: cpu\u001b[0m\n"
     ]
    }
   ],
   "source": [
    "from text2vec import SentenceModel\n",
    "model = SentenceModel('sentence-transformers/paraphrase-multilingual-MiniLM-L12-v2')"
   ]
  },
  {
   "cell_type": "code",
   "execution_count": 3,
   "id": "c80cf22a-6dde-4f32-82b4-e440f1dcc011",
   "metadata": {
    "tags": []
   },
   "outputs": [
    {
     "data": {
      "text/plain": [
       "0        美式咖啡\n",
       "1        拿鐵咖啡\n",
       "2        卡布奇諾\n",
       "3        摩卡咖啡\n",
       "4       焦糖瑪奇朵\n",
       "        ...  \n",
       "2155     高粱麵包\n",
       "2156     高粱麵粉\n",
       "2157    高粱沙拉醬\n",
       "2158     高粱醬油\n",
       "2159      高粱醋\n",
       "Name: sample, Length: 2160, dtype: object"
      ]
     },
     "execution_count": 3,
     "metadata": {},
     "output_type": "execute_result"
    }
   ],
   "source": [
    "df_gen['sample']"
   ]
  },
  {
   "cell_type": "code",
   "execution_count": 14,
   "id": "ac7adbd5-733e-4760-bf57-d196e9ad5626",
   "metadata": {
    "tags": []
   },
   "outputs": [],
   "source": [
    "pd.set_option('display.max_rows', 50)"
   ]
  },
  {
   "cell_type": "code",
   "execution_count": 20,
   "id": "4398b936-e25b-40b8-930b-eb4d1592322f",
   "metadata": {
    "tags": []
   },
   "outputs": [
    {
     "data": {
      "text/plain": [
       "{'item_type': '飲料類', 'category': '現做茶飲品', 'sample': '奶蓋紅茶'}"
      ]
     },
     "execution_count": 20,
     "metadata": {},
     "output_type": "execute_result"
    }
   ],
   "source": []
  },
  {
   "cell_type": "code",
   "execution_count": 24,
   "id": "f385cff5-a6c8-48de-b15d-66e60e4c0b37",
   "metadata": {
    "tags": []
   },
   "outputs": [
    {
     "name": "stdout",
     "output_type": "stream",
     "text": [
      "{'item_type': '咖啡類', 'category': '即溶咖啡', 'sample': '三得利即溶咖啡'}\n",
      "{'item_type': '咖啡類', 'category': '即溶咖啡', 'sample': '立頓即溶咖啡'}\n",
      "{'item_type': '咖啡類', 'category': '即溶咖啡', 'sample': '瑞穗即溶咖啡'}\n",
      "{'item_type': '咖啡類', 'category': '即溶咖啡', 'sample': '味全即溶咖啡'}\n",
      "{'item_type': '咖啡類', 'category': '即溶咖啡', 'sample': '健康即溶咖啡'}\n",
      "{'item_type': '咖啡類', 'category': '即溶咖啡', 'sample': '葛瑞絲即溶咖啡'}\n",
      "{'item_type': '咖啡類', 'category': '即溶咖啡', 'sample': '義美即溶咖啡'}\n",
      "{'item_type': '咖啡類', 'category': '即溶咖啡', 'sample': '美味佳即溶咖啡'}\n",
      "{'item_type': '咖啡類', 'category': '即溶咖啡', 'sample': '古早味即溶咖啡'}\n",
      "{'item_type': '咖啡類', 'category': '即溶咖啡', 'sample': '雲峰即溶咖啡'}\n",
      "{'item_type': '咖啡類', 'category': '咖啡相關食用品', 'sample': '咖啡機'}\n",
      "{'item_type': '咖啡類', 'category': '咖啡相關食用品', 'sample': '咖啡杯'}\n",
      "{'item_type': '咖啡類', 'category': '咖啡相關食用品', 'sample': '咖啡豆'}\n",
      "{'item_type': '咖啡類', 'category': '咖啡相關食用品', 'sample': '咖啡濾紙'}\n",
      "{'item_type': '咖啡類', 'category': '咖啡相關食用品', 'sample': '咖啡壺'}\n",
      "{'item_type': '咖啡類', 'category': '咖啡相關食用品', 'sample': '咖啡機清潔劑'}\n",
      "{'item_type': '咖啡類', 'category': '咖啡相關食用品', 'sample': '咖啡磨豆機'}\n",
      "{'item_type': '咖啡類', 'category': '咖啡相關食用品', 'sample': '咖啡蛋糕'}\n",
      "{'item_type': '咖啡類', 'category': '咖啡相關食用品', 'sample': '咖啡機零件'}\n",
      "{'item_type': '咖啡類', 'category': '咖啡相關食用品', 'sample': '咖啡香氛蠟燭'}\n",
      "{'item_type': '咖啡類', 'category': '咖啡相關食用品', 'sample': '咖啡奶精'}\n",
      "{'item_type': '咖啡類', 'category': '咖啡相關食用品', 'sample': '咖啡糖'}\n",
      "{'item_type': '咖啡類', 'category': '咖啡相關食用品', 'sample': '咖啡植物'}\n",
      "{'item_type': '咖啡類', 'category': '咖啡相關食用品', 'sample': '咖啡香精'}\n",
      "{'item_type': '咖啡類', 'category': '咖啡相關食用品', 'sample': '咖啡塞'}\n",
      "{'item_type': '咖啡類', 'category': '咖啡相關食用品', 'sample': '咖啡包'}\n",
      "{'item_type': '咖啡類', 'category': '咖啡相關食用品', 'sample': '咖啡凍'}\n",
      "{'item_type': '咖啡類', 'category': '咖啡相關食用品', 'sample': '咖啡蛋糕模具'}\n",
      "{'item_type': '咖啡類', 'category': '咖啡相關食用品', 'sample': '咖啡風味糖漿'}\n",
      "{'item_type': '咖啡類', 'category': '咖啡相關食用品', 'sample': '咖啡杯托'}\n"
     ]
    }
   ],
   "source": [
    "for i in df_gen.iloc[50:80].iterrows():\n",
    "    print(dict(i[1]))"
   ]
  },
  {
   "cell_type": "code",
   "execution_count": null,
   "id": "ce8fd345-59af-4392-b24f-fc7b58305265",
   "metadata": {},
   "outputs": [],
   "source": []
  },
  {
   "cell_type": "code",
   "execution_count": 5,
   "id": "aea68c35-b9e9-40d5-82a3-49c3c7c4c1d7",
   "metadata": {
    "tags": []
   },
   "outputs": [],
   "source": [
    "df_samples = pd.read_csv('data/samples.csv', index_col=0)"
   ]
  },
  {
   "cell_type": "code",
   "execution_count": 8,
   "id": "3c60f6a5-39a5-4f1c-9611-fb99864e6e10",
   "metadata": {
    "tags": []
   },
   "outputs": [
    {
     "data": {
      "text/html": [
       "<div>\n",
       "<style scoped>\n",
       "    .dataframe tbody tr th:only-of-type {\n",
       "        vertical-align: middle;\n",
       "    }\n",
       "\n",
       "    .dataframe tbody tr th {\n",
       "        vertical-align: top;\n",
       "    }\n",
       "\n",
       "    .dataframe thead th {\n",
       "        text-align: right;\n",
       "    }\n",
       "</style>\n",
       "<table border=\"1\" class=\"dataframe\">\n",
       "  <thead>\n",
       "    <tr style=\"text-align: right;\">\n",
       "      <th></th>\n",
       "      <th>item_name</th>\n",
       "      <th>item_type</th>\n",
       "      <th>category</th>\n",
       "    </tr>\n",
       "  </thead>\n",
       "  <tbody>\n",
       "    <tr>\n",
       "      <th>0</th>\n",
       "      <td>統一大補帖當歸鴨細麵</td>\n",
       "      <td>民生食材類</td>\n",
       "      <td>各式麵條/拌麵</td>\n",
       "    </tr>\n",
       "    <tr>\n",
       "      <th>1</th>\n",
       "      <td>辛香菇杯麵</td>\n",
       "      <td>民生食材類</td>\n",
       "      <td>各式麵條/拌麵</td>\n",
       "    </tr>\n",
       "    <tr>\n",
       "      <th>2</th>\n",
       "      <td>(V)卜蜂義式輕食沙拉胸(4℃/110g)</td>\n",
       "      <td>民生食材類</td>\n",
       "      <td>各式麵條/拌麵</td>\n",
       "    </tr>\n",
       "    <tr>\n",
       "      <th>3</th>\n",
       "      <td>五木雞蛋麵經濟包2kg</td>\n",
       "      <td>民生食材類</td>\n",
       "      <td>各式麵條/拌麵</td>\n",
       "    </tr>\n",
       "    <tr>\n",
       "      <th>4</th>\n",
       "      <td>昇泰</td>\n",
       "      <td>民生食材類</td>\n",
       "      <td>各式麵條/拌麵</td>\n",
       "    </tr>\n",
       "    <tr>\n",
       "      <th>...</th>\n",
       "      <td>...</td>\n",
       "      <td>...</td>\n",
       "      <td>...</td>\n",
       "    </tr>\n",
       "    <tr>\n",
       "      <th>1584520</th>\n",
       "      <td>特大杯焦糖可可碎片星冰樂 2023-05-26 r5cr-7</td>\n",
       "      <td>冰品類</td>\n",
       "      <td>甜筒</td>\n",
       "    </tr>\n",
       "    <tr>\n",
       "      <th>1584521</th>\n",
       "      <td>特大杯冰椰奶那堤 2023-05-18 q1hd-rg85</td>\n",
       "      <td>冰品類</td>\n",
       "      <td>甜筒</td>\n",
       "    </tr>\n",
       "    <tr>\n",
       "      <th>1584522</th>\n",
       "      <td>特大杯冰椰奶那堤 2023-05-20 e5bd-7247</td>\n",
       "      <td>冰品類</td>\n",
       "      <td>甜筒</td>\n",
       "    </tr>\n",
       "    <tr>\n",
       "      <th>1584523</th>\n",
       "      <td>新鮮芒果西瓜牛奶綿綿冰</td>\n",
       "      <td>冰品類</td>\n",
       "      <td>甜筒</td>\n",
       "    </tr>\n",
       "    <tr>\n",
       "      <th>1584524</th>\n",
       "      <td>特大杯焦糖可可碎片星冰樂 2023-05-26 h1us-q</td>\n",
       "      <td>冰品類</td>\n",
       "      <td>甜筒</td>\n",
       "    </tr>\n",
       "  </tbody>\n",
       "</table>\n",
       "<p>510641 rows × 3 columns</p>\n",
       "</div>"
      ],
      "text/plain": [
       "                               item_name item_type category\n",
       "0                            統一大補帖當歸鴨細麵      民生食材類  各式麵條/拌麵\n",
       "1                                 辛香菇杯麵      民生食材類  各式麵條/拌麵\n",
       "2                 (V)卜蜂義式輕食沙拉胸(4℃/110g)      民生食材類  各式麵條/拌麵\n",
       "3                           五木雞蛋麵經濟包2kg      民生食材類  各式麵條/拌麵\n",
       "4                                    昇泰      民生食材類  各式麵條/拌麵\n",
       "...                                  ...       ...      ...\n",
       "1584520  特大杯焦糖可可碎片星冰樂 2023-05-26 r5cr-7        冰品類       甜筒\n",
       "1584521   特大杯冰椰奶那堤 2023-05-18 q1hd-rg85        冰品類       甜筒\n",
       "1584522   特大杯冰椰奶那堤 2023-05-20 e5bd-7247        冰品類       甜筒\n",
       "1584523                     新鮮芒果西瓜牛奶綿綿冰        冰品類       甜筒\n",
       "1584524  特大杯焦糖可可碎片星冰樂 2023-05-26 h1us-q        冰品類       甜筒\n",
       "\n",
       "[510641 rows x 3 columns]"
      ]
     },
     "execution_count": 8,
     "metadata": {},
     "output_type": "execute_result"
    }
   ],
   "source": [
    "_df"
   ]
  },
  {
   "cell_type": "code",
   "execution_count": 12,
   "id": "5d182b20-6e8c-43a0-8ac4-e6a7908a88b5",
   "metadata": {
    "tags": []
   },
   "outputs": [
    {
     "data": {
      "text/plain": [
       "32       濾掛式咖啡\n",
       "112         茶飲\n",
       "192        氣泡水\n",
       "212        機能水\n",
       "232        保久乳\n",
       "252        調味乳\n",
       "272         優格\n",
       "312        發酵乳\n",
       "332         豆漿\n",
       "472       蒸箱食品\n",
       "512         熱狗\n",
       "592         漢堡\n",
       "652         湯品\n",
       "692        雞胸肉\n",
       "752         麵包\n",
       "972       冷凍海鮮\n",
       "1032    冷凍微波料理\n",
       "1052     保健/養生\n",
       "1072        餅乾\n",
       "1092        堅果\n",
       "1132        豆乾\n",
       "1172        海苔\n",
       "1892        報紙\n",
       "2092        燈具\n",
       "2132        藥酒\n",
       "Name: category, dtype: object"
      ]
     },
     "execution_count": 12,
     "metadata": {},
     "output_type": "execute_result"
    }
   ],
   "source": [
    "bad_gen_cat_1"
   ]
  },
  {
   "cell_type": "code",
   "execution_count": 15,
   "id": "d4c77484-86e2-4df9-8653-e573a84a242d",
   "metadata": {
    "tags": []
   },
   "outputs": [],
   "source": [
    "tmp = set(df_gen.category)\n",
    "_df = df_samples[df_samples.category.apply(lambda x: x in tmp)]\n",
    "_df = _df[_df['item_name'].apply(lambda x: not x.startswith('外送費'))]\n",
    "_df = _df[_df['item_name'].apply(lambda x: not x.startswith('平台費'))]\n",
    "_df = _df[_df['item_type'].apply(lambda x: not x.startswith('3C類'))]\n",
    "\n",
    "bad_gen_cat_1 = df_gen[df_gen['sample'].apply(lambda x: '十三' in x)].category\n",
    "bad_gen_cat_2 = df_gen[df_gen['sample'].apply(lambda x: '13' in x)].category\n",
    "\n",
    "bad_gen_cat = set(list(bad_gen_cat_1) + list(bad_gen_cat_2))\n",
    "_df = _df[_df['category'].apply(lambda x: x not in bad_gen_cat)]\n",
    "\n",
    "\n",
    "tmp = set(_df['category'])\n",
    "df_gen = df_gen[df_gen['category'].apply(lambda x: x in tmp)].reset_index(drop=True)\n",
    "embeddings = model.encode(df_gen['sample'])"
   ]
  },
  {
   "cell_type": "code",
   "execution_count": 16,
   "id": "215992c1-948d-4350-96b0-4fbcb03ba771",
   "metadata": {
    "tags": []
   },
   "outputs": [
    {
     "data": {
      "text/plain": [
       "76"
      ]
     },
     "execution_count": 16,
     "metadata": {},
     "output_type": "execute_result"
    }
   ],
   "source": [
    "len(set(_df.category))"
   ]
  },
  {
   "cell_type": "code",
   "execution_count": 17,
   "id": "1323227c-9ffc-4bb6-b836-6c715cf273f8",
   "metadata": {
    "tags": []
   },
   "outputs": [
    {
     "data": {
      "text/plain": [
       "176"
      ]
     },
     "execution_count": 17,
     "metadata": {},
     "output_type": "execute_result"
    }
   ],
   "source": [
    "len(set(df_samples.category))"
   ]
  },
  {
   "cell_type": "code",
   "execution_count": null,
   "id": "be13183b-e141-4568-bf1f-568698859521",
   "metadata": {},
   "outputs": [],
   "source": []
  },
  {
   "cell_type": "code",
   "execution_count": 18,
   "id": "fbf14ca5-af3d-4925-b6a3-3cddcb8e3022",
   "metadata": {
    "tags": []
   },
   "outputs": [],
   "source": [
    "import numpy as np"
   ]
  },
  {
   "cell_type": "code",
   "execution_count": 19,
   "id": "1612dc11-1875-4a14-9296-77068fdd3e8e",
   "metadata": {
    "tags": []
   },
   "outputs": [
    {
     "data": {
      "text/plain": [
       "(384,)"
      ]
     },
     "execution_count": 19,
     "metadata": {},
     "output_type": "execute_result"
    }
   ],
   "source": [
    "model.encode(_df.sample(2).iloc[0]['item_name']).shape"
   ]
  },
  {
   "cell_type": "code",
   "execution_count": 20,
   "id": "64666d5a-3457-4a5e-a51d-1c4361060b8e",
   "metadata": {
    "tags": []
   },
   "outputs": [
    {
     "data": {
      "text/plain": [
       "(1520, 384)"
      ]
     },
     "execution_count": 20,
     "metadata": {},
     "output_type": "execute_result"
    }
   ],
   "source": [
    "embeddings.shape"
   ]
  },
  {
   "cell_type": "code",
   "execution_count": 21,
   "id": "1fce3052-7730-4780-a596-09d0c594d02e",
   "metadata": {
    "tags": []
   },
   "outputs": [],
   "source": [
    "from sklearn.metrics.pairwise import cosine_similarity"
   ]
  },
  {
   "cell_type": "code",
   "execution_count": 22,
   "id": "ae83d014-0fba-45b2-ae4c-2be2585e5b05",
   "metadata": {
    "tags": []
   },
   "outputs": [
    {
     "data": {
      "text/plain": [
       "(400255, 3)"
      ]
     },
     "execution_count": 22,
     "metadata": {},
     "output_type": "execute_result"
    }
   ],
   "source": [
    "_df.shape"
   ]
  },
  {
   "cell_type": "code",
   "execution_count": 23,
   "id": "4252b6ee-14a6-4b7b-98b2-b17ed99092a3",
   "metadata": {
    "tags": []
   },
   "outputs": [],
   "source": [
    "sample = _df.sample(1).iloc[0]\n",
    "item_name = sample['item_name']\n",
    "sim = cosine_similarity(model.encode(item_name).reshape(1, -1), embeddings)\n",
    "index = np.argmax(sim)\n",
    "score = sim[0, index]"
   ]
  },
  {
   "cell_type": "code",
   "execution_count": null,
   "id": "88f46f08-e4e8-46bd-a1a5-0347fa8285fe",
   "metadata": {},
   "outputs": [],
   "source": []
  },
  {
   "cell_type": "code",
   "execution_count": 24,
   "id": "e038897d-cce4-4857-9d3d-0c0e01fe0c23",
   "metadata": {
    "tags": []
   },
   "outputs": [
    {
     "data": {
      "text/plain": [
       "item_name    贈品-麗仕柔膚香氛沐浴乳水嫩200ml \n",
       "item_type                洗浴清潔/保養類\n",
       "category                  身體清潔/保養\n",
       "Name: 142541, dtype: object"
      ]
     },
     "execution_count": 24,
     "metadata": {},
     "output_type": "execute_result"
    }
   ],
   "source": [
    "sample"
   ]
  },
  {
   "cell_type": "code",
   "execution_count": 25,
   "id": "43886bae-2789-4bf9-9b8a-6f7e56395008",
   "metadata": {
    "tags": []
   },
   "outputs": [
    {
     "name": "stdout",
     "output_type": "stream",
     "text": [
      "score 0.70880544\n"
     ]
    },
    {
     "data": {
      "text/plain": [
       "item_type       乳品類\n",
       "category        優酪乳\n",
       "sample       百香果優酪乳\n",
       "Name: 153, dtype: object"
      ]
     },
     "execution_count": 25,
     "metadata": {},
     "output_type": "execute_result"
    }
   ],
   "source": [
    "print('score', score)\n",
    "df_gen.iloc[index]"
   ]
  },
  {
   "cell_type": "code",
   "execution_count": 26,
   "id": "48716e35-1faa-4d50-beff-38382d9f2fa9",
   "metadata": {
    "tags": []
   },
   "outputs": [],
   "source": [
    "from collections import defaultdict"
   ]
  },
  {
   "cell_type": "code",
   "execution_count": 28,
   "id": "bffa4998-34fa-4ec6-839b-4a9fc1633588",
   "metadata": {
    "tags": []
   },
   "outputs": [],
   "source": [
    "d = defaultdict(list)\n",
    "for _ in range(10000):\n",
    "    sample = _df.sample(1).iloc[0]\n",
    "    item_name = sample['item_name']\n",
    "    sim = cosine_similarity(model.encode(item_name).reshape(1, -1), embeddings)\n",
    "    index = np.argmax(sim)\n",
    "    score = sim[0, index]\n",
    "    \n",
    "    matched = df_gen.iloc[index]\n",
    "    matched_item_type = matched['item_type']\n",
    "    matched_item_category = matched['category']\n",
    "    matched_item_type_sample = matched['sample']\n",
    "    \n",
    "\n",
    "    d['item_name'].append(sample['item_name'])\n",
    "    d['item_type'].append(sample['item_type'])\n",
    "    d['category'].append(sample['category'])\n",
    "    d['score'].append(score)\n",
    "    d['matched_item_type'].append(matched_item_type)\n",
    "    d['matched_item_category'].append(matched_item_category)\n",
    "    d['matched_item_type_sample'].append(matched_item_type_sample)"
   ]
  },
  {
   "cell_type": "code",
   "execution_count": 29,
   "id": "9f22161c-23d9-48d8-a864-af7c8a18ee31",
   "metadata": {
    "tags": []
   },
   "outputs": [],
   "source": [
    "df = pd.DataFrame.from_dict(d)"
   ]
  },
  {
   "cell_type": "code",
   "execution_count": 30,
   "id": "140d35cc-7188-4cd4-a837-29faecd4ec65",
   "metadata": {
    "tags": []
   },
   "outputs": [
    {
     "data": {
      "text/plain": [
       "3310"
      ]
     },
     "execution_count": 30,
     "metadata": {},
     "output_type": "execute_result"
    }
   ],
   "source": [
    "(df['item_type'] == df['matched_item_type']).sum()"
   ]
  },
  {
   "cell_type": "code",
   "execution_count": 31,
   "id": "ec8902e7-e80e-4a8e-b11a-8f798796084b",
   "metadata": {
    "tags": []
   },
   "outputs": [
    {
     "data": {
      "text/html": [
       "<div>\n",
       "<style scoped>\n",
       "    .dataframe tbody tr th:only-of-type {\n",
       "        vertical-align: middle;\n",
       "    }\n",
       "\n",
       "    .dataframe tbody tr th {\n",
       "        vertical-align: top;\n",
       "    }\n",
       "\n",
       "    .dataframe thead th {\n",
       "        text-align: right;\n",
       "    }\n",
       "</style>\n",
       "<table border=\"1\" class=\"dataframe\">\n",
       "  <thead>\n",
       "    <tr style=\"text-align: right;\">\n",
       "      <th></th>\n",
       "      <th>item_name</th>\n",
       "      <th>item_type</th>\n",
       "      <th>category</th>\n",
       "      <th>score</th>\n",
       "      <th>matched_item_type</th>\n",
       "      <th>matched_item_category</th>\n",
       "      <th>matched_item_type_sample</th>\n",
       "    </tr>\n",
       "  </thead>\n",
       "  <tbody>\n",
       "    <tr>\n",
       "      <th>0</th>\n",
       "      <td>剪髮染髮斗篷1入-理髮圍布大人 小孩都可使用 可超取 開發票</td>\n",
       "      <td>洗浴清潔/保養類</td>\n",
       "      <td>髮部清潔/保養</td>\n",
       "      <td>0.688944</td>\n",
       "      <td>日用百貨類</td>\n",
       "      <td>家庭清潔用品</td>\n",
       "      <td>護髮素</td>\n",
       "    </tr>\n",
       "    <tr>\n",
       "      <th>1</th>\n",
       "      <td>名湯百景入浴劑25g乳頭</td>\n",
       "      <td>洗浴清潔/保養類</td>\n",
       "      <td>身體清潔/保養</td>\n",
       "      <td>0.726613</td>\n",
       "      <td>日用百貨類</td>\n",
       "      <td>家庭清潔用品</td>\n",
       "      <td>沐浴乳</td>\n",
       "    </tr>\n",
       "    <tr>\n",
       "      <th>2</th>\n",
       "      <td>蕃茄醬2包、胡椒粉</td>\n",
       "      <td>民生食材類</td>\n",
       "      <td>料理調味</td>\n",
       "      <td>0.809949</td>\n",
       "      <td>民生食材類</td>\n",
       "      <td>料理調味</td>\n",
       "      <td>胡椒粉</td>\n",
       "    </tr>\n",
       "    <tr>\n",
       "      <th>3</th>\n",
       "      <td>🔥🔥🔥台灣現貨🇹🇼LED  粒仔火 網標燈 信號燈</td>\n",
       "      <td>家電類</td>\n",
       "      <td>生活家電</td>\n",
       "      <td>0.682017</td>\n",
       "      <td>戶外休閒用品類</td>\n",
       "      <td>戶外露營</td>\n",
       "      <td>燈具</td>\n",
       "    </tr>\n",
       "    <tr>\n",
       "      <th>4</th>\n",
       "      <td>黃金 原味雞腿排 泰式雞腿排 無骨 去骨 雞腿排 210g/</td>\n",
       "      <td>冷凍食品類</td>\n",
       "      <td>冷凍肉品</td>\n",
       "      <td>0.648181</td>\n",
       "      <td>生鮮食品類</td>\n",
       "      <td>生鮮肉品</td>\n",
       "      <td>雞腿</td>\n",
       "    </tr>\n",
       "    <tr>\n",
       "      <th>...</th>\n",
       "      <td>...</td>\n",
       "      <td>...</td>\n",
       "      <td>...</td>\n",
       "      <td>...</td>\n",
       "      <td>...</td>\n",
       "      <td>...</td>\n",
       "      <td>...</td>\n",
       "    </tr>\n",
       "    <tr>\n",
       "      <th>9995</th>\n",
       "      <td>BeBeLock 鉑金TOK副食品連裝盒 15ml (四色可</td>\n",
       "      <td>日用百貨類</td>\n",
       "      <td>餐廚用品</td>\n",
       "      <td>0.604897</td>\n",
       "      <td>冷凍食品類</td>\n",
       "      <td>冷凍水餃/點心類</td>\n",
       "      <td>冷凍韭菜盒子</td>\n",
       "    </tr>\n",
       "    <tr>\n",
       "      <th>9996</th>\n",
       "      <td>【🔥台灣24H出貨🔥】玻璃杯 馬克杯 杯子 雙層玻璃杯</td>\n",
       "      <td>日用百貨類</td>\n",
       "      <td>餐廚用品</td>\n",
       "      <td>0.596858</td>\n",
       "      <td>日用百貨類</td>\n",
       "      <td>民生紙品</td>\n",
       "      <td>紙杯</td>\n",
       "    </tr>\n",
       "    <tr>\n",
       "      <th>9997</th>\n",
       "      <td>【綠綠好日】適用 小米 4Pro 抗菌HEPA濾芯 複合 顆</td>\n",
       "      <td>家電類</td>\n",
       "      <td>生活家電</td>\n",
       "      <td>0.532131</td>\n",
       "      <td>日用百貨類</td>\n",
       "      <td>家庭清潔洗劑</td>\n",
       "      <td>威露士消毒液</td>\n",
       "    </tr>\n",
       "    <tr>\n",
       "      <th>9998</th>\n",
       "      <td>【現貨 免運】 珪藻土杯墊 方/圓/素色 桌面必備 吸水杯墊</td>\n",
       "      <td>日用百貨類</td>\n",
       "      <td>餐廚用品</td>\n",
       "      <td>0.655542</td>\n",
       "      <td>洗浴清潔/保養類</td>\n",
       "      <td>女性衛生用品</td>\n",
       "      <td>卫生巾垫</td>\n",
       "    </tr>\n",
       "    <tr>\n",
       "      <th>9999</th>\n",
       "      <td>♛GEM小舖♛ 日本【MAX】石鹼體香皂(100gx3入/1</td>\n",
       "      <td>洗浴清潔/保養類</td>\n",
       "      <td>身體清潔/保養</td>\n",
       "      <td>0.487764</td>\n",
       "      <td>戶外休閒用品類</td>\n",
       "      <td>行李箱/配件</td>\n",
       "      <td>配件3</td>\n",
       "    </tr>\n",
       "  </tbody>\n",
       "</table>\n",
       "<p>10000 rows × 7 columns</p>\n",
       "</div>"
      ],
      "text/plain": [
       "                            item_name item_type category     score  \\\n",
       "0     剪髮染髮斗篷1入-理髮圍布大人 小孩都可使用 可超取 開發票   洗浴清潔/保養類  髮部清潔/保養  0.688944   \n",
       "1                       名湯百景入浴劑25g乳頭   洗浴清潔/保養類  身體清潔/保養  0.726613   \n",
       "2                          蕃茄醬2包、胡椒粉      民生食材類     料理調味  0.809949   \n",
       "3          🔥🔥🔥台灣現貨🇹🇼LED  粒仔火 網標燈 信號燈        家電類     生活家電  0.682017   \n",
       "4     黃金 原味雞腿排 泰式雞腿排 無骨 去骨 雞腿排 210g/      冷凍食品類     冷凍肉品  0.648181   \n",
       "...                               ...       ...      ...       ...   \n",
       "9995  BeBeLock 鉑金TOK副食品連裝盒 15ml (四色可      日用百貨類     餐廚用品  0.604897   \n",
       "9996    【🔥台灣24H出貨🔥】玻璃杯 馬克杯 杯子 雙層玻璃杯       日用百貨類     餐廚用品  0.596858   \n",
       "9997  【綠綠好日】適用 小米 4Pro 抗菌HEPA濾芯 複合 顆        家電類     生活家電  0.532131   \n",
       "9998  【現貨 免運】 珪藻土杯墊 方/圓/素色 桌面必備 吸水杯墊      日用百貨類     餐廚用品  0.655542   \n",
       "9999  ♛GEM小舖♛ 日本【MAX】石鹼體香皂(100gx3入/1   洗浴清潔/保養類  身體清潔/保養  0.487764   \n",
       "\n",
       "     matched_item_type matched_item_category matched_item_type_sample  \n",
       "0                日用百貨類                家庭清潔用品                      護髮素  \n",
       "1                日用百貨類                家庭清潔用品                      沐浴乳  \n",
       "2                民生食材類                  料理調味                      胡椒粉  \n",
       "3              戶外休閒用品類                  戶外露營                       燈具  \n",
       "4                生鮮食品類                  生鮮肉品                       雞腿  \n",
       "...                ...                   ...                      ...  \n",
       "9995             冷凍食品類              冷凍水餃/點心類                   冷凍韭菜盒子  \n",
       "9996             日用百貨類                  民生紙品                       紙杯  \n",
       "9997             日用百貨類                家庭清潔洗劑                   威露士消毒液  \n",
       "9998          洗浴清潔/保養類                女性衛生用品                     卫生巾垫  \n",
       "9999           戶外休閒用品類                行李箱/配件                      配件3  \n",
       "\n",
       "[10000 rows x 7 columns]"
      ]
     },
     "execution_count": 31,
     "metadata": {},
     "output_type": "execute_result"
    }
   ],
   "source": [
    "df"
   ]
  },
  {
   "cell_type": "code",
   "execution_count": 58,
   "id": "9d6fa234-2451-4321-bcd5-0bb9377ceecc",
   "metadata": {
    "tags": []
   },
   "outputs": [
    {
     "data": {
      "text/plain": [
       "0.05555555555555555"
      ]
     },
     "execution_count": 58,
     "metadata": {},
     "output_type": "execute_result"
    }
   ],
   "source": [
    "1/len(set(df['item_type']))"
   ]
  },
  {
   "cell_type": "code",
   "execution_count": 59,
   "id": "bbf1c7b8-0a40-4e34-bef5-30d30c95cdc7",
   "metadata": {
    "tags": []
   },
   "outputs": [
    {
     "data": {
      "text/plain": [
       "0.01818181818181818"
      ]
     },
     "execution_count": 59,
     "metadata": {},
     "output_type": "execute_result"
    }
   ],
   "source": [
    "1/len(set(df['category']))"
   ]
  },
  {
   "cell_type": "code",
   "execution_count": null,
   "id": "2f7d3a19-8429-413d-a314-6a72d5910e16",
   "metadata": {},
   "outputs": [],
   "source": []
  },
  {
   "cell_type": "code",
   "execution_count": 49,
   "id": "4d60fbcd-acc3-48e4-b132-0cf8d3d44666",
   "metadata": {
    "tags": []
   },
   "outputs": [
    {
     "data": {
      "text/plain": [
       "1469"
      ]
     },
     "execution_count": 49,
     "metadata": {},
     "output_type": "execute_result"
    }
   ],
   "source": [
    "(df['category'] == df['matched_item_category']).sum()"
   ]
  },
  {
   "cell_type": "code",
   "execution_count": 50,
   "id": "da8f3d01-8efa-40b7-9908-155c81b702dc",
   "metadata": {
    "tags": []
   },
   "outputs": [
    {
     "data": {
      "text/plain": [
       "55"
      ]
     },
     "execution_count": 50,
     "metadata": {},
     "output_type": "execute_result"
    }
   ],
   "source": [
    "len(set(df['category']))"
   ]
  },
  {
   "cell_type": "code",
   "execution_count": 51,
   "id": "a07972b1-f269-4e65-ae4c-b236d96e1773",
   "metadata": {
    "tags": []
   },
   "outputs": [],
   "source": [
    "df_c = df[df['category'] == df['matched_item_category']]\n",
    "df_f = df[df['category'] != df['matched_item_category']]"
   ]
  },
  {
   "cell_type": "code",
   "execution_count": 52,
   "id": "9b1da2a3-a268-4bde-a910-c39381b1fb4f",
   "metadata": {
    "tags": []
   },
   "outputs": [
    {
     "data": {
      "text/html": [
       "<div>\n",
       "<style scoped>\n",
       "    .dataframe tbody tr th:only-of-type {\n",
       "        vertical-align: middle;\n",
       "    }\n",
       "\n",
       "    .dataframe tbody tr th {\n",
       "        vertical-align: top;\n",
       "    }\n",
       "\n",
       "    .dataframe thead th {\n",
       "        text-align: right;\n",
       "    }\n",
       "</style>\n",
       "<table border=\"1\" class=\"dataframe\">\n",
       "  <thead>\n",
       "    <tr style=\"text-align: right;\">\n",
       "      <th></th>\n",
       "      <th>item_name</th>\n",
       "      <th>item_type</th>\n",
       "      <th>category</th>\n",
       "      <th>score</th>\n",
       "      <th>matched_item_type</th>\n",
       "      <th>matched_item_category</th>\n",
       "      <th>matched_item_type_sample</th>\n",
       "    </tr>\n",
       "  </thead>\n",
       "  <tbody>\n",
       "    <tr>\n",
       "      <th>2</th>\n",
       "      <td>蕃茄醬2包、胡椒粉</td>\n",
       "      <td>民生食材類</td>\n",
       "      <td>料理調味</td>\n",
       "      <td>0.809949</td>\n",
       "      <td>民生食材類</td>\n",
       "      <td>料理調味</td>\n",
       "      <td>胡椒粉</td>\n",
       "    </tr>\n",
       "    <tr>\n",
       "      <th>6</th>\n",
       "      <td>香辣豆瓣拌麵</td>\n",
       "      <td>民生食材類</td>\n",
       "      <td>各式麵條/拌麵</td>\n",
       "      <td>0.985711</td>\n",
       "      <td>民生食材類</td>\n",
       "      <td>各式麵條/拌麵</td>\n",
       "      <td>酸辣豆花拌麵</td>\n",
       "    </tr>\n",
       "    <tr>\n",
       "      <th>13</th>\n",
       "      <td>PANTENE 奇蹟煥活根源護髮精華素</td>\n",
       "      <td>洗浴清潔/保養類</td>\n",
       "      <td>髮部清潔/保養</td>\n",
       "      <td>0.783388</td>\n",
       "      <td>洗浴清潔/保養類</td>\n",
       "      <td>髮部清潔/保養</td>\n",
       "      <td>頭皮保濕護髮水</td>\n",
       "    </tr>\n",
       "    <tr>\n",
       "      <th>24</th>\n",
       "      <td>天仁茉香綠茶</td>\n",
       "      <td>飲料類</td>\n",
       "      <td>沖泡類飲品</td>\n",
       "      <td>0.967680</td>\n",
       "      <td>飲料類</td>\n",
       "      <td>沖泡類飲品</td>\n",
       "      <td>烏龍茶</td>\n",
       "    </tr>\n",
       "    <tr>\n",
       "      <th>25</th>\n",
       "      <td>【VENCEDOR】收納箱 收納櫃 可折疊抽取收納箱 抽屜式</td>\n",
       "      <td>傢俱/家飾類</td>\n",
       "      <td>傢俱</td>\n",
       "      <td>0.758251</td>\n",
       "      <td>傢俱/家飾類</td>\n",
       "      <td>傢俱</td>\n",
       "      <td>櫥櫃</td>\n",
       "    </tr>\n",
       "    <tr>\n",
       "      <th>...</th>\n",
       "      <td>...</td>\n",
       "      <td>...</td>\n",
       "      <td>...</td>\n",
       "      <td>...</td>\n",
       "      <td>...</td>\n",
       "      <td>...</td>\n",
       "      <td>...</td>\n",
       "    </tr>\n",
       "    <tr>\n",
       "      <th>9968</th>\n",
       "      <td>Saholea森歐黎漾  淨平衡洋甘菊輕感護髮素480ml</td>\n",
       "      <td>洗浴清潔/保養類</td>\n",
       "      <td>髮部清潔/保養</td>\n",
       "      <td>0.606439</td>\n",
       "      <td>洗浴清潔/保養類</td>\n",
       "      <td>髮部清潔/保養</td>\n",
       "      <td>頭皮平衡護髮水</td>\n",
       "    </tr>\n",
       "    <tr>\n",
       "      <th>9978</th>\n",
       "      <td>【DAIKIN 大金】大關U系列5-7坪變頻冷暖分離式冷氣(</td>\n",
       "      <td>家電類</td>\n",
       "      <td>大型家電</td>\n",
       "      <td>0.687696</td>\n",
       "      <td>家電類</td>\n",
       "      <td>大型家電</td>\n",
       "      <td>空調</td>\n",
       "    </tr>\n",
       "    <tr>\n",
       "      <th>9979</th>\n",
       "      <td>可口可樂汽水</td>\n",
       "      <td>飲料類</td>\n",
       "      <td>碳酸/汽水</td>\n",
       "      <td>0.906113</td>\n",
       "      <td>飲料類</td>\n",
       "      <td>碳酸/汽水</td>\n",
       "      <td>可口可樂</td>\n",
       "    </tr>\n",
       "    <tr>\n",
       "      <th>9984</th>\n",
       "      <td>【Pril 淨麗】小蘇打高效/植純萃洗碗精 1000ml(檸</td>\n",
       "      <td>日用百貨類</td>\n",
       "      <td>家庭清潔洗劑</td>\n",
       "      <td>0.734789</td>\n",
       "      <td>日用百貨類</td>\n",
       "      <td>家庭清潔洗劑</td>\n",
       "      <td>賽寶洗碗精</td>\n",
       "    </tr>\n",
       "    <tr>\n",
       "      <th>9994</th>\n",
       "      <td>可立式烘焙矽膠油刷 1支 可拆式站立油刷 油刷 矽膠油刷 燒</td>\n",
       "      <td>日用百貨類</td>\n",
       "      <td>餐廚用品</td>\n",
       "      <td>0.570778</td>\n",
       "      <td>日用百貨類</td>\n",
       "      <td>餐廚用品</td>\n",
       "      <td>烤箱鏟</td>\n",
       "    </tr>\n",
       "  </tbody>\n",
       "</table>\n",
       "<p>1469 rows × 7 columns</p>\n",
       "</div>"
      ],
      "text/plain": [
       "                            item_name item_type category     score  \\\n",
       "2                          蕃茄醬2包、胡椒粉      民生食材類     料理調味  0.809949   \n",
       "6                             香辣豆瓣拌麵      民生食材類  各式麵條/拌麵  0.985711   \n",
       "13               PANTENE 奇蹟煥活根源護髮精華素   洗浴清潔/保養類  髮部清潔/保養  0.783388   \n",
       "24                            天仁茉香綠茶        飲料類    沖泡類飲品  0.967680   \n",
       "25    【VENCEDOR】收納箱 收納櫃 可折疊抽取收納箱 抽屜式     傢俱/家飾類       傢俱  0.758251   \n",
       "...                               ...       ...      ...       ...   \n",
       "9968   Saholea森歐黎漾  淨平衡洋甘菊輕感護髮素480ml   洗浴清潔/保養類  髮部清潔/保養  0.606439   \n",
       "9978  【DAIKIN 大金】大關U系列5-7坪變頻冷暖分離式冷氣(        家電類     大型家電  0.687696   \n",
       "9979                          可口可樂汽水        飲料類    碳酸/汽水  0.906113   \n",
       "9984  【Pril 淨麗】小蘇打高效/植純萃洗碗精 1000ml(檸      日用百貨類   家庭清潔洗劑  0.734789   \n",
       "9994  可立式烘焙矽膠油刷 1支 可拆式站立油刷 油刷 矽膠油刷 燒      日用百貨類     餐廚用品  0.570778   \n",
       "\n",
       "     matched_item_type matched_item_category matched_item_type_sample  \n",
       "2                民生食材類                  料理調味                      胡椒粉  \n",
       "6                民生食材類               各式麵條/拌麵                   酸辣豆花拌麵  \n",
       "13            洗浴清潔/保養類               髮部清潔/保養                  頭皮保濕護髮水  \n",
       "24                 飲料類                 沖泡類飲品                      烏龍茶  \n",
       "25              傢俱/家飾類                    傢俱                       櫥櫃  \n",
       "...                ...                   ...                      ...  \n",
       "9968          洗浴清潔/保養類               髮部清潔/保養                  頭皮平衡護髮水  \n",
       "9978               家電類                  大型家電                       空調  \n",
       "9979               飲料類                 碳酸/汽水                     可口可樂  \n",
       "9984             日用百貨類                家庭清潔洗劑                    賽寶洗碗精  \n",
       "9994             日用百貨類                  餐廚用品                      烤箱鏟  \n",
       "\n",
       "[1469 rows x 7 columns]"
      ]
     },
     "execution_count": 52,
     "metadata": {},
     "output_type": "execute_result"
    }
   ],
   "source": [
    "df_c"
   ]
  },
  {
   "cell_type": "code",
   "execution_count": 53,
   "id": "aef14a64-8bd6-4b58-b4b0-1eabb5fde57c",
   "metadata": {
    "tags": []
   },
   "outputs": [
    {
     "data": {
      "text/html": [
       "<div>\n",
       "<style scoped>\n",
       "    .dataframe tbody tr th:only-of-type {\n",
       "        vertical-align: middle;\n",
       "    }\n",
       "\n",
       "    .dataframe tbody tr th {\n",
       "        vertical-align: top;\n",
       "    }\n",
       "\n",
       "    .dataframe thead th {\n",
       "        text-align: right;\n",
       "    }\n",
       "</style>\n",
       "<table border=\"1\" class=\"dataframe\">\n",
       "  <thead>\n",
       "    <tr style=\"text-align: right;\">\n",
       "      <th></th>\n",
       "      <th>item_name</th>\n",
       "      <th>item_type</th>\n",
       "      <th>category</th>\n",
       "      <th>score</th>\n",
       "      <th>matched_item_type</th>\n",
       "      <th>matched_item_category</th>\n",
       "      <th>matched_item_type_sample</th>\n",
       "    </tr>\n",
       "  </thead>\n",
       "  <tbody>\n",
       "    <tr>\n",
       "      <th>0</th>\n",
       "      <td>剪髮染髮斗篷1入-理髮圍布大人 小孩都可使用 可超取 開發票</td>\n",
       "      <td>洗浴清潔/保養類</td>\n",
       "      <td>髮部清潔/保養</td>\n",
       "      <td>0.688944</td>\n",
       "      <td>日用百貨類</td>\n",
       "      <td>家庭清潔用品</td>\n",
       "      <td>護髮素</td>\n",
       "    </tr>\n",
       "    <tr>\n",
       "      <th>1</th>\n",
       "      <td>名湯百景入浴劑25g乳頭</td>\n",
       "      <td>洗浴清潔/保養類</td>\n",
       "      <td>身體清潔/保養</td>\n",
       "      <td>0.726613</td>\n",
       "      <td>日用百貨類</td>\n",
       "      <td>家庭清潔用品</td>\n",
       "      <td>沐浴乳</td>\n",
       "    </tr>\n",
       "    <tr>\n",
       "      <th>3</th>\n",
       "      <td>🔥🔥🔥台灣現貨🇹🇼LED  粒仔火 網標燈 信號燈</td>\n",
       "      <td>家電類</td>\n",
       "      <td>生活家電</td>\n",
       "      <td>0.682017</td>\n",
       "      <td>戶外休閒用品類</td>\n",
       "      <td>戶外露營</td>\n",
       "      <td>燈具</td>\n",
       "    </tr>\n",
       "    <tr>\n",
       "      <th>4</th>\n",
       "      <td>黃金 原味雞腿排 泰式雞腿排 無骨 去骨 雞腿排 210g/</td>\n",
       "      <td>冷凍食品類</td>\n",
       "      <td>冷凍肉品</td>\n",
       "      <td>0.648181</td>\n",
       "      <td>生鮮食品類</td>\n",
       "      <td>生鮮肉品</td>\n",
       "      <td>雞腿</td>\n",
       "    </tr>\n",
       "    <tr>\n",
       "      <th>5</th>\n",
       "      <td>🏠好來屋🏠WELLS LAMONT 美國尺寸工作手套十雙</td>\n",
       "      <td>家電類</td>\n",
       "      <td>生活家電</td>\n",
       "      <td>0.609391</td>\n",
       "      <td>戶外休閒用品類</td>\n",
       "      <td>行李箱/配件</td>\n",
       "      <td>配件10</td>\n",
       "    </tr>\n",
       "    <tr>\n",
       "      <th>...</th>\n",
       "      <td>...</td>\n",
       "      <td>...</td>\n",
       "      <td>...</td>\n",
       "      <td>...</td>\n",
       "      <td>...</td>\n",
       "      <td>...</td>\n",
       "      <td>...</td>\n",
       "    </tr>\n",
       "    <tr>\n",
       "      <th>9995</th>\n",
       "      <td>BeBeLock 鉑金TOK副食品連裝盒 15ml (四色可</td>\n",
       "      <td>日用百貨類</td>\n",
       "      <td>餐廚用品</td>\n",
       "      <td>0.604897</td>\n",
       "      <td>冷凍食品類</td>\n",
       "      <td>冷凍水餃/點心類</td>\n",
       "      <td>冷凍韭菜盒子</td>\n",
       "    </tr>\n",
       "    <tr>\n",
       "      <th>9996</th>\n",
       "      <td>【🔥台灣24H出貨🔥】玻璃杯 馬克杯 杯子 雙層玻璃杯</td>\n",
       "      <td>日用百貨類</td>\n",
       "      <td>餐廚用品</td>\n",
       "      <td>0.596858</td>\n",
       "      <td>日用百貨類</td>\n",
       "      <td>民生紙品</td>\n",
       "      <td>紙杯</td>\n",
       "    </tr>\n",
       "    <tr>\n",
       "      <th>9997</th>\n",
       "      <td>【綠綠好日】適用 小米 4Pro 抗菌HEPA濾芯 複合 顆</td>\n",
       "      <td>家電類</td>\n",
       "      <td>生活家電</td>\n",
       "      <td>0.532131</td>\n",
       "      <td>日用百貨類</td>\n",
       "      <td>家庭清潔洗劑</td>\n",
       "      <td>威露士消毒液</td>\n",
       "    </tr>\n",
       "    <tr>\n",
       "      <th>9998</th>\n",
       "      <td>【現貨 免運】 珪藻土杯墊 方/圓/素色 桌面必備 吸水杯墊</td>\n",
       "      <td>日用百貨類</td>\n",
       "      <td>餐廚用品</td>\n",
       "      <td>0.655542</td>\n",
       "      <td>洗浴清潔/保養類</td>\n",
       "      <td>女性衛生用品</td>\n",
       "      <td>卫生巾垫</td>\n",
       "    </tr>\n",
       "    <tr>\n",
       "      <th>9999</th>\n",
       "      <td>♛GEM小舖♛ 日本【MAX】石鹼體香皂(100gx3入/1</td>\n",
       "      <td>洗浴清潔/保養類</td>\n",
       "      <td>身體清潔/保養</td>\n",
       "      <td>0.487764</td>\n",
       "      <td>戶外休閒用品類</td>\n",
       "      <td>行李箱/配件</td>\n",
       "      <td>配件3</td>\n",
       "    </tr>\n",
       "  </tbody>\n",
       "</table>\n",
       "<p>8531 rows × 7 columns</p>\n",
       "</div>"
      ],
      "text/plain": [
       "                            item_name item_type category     score  \\\n",
       "0     剪髮染髮斗篷1入-理髮圍布大人 小孩都可使用 可超取 開發票   洗浴清潔/保養類  髮部清潔/保養  0.688944   \n",
       "1                       名湯百景入浴劑25g乳頭   洗浴清潔/保養類  身體清潔/保養  0.726613   \n",
       "3          🔥🔥🔥台灣現貨🇹🇼LED  粒仔火 網標燈 信號燈        家電類     生活家電  0.682017   \n",
       "4     黃金 原味雞腿排 泰式雞腿排 無骨 去骨 雞腿排 210g/      冷凍食品類     冷凍肉品  0.648181   \n",
       "5       🏠好來屋🏠WELLS LAMONT 美國尺寸工作手套十雙        家電類     生活家電  0.609391   \n",
       "...                               ...       ...      ...       ...   \n",
       "9995  BeBeLock 鉑金TOK副食品連裝盒 15ml (四色可      日用百貨類     餐廚用品  0.604897   \n",
       "9996    【🔥台灣24H出貨🔥】玻璃杯 馬克杯 杯子 雙層玻璃杯       日用百貨類     餐廚用品  0.596858   \n",
       "9997  【綠綠好日】適用 小米 4Pro 抗菌HEPA濾芯 複合 顆        家電類     生活家電  0.532131   \n",
       "9998  【現貨 免運】 珪藻土杯墊 方/圓/素色 桌面必備 吸水杯墊      日用百貨類     餐廚用品  0.655542   \n",
       "9999  ♛GEM小舖♛ 日本【MAX】石鹼體香皂(100gx3入/1   洗浴清潔/保養類  身體清潔/保養  0.487764   \n",
       "\n",
       "     matched_item_type matched_item_category matched_item_type_sample  \n",
       "0                日用百貨類                家庭清潔用品                      護髮素  \n",
       "1                日用百貨類                家庭清潔用品                      沐浴乳  \n",
       "3              戶外休閒用品類                  戶外露營                       燈具  \n",
       "4                生鮮食品類                  生鮮肉品                       雞腿  \n",
       "5              戶外休閒用品類                行李箱/配件                     配件10  \n",
       "...                ...                   ...                      ...  \n",
       "9995             冷凍食品類              冷凍水餃/點心類                   冷凍韭菜盒子  \n",
       "9996             日用百貨類                  民生紙品                       紙杯  \n",
       "9997             日用百貨類                家庭清潔洗劑                   威露士消毒液  \n",
       "9998          洗浴清潔/保養類                女性衛生用品                     卫生巾垫  \n",
       "9999           戶外休閒用品類                行李箱/配件                      配件3  \n",
       "\n",
       "[8531 rows x 7 columns]"
      ]
     },
     "execution_count": 53,
     "metadata": {},
     "output_type": "execute_result"
    }
   ],
   "source": [
    "df_f"
   ]
  },
  {
   "cell_type": "code",
   "execution_count": 48,
   "id": "49d2d423-51c0-4551-83f0-0b7736ec2685",
   "metadata": {
    "tags": []
   },
   "outputs": [
    {
     "data": {
      "text/html": [
       "<div>\n",
       "<style scoped>\n",
       "    .dataframe tbody tr th:only-of-type {\n",
       "        vertical-align: middle;\n",
       "    }\n",
       "\n",
       "    .dataframe tbody tr th {\n",
       "        vertical-align: top;\n",
       "    }\n",
       "\n",
       "    .dataframe thead th {\n",
       "        text-align: right;\n",
       "    }\n",
       "</style>\n",
       "<table border=\"1\" class=\"dataframe\">\n",
       "  <thead>\n",
       "    <tr style=\"text-align: right;\">\n",
       "      <th></th>\n",
       "      <th>item_name</th>\n",
       "      <th>item_type</th>\n",
       "      <th>category</th>\n",
       "      <th>score</th>\n",
       "      <th>matched_item_type</th>\n",
       "      <th>matched_item_category</th>\n",
       "      <th>matched_item_type_sample</th>\n",
       "    </tr>\n",
       "  </thead>\n",
       "  <tbody>\n",
       "    <tr>\n",
       "      <th>9</th>\n",
       "      <td>檸檬馬鞭草液態皂</td>\n",
       "      <td>洗浴清潔/保養類</td>\n",
       "      <td>身體清潔/保養</td>\n",
       "      <td>0.822758</td>\n",
       "      <td>冰品類</td>\n",
       "      <td>甜筒</td>\n",
       "      <td>檸檬甜筒</td>\n",
       "    </tr>\n",
       "    <tr>\n",
       "      <th>23</th>\n",
       "      <td>一配明太子龍蝦風味沙拉飯糰</td>\n",
       "      <td>鮮食類</td>\n",
       "      <td>米飯類</td>\n",
       "      <td>0.852315</td>\n",
       "      <td>民生食材類</td>\n",
       "      <td>各式麵條/拌麵</td>\n",
       "      <td>榨菜肉絲麵</td>\n",
       "    </tr>\n",
       "    <tr>\n",
       "      <th>26</th>\n",
       "      <td>妮維雅男士極淨刮鬍泡</td>\n",
       "      <td>洗浴清潔/保養類</td>\n",
       "      <td>男性用品/保養</td>\n",
       "      <td>0.832793</td>\n",
       "      <td>日用百貨類</td>\n",
       "      <td>衛浴用品</td>\n",
       "      <td>刮鬍刀</td>\n",
       "    </tr>\n",
       "    <tr>\n",
       "      <th>61</th>\n",
       "      <td>家樂福 薄荷沐浴乳 2000ml【家樂福】</td>\n",
       "      <td>洗浴清潔/保養類</td>\n",
       "      <td>身體清潔/保養</td>\n",
       "      <td>0.837991</td>\n",
       "      <td>日用百貨類</td>\n",
       "      <td>嬰幼兒用品</td>\n",
       "      <td>奶瓶溫奶器</td>\n",
       "    </tr>\n",
       "    <tr>\n",
       "      <th>81</th>\n",
       "      <td>素面沐浴澡巾</td>\n",
       "      <td>洗浴清潔/保養類</td>\n",
       "      <td>身體清潔/保養</td>\n",
       "      <td>0.925708</td>\n",
       "      <td>洗浴清潔/保養類</td>\n",
       "      <td>女性衛生用品</td>\n",
       "      <td>卫生湿巾</td>\n",
       "    </tr>\n",
       "    <tr>\n",
       "      <th>...</th>\n",
       "      <td>...</td>\n",
       "      <td>...</td>\n",
       "      <td>...</td>\n",
       "      <td>...</td>\n",
       "      <td>...</td>\n",
       "      <td>...</td>\n",
       "      <td>...</td>\n",
       "    </tr>\n",
       "    <tr>\n",
       "      <th>9895</th>\n",
       "      <td>扁蒲(梨仔)</td>\n",
       "      <td>生鮮食品類</td>\n",
       "      <td>生鮮水果</td>\n",
       "      <td>0.876274</td>\n",
       "      <td>民生食材類</td>\n",
       "      <td>果醬/抹醬</td>\n",
       "      <td>火龍果醬</td>\n",
       "    </tr>\n",
       "    <tr>\n",
       "      <th>9917</th>\n",
       "      <td>【現貨】極致無痕收邊純色腰頭四角褲 無痕內褲 四角褲 四角褲</td>\n",
       "      <td>服飾鞋包類</td>\n",
       "      <td>男女內著</td>\n",
       "      <td>0.810559</td>\n",
       "      <td>洗浴清潔/保養類</td>\n",
       "      <td>女性衛生用品</td>\n",
       "      <td>卫生内裤</td>\n",
       "    </tr>\n",
       "    <tr>\n",
       "      <th>9926</th>\n",
       "      <td>團Lotte杏巧脆皮雪糕</td>\n",
       "      <td>冰品類</td>\n",
       "      <td>冰棒/雪糕</td>\n",
       "      <td>0.878957</td>\n",
       "      <td>鮮食類</td>\n",
       "      <td>麵食類</td>\n",
       "      <td>麻辣炒年糕</td>\n",
       "    </tr>\n",
       "    <tr>\n",
       "      <th>9930</th>\n",
       "      <td>紀文 鱈寶</td>\n",
       "      <td>生鮮食品類</td>\n",
       "      <td>生鮮肉品</td>\n",
       "      <td>0.839144</td>\n",
       "      <td>民生食材類</td>\n",
       "      <td>南北乾貨/雜糧食材</td>\n",
       "      <td>黑藜</td>\n",
       "    </tr>\n",
       "    <tr>\n",
       "      <th>9947</th>\n",
       "      <td>去冰加蓋蛋塔炸雞都</td>\n",
       "      <td>日用百貨類</td>\n",
       "      <td>餐廚用品</td>\n",
       "      <td>0.803579</td>\n",
       "      <td>鮮食類</td>\n",
       "      <td>小菜/滷味</td>\n",
       "      <td>滷卤蛋</td>\n",
       "    </tr>\n",
       "  </tbody>\n",
       "</table>\n",
       "<p>1044 rows × 7 columns</p>\n",
       "</div>"
      ],
      "text/plain": [
       "                            item_name item_type category     score  \\\n",
       "9                           檸檬馬鞭草液態皂   洗浴清潔/保養類  身體清潔/保養  0.822758   \n",
       "23                     一配明太子龍蝦風味沙拉飯糰        鮮食類      米飯類  0.852315   \n",
       "26                        妮維雅男士極淨刮鬍泡   洗浴清潔/保養類  男性用品/保養  0.832793   \n",
       "61             家樂福 薄荷沐浴乳 2000ml【家樂福】   洗浴清潔/保養類  身體清潔/保養  0.837991   \n",
       "81                            素面沐浴澡巾   洗浴清潔/保養類  身體清潔/保養  0.925708   \n",
       "...                               ...       ...      ...       ...   \n",
       "9895                          扁蒲(梨仔)      生鮮食品類     生鮮水果  0.876274   \n",
       "9917  【現貨】極致無痕收邊純色腰頭四角褲 無痕內褲 四角褲 四角褲      服飾鞋包類     男女內著  0.810559   \n",
       "9926                    團Lotte杏巧脆皮雪糕        冰品類    冰棒/雪糕  0.878957   \n",
       "9930                           紀文 鱈寶      生鮮食品類     生鮮肉品  0.839144   \n",
       "9947                       去冰加蓋蛋塔炸雞都      日用百貨類     餐廚用品  0.803579   \n",
       "\n",
       "     matched_item_type matched_item_category matched_item_type_sample  \n",
       "9                  冰品類                    甜筒                     檸檬甜筒  \n",
       "23               民生食材類               各式麵條/拌麵                    榨菜肉絲麵  \n",
       "26               日用百貨類                  衛浴用品                      刮鬍刀  \n",
       "61               日用百貨類                 嬰幼兒用品                    奶瓶溫奶器  \n",
       "81            洗浴清潔/保養類                女性衛生用品                     卫生湿巾  \n",
       "...                ...                   ...                      ...  \n",
       "9895             民生食材類                 果醬/抹醬                     火龍果醬  \n",
       "9917          洗浴清潔/保養類                女性衛生用品                     卫生内裤  \n",
       "9926               鮮食類                   麵食類                    麻辣炒年糕  \n",
       "9930             民生食材類             南北乾貨/雜糧食材                       黑藜  \n",
       "9947               鮮食類                 小菜/滷味                      滷卤蛋  \n",
       "\n",
       "[1044 rows x 7 columns]"
      ]
     },
     "execution_count": 48,
     "metadata": {},
     "output_type": "execute_result"
    }
   ],
   "source": [
    "df_f[df_f['score']>0.8]"
   ]
  },
  {
   "cell_type": "code",
   "execution_count": 38,
   "id": "0c3f87ab-6a13-4073-9b14-5f5c68cdfd9d",
   "metadata": {
    "tags": []
   },
   "outputs": [],
   "source": [
    "from matplotlib import pyplot as plt"
   ]
  },
  {
   "cell_type": "code",
   "execution_count": 42,
   "id": "7eb05316-09ee-4971-a85f-0548d0a836ea",
   "metadata": {
    "tags": []
   },
   "outputs": [
    {
     "data": {
      "text/plain": [
       "<matplotlib.legend.Legend at 0x7f6616493040>"
      ]
     },
     "execution_count": 42,
     "metadata": {},
     "output_type": "execute_result"
    },
    {
     "data": {
      "image/png": "[encoded data removed]",
      "text/plain": [
       "<Figure size 640x480 with 1 Axes>"
      ]
     },
     "metadata": {},
     "output_type": "display_data"
    }
   ],
   "source": [
    "df_c.score.hist(density=True, bins=50, alpha=0.5, label='Correct')\n",
    "df_f.score.hist(density=True, bins=50, alpha=0.5, label='False')\n",
    "plt.legend()"
   ]
  },
  {
   "cell_type": "code",
   "execution_count": null,
   "id": "450e6349-003f-4219-a1e2-3c1300e9cb2b",
   "metadata": {},
   "outputs": [],
   "source": []
  },
  {
   "cell_type": "code",
   "execution_count": null,
   "id": "0e4d1ce0-3bdf-4318-9945-6db90ece62e0",
   "metadata": {},
   "outputs": [],
   "source": []
  },
  {
   "cell_type": "code",
   "execution_count": null,
   "id": "2709e89f-2c15-4831-9868-bbb53290e1a2",
   "metadata": {},
   "outputs": [],
   "source": []
  },
  {
   "cell_type": "code",
   "execution_count": null,
   "id": "71601013-fb50-42ec-bf45-5815c5aee2e2",
   "metadata": {},
   "outputs": [],
   "source": []
  }
 ],
 "metadata": {
  "kernelspec": {
   "display_name": "conda_pytorch_p310",
   "language": "python",
   "name": "conda_pytorch_p310"
  },
  "language_info": {
   "codemirror_mode": {
    "name": "ipython",
    "version": 3
   },
   "file_extension": ".py",
   "mimetype": "text/x-python",
   "name": "python",
   "nbconvert_exporter": "python",
   "pygments_lexer": "ipython3",
   "version": "3.10.10"
  }
 },
 "nbformat": 4,
 "nbformat_minor": 5
}
