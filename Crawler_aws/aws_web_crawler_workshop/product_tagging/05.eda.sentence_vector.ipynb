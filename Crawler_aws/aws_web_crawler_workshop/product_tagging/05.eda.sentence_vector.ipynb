{
 "cells": [
  {
   "cell_type": "code",
   "execution_count": null,
   "id": "389d6b3f-adba-41e7-a83a-e76e2b6e95d0",
   "metadata": {
    "tags": []
   },
   "outputs": [],
   "source": [
    "# pip install -U text2vec"
   ]
  },
  {
   "cell_type": "code",
   "execution_count": null,
   "id": "411418d9-9941-4eea-ba8f-12a8307426ec",
   "metadata": {
    "tags": []
   },
   "outputs": [],
   "source": [
    "from text2vec import SentenceModel\n",
    "model = SentenceModel('sentence-transformers/paraphrase-multilingual-MiniLM-L12-v2')"
   ]
  },
  {
   "cell_type": "code",
   "execution_count": null,
   "id": "2079c882-c748-4166-b5de-8f4fca8c2b6f",
   "metadata": {
    "tags": []
   },
   "outputs": [],
   "source": [
    "import pandas as pd\n",
    "df = pd.read_csv('data/samples.csv', index_col=0)\n",
    "dfc = pd.read_csv('data/category.csv')"
   ]
  },
  {
   "cell_type": "code",
   "execution_count": null,
   "id": "cdfe3a90-42e4-45a2-8479-30ac3ae4b8b7",
   "metadata": {
    "tags": []
   },
   "outputs": [],
   "source": [
    "%%timeit\n",
    "embeddings = model.encode(df['item_name'][:1000])\n",
    "# print(embeddings)"
   ]
  },
  {
   "cell_type": "code",
   "execution_count": null,
   "id": "daaab0cb-55b1-41e6-a9e8-23fa0a58fd90",
   "metadata": {
    "tags": []
   },
   "outputs": [],
   "source": [
    "df_sub = df.sample(frac=0.01).reset_index(drop=True)"
   ]
  },
  {
   "cell_type": "code",
   "execution_count": null,
   "id": "a5fad6fa-921c-4d08-a8bf-d6cf9d805873",
   "metadata": {
    "tags": []
   },
   "outputs": [],
   "source": [
    "embeddings = model.encode(df_sub['item_name'])"
   ]
  },
  {
   "cell_type": "code",
   "execution_count": null,
   "id": "7def1b29-bb56-4090-ba8b-56f219cd705b",
   "metadata": {},
   "outputs": [],
   "source": []
  },
  {
   "cell_type": "code",
   "execution_count": null,
   "id": "eb635749-786f-4a0c-886f-a269ea8d263e",
   "metadata": {
    "tags": []
   },
   "outputs": [],
   "source": [
    "from sklearn.manifold import TSNE\n",
    "# Instantialte tsne, specify cosine metric\n",
    "tsne = TSNE(random_state = 0, n_iter = 1000, metric = 'cosine')"
   ]
  },
  {
   "cell_type": "code",
   "execution_count": null,
   "id": "20baf421-1f44-44d3-959f-04f1d9424269",
   "metadata": {
    "tags": []
   },
   "outputs": [],
   "source": [
    "# Fit and transform\n",
    "embeddings2d = tsne.fit_transform(embeddings)"
   ]
  },
  {
   "cell_type": "code",
   "execution_count": null,
   "id": "3a954e1c-657f-4de0-9f72-096541b39105",
   "metadata": {
    "tags": []
   },
   "outputs": [],
   "source": [
    "# Add x coordinate\n",
    "df_sub['x'] = embeddings2d[:,0]\n",
    "# Add y coordinate\n",
    "df_sub['y'] = embeddings2d[:,1]"
   ]
  },
  {
   "cell_type": "code",
   "execution_count": null,
   "id": "fb30059a-11f3-4987-a7df-119f50b3aefc",
   "metadata": {
    "tags": []
   },
   "outputs": [],
   "source": [
    "df_sub"
   ]
  },
  {
   "cell_type": "code",
   "execution_count": null,
   "id": "3509c532-8616-4960-b4bc-86fa59c236a5",
   "metadata": {
    "tags": []
   },
   "outputs": [],
   "source": [
    "from matplotlib import pyplot as plt\n",
    "plt.rcParams['font.sans-serif'] = ['Taipei Sans TC Beta']"
   ]
  },
  {
   "cell_type": "code",
   "execution_count": null,
   "id": "aea6708c-4395-40a4-827a-ebbbf92b857e",
   "metadata": {
    "tags": []
   },
   "outputs": [],
   "source": [
    "df_sub.to_pickle('05.df.pkl')"
   ]
  },
  {
   "cell_type": "code",
   "execution_count": null,
   "id": "e1f401bf-fbcf-47f1-a152-5dbf2e61c3b1",
   "metadata": {
    "tags": []
   },
   "outputs": [],
   "source": [
    "fig, ax = plt.subplots(figsize=(10,8))\n",
    "# plt.title('Scatter plot of games using t-SNE')\n",
    "\n",
    "for item_type, _df in df_sub.groupby(by='item_type'): \n",
    "    print(item_type)\n",
    "    ax.scatter(_df.x, _df.y, alpha=.1, label=item_type)\n",
    "plt.legend()\n",
    "plt.show()"
   ]
  },
  {
   "cell_type": "code",
   "execution_count": null,
   "id": "bb047444-e6f2-4ce8-84d7-1520ca8be7a9",
   "metadata": {},
   "outputs": [],
   "source": []
  },
  {
   "cell_type": "code",
   "execution_count": null,
   "id": "864d739e-e2da-46c9-b84d-f8a9b8eaa89f",
   "metadata": {},
   "outputs": [],
   "source": []
  },
  {
   "cell_type": "code",
   "execution_count": null,
   "id": "860ca392-3c88-44c8-9950-ac0777fd6234",
   "metadata": {},
   "outputs": [],
   "source": []
  },
  {
   "cell_type": "code",
   "execution_count": null,
   "id": "02ca17db-9c47-4d67-87dd-51688fbfaecf",
   "metadata": {},
   "outputs": [],
   "source": []
  },
  {
   "cell_type": "code",
   "execution_count": null,
   "id": "a70e524f-f19e-49f2-8b48-e0107e7e3d18",
   "metadata": {},
   "outputs": [],
   "source": []
  },
  {
   "cell_type": "code",
   "execution_count": null,
   "id": "61678622-95ac-4deb-836f-f72c7babc995",
   "metadata": {},
   "outputs": [],
   "source": []
  },
  {
   "cell_type": "code",
   "execution_count": null,
   "id": "e32e5700-31f2-4fde-ba0b-a71648b936f4",
   "metadata": {},
   "outputs": [],
   "source": []
  }
 ],
 "metadata": {
  "kernelspec": {
   "display_name": "conda_pytorch_p310",
   "language": "python",
   "name": "conda_pytorch_p310"
  },
  "language_info": {
   "codemirror_mode": {
    "name": "ipython",
    "version": 3
   },
   "file_extension": ".py",
   "mimetype": "text/x-python",
   "name": "python",
   "nbconvert_exporter": "python",
   "pygments_lexer": "ipython3",
   "version": "3.10.10"
  }
 },
 "nbformat": 4,
 "nbformat_minor": 5
}
