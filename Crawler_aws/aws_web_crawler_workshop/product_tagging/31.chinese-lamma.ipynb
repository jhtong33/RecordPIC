{
 "cells": [
  {
   "cell_type": "code",
   "execution_count": null,
   "id": "253f2d01-346c-43d8-908f-0fe37eeb2dee",
   "metadata": {},
   "outputs": [],
   "source": []
  },
  {
   "cell_type": "code",
   "execution_count": 1,
   "id": "ebb3a63c-5a17-4267-b8dd-00839258cae2",
   "metadata": {
    "tags": []
   },
   "outputs": [
    {
     "name": "stdout",
     "output_type": "stream",
     "text": [
      "------------------------!"
     ]
    },
    {
     "data": {
      "text/plain": [
       "[{'generated_text': \"[INST] <<SYS>>\\nYou are a helpful, respectful and honest assistant. Always answer as helpfully as possible, while being safe.  Your answers should not include any harmful, unethical, racist, sexist, toxic, dangerous, or illegal content. Please ensure that your responses are socially unbiased and positive in nature.\\n            If a question does not make any sense, or is not factually coherent, explain why instead of answering something not correct. If you don't know the answer to a question, please don't share false information.\\n<</SYS>>\\n\\n用中文回答，When is the best time to visit Beijing, and do you have any suggestions for me? [/INST]When is the best time to visit Beijing?\\n\\nThe best time to visit Beij\"}]"
      ]
     },
     "execution_count": 1,
     "metadata": {},
     "output_type": "execute_result"
    }
   ],
   "source": [
    "import json\n",
    "import sagemaker\n",
    "import boto3\n",
    "from sagemaker.huggingface import HuggingFaceModel, get_huggingface_llm_image_uri\n",
    "\n",
    "try:\n",
    "\trole = sagemaker.get_execution_role()\n",
    "except ValueError:\n",
    "\tiam = boto3.client('iam')\n",
    "\trole = iam.get_role(RoleName='sagemaker_execution_role')['Role']['Arn']\n",
    "\n",
    "# Hub Model configuration. https://huggingface.co/models\n",
    "hub = {\n",
    "\t'HF_MODEL_ID':'LinkSoul/Chinese-Llama-2-7b',\n",
    "\t'SM_NUM_GPUS': json.dumps(1)\n",
    "}\n",
    "\n",
    "# create Hugging Face Model Class\n",
    "huggingface_model = HuggingFaceModel(\n",
    "\timage_uri=get_huggingface_llm_image_uri(\"huggingface\",version=\"0.8.2\"),\n",
    "\tenv=hub,\n",
    "\trole=role, \n",
    ")\n",
    "\n",
    "# deploy model to SageMaker Inference\n",
    "predictor = huggingface_model.deploy(\n",
    "\tinitial_instance_count=1,\n",
    "\tinstance_type=\"ml.g5.2xlarge\",\n",
    "    model_data_download_timeout=3600,\n",
    "\tcontainer_startup_health_check_timeout=3000,\n",
    "  )\n",
    "  \n",
    "# send request\n",
    "predictor.predict({\n",
    "\t\"inputs\": \"\"\"[INST] <<SYS>>\n",
    "You are a helpful, respectful and honest assistant. Always answer as helpfully as possible, while being safe.  Your answers should not include any harmful, unethical, racist, sexist, toxic, dangerous, or illegal content. Please ensure that your responses are socially unbiased and positive in nature.\n",
    "            If a question does not make any sense, or is not factually coherent, explain why instead of answering something not correct. If you don't know the answer to a question, please don't share false information.\n",
    "<</SYS>>\n",
    "\n",
    "用中文回答，When is the best time to visit Beijing, and do you have any suggestions for me? [/INST]\"\"\",\n",
    "})"
   ]
  },
  {
   "cell_type": "code",
   "execution_count": null,
   "id": "d9974deb-23f5-4741-adbc-047988ae5d50",
   "metadata": {},
   "outputs": [],
   "source": []
  },
  {
   "cell_type": "code",
   "execution_count": null,
   "id": "6883b940-5807-445c-a2f2-01aeabd849d7",
   "metadata": {},
   "outputs": [],
   "source": []
  },
  {
   "cell_type": "code",
   "execution_count": null,
   "id": "609359b7-5017-4d41-bced-3ff6aab089e3",
   "metadata": {},
   "outputs": [],
   "source": []
  },
  {
   "cell_type": "code",
   "execution_count": null,
   "id": "1ff56756-59ea-473d-9a7c-5de3fd026c91",
   "metadata": {},
   "outputs": [],
   "source": []
  },
  {
   "cell_type": "code",
   "execution_count": 2,
   "id": "9b24b729-f565-44c7-a500-7ba33fc9e5e7",
   "metadata": {
    "tags": []
   },
   "outputs": [],
   "source": [
    "import pandas as pd\n",
    "df = pd.read_csv('data/samples.csv', index_col=0)\n",
    "dfc = pd.read_csv('data/category.csv')\n"
   ]
  },
  {
   "cell_type": "code",
   "execution_count": 3,
   "id": "f40cd625-ae61-4bc5-8a51-1e6fc1c76a49",
   "metadata": {
    "tags": []
   },
   "outputs": [],
   "source": [
    "instruction =\"\"\"\n",
    "Please classify the cateory and sub category based on the product name. \n",
    "Product name: {0}\n",
    "1. Return the results in JSON format with the following keys: \"product_name\", \"category\", \"sub_category\", and \"common_labels\".\n",
    "2. The \"product_name\" field in the JSON should be an exact copy of the given product name.\n",
    "3. Your task is to classify a product name into one of the following categories: \"咖啡類\",\"飲料類\",\"水類\",\"乳品類\",\"豆米漿/植物奶\",\"冰品類\",\"鮮食類\",\"烘焙/甜點類\",\"蛋品類\",\"生鮮食品類\",\"冷凍食品類\",\"保健食品類\",\"點心/零食類\",\"民生食材類\",\"日用百貨類\",\"洗浴清潔/保養類\",\"寵物用品類\",\"戶外休閒用品類\",\"家電類\",\"書本/文教用品類\",\"3C類\",\"服飾鞋包類\",\"精品類\",\"傢俱/家飾類\",\"菸酒類\",\"禮盒類\"。 \n",
    "Please return the category as the \"category\" field. Do not make up a new category. \n",
    "Please note that you should accurately categorize each product based on its name and description, \n",
    "using your best judgment to determine which category it belongs to. \n",
    "Your response should be specific and accurate, ensuring that each product is correctly classified according to its type.\n",
    "\n",
    "4. Once you have determined the category of the product, please select the best matching \n",
    "subcategory list below and classify the product accordingly. \n",
    "This result shall be returned in json \"sub_category\" field\n",
    "\n",
    "\"咖啡類\":[\"現做咖啡飲品\",\"罐裝/瓶裝咖啡\",\"沖泡式咖啡\",\"濾掛式咖啡\",\"即溶咖啡\",\"咖啡相關食用品\"]\n",
    "\"飲料類\":[\"現做茶飲品\",\"茶飲\",\"碳酸/汽水\",\"果汁/果醋飲\",\"運動飲料\",\"養生飲品\",\"能量飲料\",\"特殊風味飲品\",\"沖泡類飲品\",\"現調果汁\",\"其他現調飲品\"]\n",
    "\"水類\":[\"礦泉水\",\"氣泡水\",\"機能水\"]\n",
    "\"乳品類\":[\"鮮乳類\",\"保久乳\",\"調味乳\",\"優格\",\"優酪乳\",\"發酵乳\"]\n",
    "\"豆米漿/植物奶\":[\"豆漿\",\"米漿\",\"燕麥奶\",\"其他植物奶\"]\n",
    "\"冰品類\":[\"現做霜淇淋/聖代\",\"冰棒/雪糕\",\"冰淇淋\",\"甜筒\",\"仙草/愛玉\",\"水果冰品\",\"冰塊\",\"現調冰品\",\"其他冰品\"]\n",
    "\"鮮食類\":[\"蒸箱食品\",\"地瓜\",\"熱狗\",\"關東煮\",\"米飯類\",\"麵食類\",\"三明治\",\"漢堡\",\"生鮮蔬果/沙拉\",\"小菜/滷味\",\"湯品\",\"水餃/點心\",\"雞胸肉\",\"茶葉蛋/水煮蛋\",\"肉品\",\"其他鮮食商品\"]\n",
    "\"烘焙/甜點類\":[\"麵包\",\"蛋糕\",\"中式糕點\",\"其他甜食\"]\n",
    "\"蛋品類\":[\"生雞蛋\",\"加工蛋\"]\n",
    "\"生鮮食品類\":[\"生鮮蔬菜\",\"生鮮水果\",\"生鮮肉品\",\"生鮮海鮮\",\"豆腐\",\"冷藏調理\",\"速食調理包\",\"其他生鮮食品\"]\n",
    "\"冷凍食品類\":[\"冷凍蔬菜\",\"冷凍水果\",\"冷凍肉品\",\"冷凍海鮮\",\"火鍋用料\",\"冷凍水餃/點心類\",\"冷凍微波料理\",\"其他冷凍商品\"]\n",
    "\"保健食品類\":[\"保健/養生\",\"美肌/纖體\",\"醫材/藥品\"]\n",
    "\"點心/零食類\":[\"餅乾\",\"堅果\",\"肉乾/肉紙\",\"豆乾\",\"魷魚絲\",\"海苔\",\"布丁/果凍\",\"果乾\",\"蔬片乾\",\"即飲甜品\",\"糖果\",\"巧克力\",\"口香糖\",\"其他零食\"]\n",
    "\"民生食材類\":[\"料理調味\",\"果醬/抹醬\",\"有機食品\",\"罐頭\",\"各式麵條/拌麵\",\"泡麵\",\"嬰幼兒食品\",\"南北乾貨/雜糧食材\",\"米\",\"油\",\"奶粉\",\"沖泡即食品\",\"其他民生食材\"]\n",
    "\"日用百貨類\":[\"民生紙品\",\"洗衣用具\",\"家庭清潔用品\",\"家庭清潔洗劑\",\"衣物清潔\",\"嬰幼兒用品\",\"餐廚用品\",\"汽機車用品類\",\"衛浴用品\",\"晴雨相關用具\",\"其他日用百貨\"]\n",
    "\"洗浴清潔/保養類\":[\"女性衛生用品\",\"髮部清潔/保養\",\"身體清潔/保養\",\"口腔保健\",\"彩妝/卸妝\",\"男性用品/保養\",\"美容保養\"]\n",
    "\"寵物用品類\":[\"貓食\",\"狗食\",\"其他寵物食品\",\"寵物用品\"]\n",
    "\"戶外休閒用品類\":[\"運動健身\",\"戶外露營\",\"行李箱/配件\"]\n",
    "\"家電類\":[\"大型家電\",\"廚房家電\",\"生活家電\",\"美容家電\",\"視聽娛樂家電\",\"電池充電相關\"]\n",
    "\"書本/文教用品類\":[\"書籍\",\"數位內容\",\"文教用品\",\"報紙\"]\n",
    "\"3C類\":[\"手機/通訊/週邊\",\"桌機/筆電/平板\",\"電腦螢幕/硬碟\",\"相機/攝影/DV\",\"週邊/耗材\",\"虛擬/點數商品\"]\n",
    "\"服飾鞋包類\":[\"品牌鞋款\",\"流行鞋襪\",\"男女內著\",\"童裝\",\"女裝\",\"男裝\",\"個人服飾配件\",\"運動機能服飾\"]\n",
    "\"精品類\":[\"鑽石\",\"珠寶／玉石\",\"精品／飾品\",\"手錶\",\"黃金\"]\n",
    "\"傢俱/家飾類\":[\"家飾\",\"寢具\",\"傢俱\",\"床墊\",\"燈具\"]\n",
    "\"菸酒類\":[\"菸品\",\"威士忌\",\"清酒\",\"調酒\",\"啤酒\",\"紅白酒\",\"香檳氣泡酒\",\"藥酒\",\"高粱\"]\n",
    "\"禮盒類\":[\"禮盒\"]\n",
    "\n",
    "5. assign appropriate labels/tags to the product as \"common_labels\", such as flavor, brand, key ingredient, and package size \n",
    "(if applicable), etc. Please avoid choosing duplicate labels. Your labels shall be no more than four.\n",
    "\n",
    "The json result is:\n",
    "\"\"\"\n",
    "\n",
    "item = df.sample(1).item_name.iloc[0]\n",
    "item\n",
    "\n",
    "prompt = instruction.format(item)\n",
    "prompt\n",
    "\n",
    "predictor.predict({\"inputs\": prompt})"
   ]
  },
  {
   "cell_type": "code",
   "execution_count": 23,
   "id": "9c543677-60da-4c19-af53-a8f769e21247",
   "metadata": {
    "tags": []
   },
   "outputs": [
    {
     "data": {
      "text/plain": [
       "[{'generated_text': '\\nPlease classify the cateory and sub category based on the product name. \\nProduct name: HH 鋼化玻璃保護貼系列 realme narzo 50A  \\n1. Return the results in JSON format with the following keys: \"product_name\", \"category\", \"sub_category\", and \"common_labels\".\\n2. The \"product_name\" field in the JSON should be an exact copy of the given product name.\\n3. Your task is to classify a product name into one of the following categories: \"咖啡類\",\"飲料類\",\"水類\",\"乳品類\",\"豆米漿/植物奶\",\"冰品類\",\"鮮食類\",\"烘焙/甜點類\",\"蛋品類\",\"生鮮食品類\",\"冷凍食品類\",\"保健食品類\",\"點心/零食類\",\"民生食材類\",\"日用百貨類\",\"洗浴清潔/保養類\",\"寵物用品類\",\"戶外休閒用品類\",\"家電類\",\"書本/文教用品類\",\"3C類\",\"服飾鞋包類\",\"精品類\",\"傢俱/家飾類\",\"菸酒類\",\"禮盒類\"。 \\nPlease return the category as the \"category\" field. Do not make up a new category. \\nPlease note that you should accurately categorize each product based on its name and description, \\nusing your best judgment to determine which category it belongs to. \\nYour response should be specific and accurate, ensuring that each product is correctly classified according to its type.\\n\\n4. Once you have determined the category of the product, please select the best matching \\nsubcategory list below and classify the product accordingly. \\nThis result shall be returned in json \"sub_category\" field\\n\\n\"咖啡類\":[\"現做咖啡飲品\",\"罐裝/瓶裝咖啡\",\"沖泡式咖啡\",\"濾掛式咖啡\",\"即溶咖啡\",\"咖啡相關食用品\"]\\n\"飲料類\":[\"現做茶飲品\",\"茶飲\",\"碳酸/汽水\",\"果汁/果醋飲\",\"運動飲料\",\"養生飲品\",\"能量飲料\",\"特殊風味飲品\",\"沖泡類飲品\",\"現調果汁\",\"其他現調飲品\"]\\n\"水類\":[\"礦泉水\",\"氣泡水\",\"機能水\"]\\n\"乳品類\":[\"鮮乳類\",\"保久乳\",\"調味乳\",\"優格\",\"優酪乳\",\"發酵乳\"]\\n\"豆米漿/植物奶\":[\"豆漿\",\"米漿\",\"燕麥奶\",\"其他植物奶\"]\\n\"冰品類\":[\"現做霜淇淋/聖代\",\"冰棒/雪糕\",\"冰淇淋\",\"甜筒\",\"仙草/愛玉\",\"水果冰品\",\"冰塊\",\"現調冰品\",\"其他冰品\"]\\n\"鮮食類\":[\"蒸箱食品\",\"地瓜\",\"熱狗\",\"關東煮\",\"米飯類\",\"麵食類\",\"三明治\",\"漢堡\",\"生鮮蔬果/沙拉\",\"小菜/滷味\",\"湯品\",\"水餃/點心\",\"雞胸肉\",\"茶葉蛋/水煮蛋\",\"肉品\",\"其他鮮食商品\"]\\n\"烘焙/甜點類\":[\"麵包\",\"蛋糕\",\"中式糕點\",\"其他甜食\"]\\n\"蛋品類\":[\"生雞蛋\",\"加工蛋\"]\\n\"生鮮食品類\":[\"生鮮蔬菜\",\"生鮮水果\",\"生鮮肉品\",\"生鮮海鮮\",\"豆腐\",\"冷藏調理\",\"速食調理包\",\"其他生鮮食品\"]\\n\"冷凍食品類\":[\"冷凍蔬菜\",\"冷凍水果\",\"冷凍肉品\",\"冷凍海鮮\",\"火鍋用料\",\"冷凍水餃/點心類\",\"冷凍微波料理\",\"其他冷凍商品\"]\\n\"保健食品類\":[\"保健/養生\",\"美肌/纖體\",\"醫材/藥品\"]\\n\"點心/零食類\":[\"餅乾\",\"堅果\",\"肉乾/肉紙\",\"豆乾\",\"魷魚絲\",\"海苔\",\"布丁/果凍\",\"果乾\",\"蔬片乾\",\"即飲甜品\",\"糖果\",\"巧克力\",\"口香糖\",\"其他零食\"]\\n\"民生食材類\":[\"料理調味\",\"果醬/抹醬\",\"有機食品\",\"罐頭\",\"各式麵條/拌麵\",\"泡麵\",\"嬰幼兒食品\",\"南北乾貨/雜糧食材\",\"米\",\"油\",\"奶粉\",\"沖泡即食品\",\"其他民生食材\"]\\n\"日用百貨類\":[\"民生紙品\",\"洗衣用具\",\"家庭清潔用品\",\"家庭清潔洗劑\",\"衣物清潔\",\"嬰幼兒用品\",\"餐廚用品\",\"汽機車用品類\",\"衛浴用品\",\"晴雨相關用具\",\"其他日用百貨\"]\\n\"洗浴清潔/保養類\":[\"女性衛生用品\",\"髮部清潔/保養\",\"身體清潔/保養\",\"口腔保健\",\"彩妝/卸妝\",\"男性用品/保養\",\"美容保養\"]\\n\"寵物用品類\":[\"貓食\",\"狗食\",\"其他寵物食品\",\"寵物用品\"]\\n\"戶外休閒用品類\":[\"運動健身\",\"戶外露營\",\"行李箱/配件\"]\\n\"家電類\":[\"大型家電\",\"廚房家電\",\"生活家電\",\"美容家電\",\"視聽娛樂家電\",\"電池充電相關\"]\\n\"書本/文教用品類\":[\"書籍\",\"數位內容\",\"文教用品\",\"報紙\"]\\n\"3C類\":[\"手機/通訊/週邊\",\"桌機/筆電/平板\",\"電腦螢幕/硬碟\",\"相機/攝影/DV\",\"週邊/耗材\",\"虛擬/點數商品\"]\\n\"服飾鞋包類\":[\"品牌鞋款\",\"流行鞋襪\",\"男女內著\",\"童裝\",\"女裝\",\"男裝\",\"個人服飾配件\",\"運動機能服飾\"]\\n\"精品類\":[\"鑽石\",\"珠寶／玉石\",\"精品／飾品\",\"手錶\",\"黃金\"]\\n\"傢俱/家飾類\":[\"家飾\",\"寢具\",\"傢俱\",\"床墊\",\"燈具\"]\\n\"菸酒類\":[\"菸品\",\"威士忌\",\"清酒\",\"調酒\",\"啤酒\",\"紅白酒\",\"香檳氣泡酒\",\"藥酒\",\"高粱\"]\\n\"禮盒類\":[\"禮盒\"]\\n\\n5. assign appropriate labels/tags to the product as \"common_labels\", such as flavor, brand, key ingredient, and package size \\n(if applicable), etc. Please avoid choosing duplicate labels. Your labels shall be no more than four.\\n\\nThe json result is:\\n\\n{\\n    \"flavor\": [\"chocolate\", \"gum\", \"other'}]"
      ]
     },
     "execution_count": 23,
     "metadata": {},
     "output_type": "execute_result"
    }
   ],
   "source": []
  },
  {
   "cell_type": "code",
   "execution_count": null,
   "id": "0361c6ca-400c-48a9-a8bd-91094ff63e95",
   "metadata": {},
   "outputs": [],
   "source": []
  }
 ],
 "metadata": {
  "kernelspec": {
   "display_name": "conda_python3",
   "language": "python",
   "name": "conda_python3"
  },
  "language_info": {
   "codemirror_mode": {
    "name": "ipython",
    "version": 3
   },
   "file_extension": ".py",
   "mimetype": "text/x-python",
   "name": "python",
   "nbconvert_exporter": "python",
   "pygments_lexer": "ipython3",
   "version": "3.10.10"
  }
 },
 "nbformat": 4,
 "nbformat_minor": 5
}
