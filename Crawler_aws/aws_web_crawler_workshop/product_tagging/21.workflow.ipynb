{
 "cells": [
  {
   "cell_type": "markdown",
   "id": "386ca41e-5cf1-4b7c-878a-9fe7ef10789e",
   "metadata": {},
   "source": [
    "# Product Classification & Tagging Purpose\n",
    "- Classify product from product name shown for business analysis purpose. The workflow should be capable for internal & external use cases.\n",
    "- Classes and tagging space should be designed based on analysis scenario, and it differ from use cases and users.\n"
   ]
  },
  {
   "cell_type": "markdown",
   "id": "83d3bba9-b7a8-4f9e-963c-947ac64f208f",
   "metadata": {},
   "source": [
    "\n",
    "# Product Classification & Tagging Flow\n",
    "- Define categories for business (user define or use default categories)\n",
    "    - If any, user provide samples for each category\n",
    "- Sample augmentation\n",
    "    - From category\n",
    "    - From provided samples\n",
    "- Model training/tunning/index update\n",
    "- Product classification\n",
    "    - Single class classification for higher level categories\n",
    "        - Rejection based on matching/confidence score\n",
    "    - Multi-class classification(predefined tag)/generative tagging for lower level categories\n",
    "\n",
    "\n"
   ]
  },
  {
   "cell_type": "code",
   "execution_count": null,
   "id": "e119cab9-e020-4a6e-868b-04f6e1a5e604",
   "metadata": {},
   "outputs": [],
   "source": []
  }
 ],
 "metadata": {
  "kernelspec": {
   "display_name": "conda_python3",
   "language": "python",
   "name": "conda_python3"
  },
  "language_info": {
   "codemirror_mode": {
    "name": "ipython",
    "version": 3
   },
   "file_extension": ".py",
   "mimetype": "text/x-python",
   "name": "python",
   "nbconvert_exporter": "python",
   "pygments_lexer": "ipython3",
   "version": "3.10.10"
  }
 },
 "nbformat": 4,
 "nbformat_minor": 5
}
