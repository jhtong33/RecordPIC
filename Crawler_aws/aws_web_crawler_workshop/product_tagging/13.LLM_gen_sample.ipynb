{
 "cells": [
  {
   "cell_type": "code",
   "execution_count": 220,
   "id": "7c68c0e9-503c-4ca2-891b-f14c6352521d",
   "metadata": {
    "tags": []
   },
   "outputs": [],
   "source": [
    "import re\n",
    "import json\n",
    "import pandas as pd\n",
    "from collections import defaultdict"
   ]
  },
  {
   "cell_type": "code",
   "execution_count": 3,
   "id": "80d531c1-bc83-4a0a-9dd4-ead408c6c5dd",
   "metadata": {
    "tags": []
   },
   "outputs": [],
   "source": [
    "df_pic = pd.read_csv('data/category.csv')"
   ]
  },
  {
   "cell_type": "code",
   "execution_count": null,
   "id": "a005ebe6-fb1b-4f7a-ab52-5adbbd9bb3a1",
   "metadata": {
    "tags": []
   },
   "outputs": [],
   "source": []
  },
  {
   "cell_type": "code",
   "execution_count": null,
   "id": "419589b4-df32-41d5-974b-e03637d58749",
   "metadata": {},
   "outputs": [],
   "source": []
  },
  {
   "cell_type": "code",
   "execution_count": 4,
   "id": "5e0ed448-1083-4598-ba55-19dd1d9194cc",
   "metadata": {
    "tags": []
   },
   "outputs": [
    {
     "name": "stdout",
     "output_type": "stream",
     "text": [
      "Looking in indexes: https://pypi.org/simple, https://pip.repos.neuron.amazonaws.com\n",
      "Requirement already satisfied: openai in /home/ec2-user/anaconda3/envs/pytorch_p310/lib/python3.10/site-packages (0.27.8)\n",
      "Requirement already satisfied: requests>=2.20 in /home/ec2-user/anaconda3/envs/pytorch_p310/lib/python3.10/site-packages (from openai) (2.29.0)\n",
      "Requirement already satisfied: tqdm in /home/ec2-user/anaconda3/envs/pytorch_p310/lib/python3.10/site-packages (from openai) (4.65.0)\n",
      "Requirement already satisfied: aiohttp in /home/ec2-user/anaconda3/envs/pytorch_p310/lib/python3.10/site-packages (from openai) (3.8.5)\n",
      "Requirement already satisfied: charset-normalizer<4,>=2 in /home/ec2-user/anaconda3/envs/pytorch_p310/lib/python3.10/site-packages (from requests>=2.20->openai) (3.1.0)\n",
      "Requirement already satisfied: idna<4,>=2.5 in /home/ec2-user/anaconda3/envs/pytorch_p310/lib/python3.10/site-packages (from requests>=2.20->openai) (3.4)\n",
      "Requirement already satisfied: urllib3<1.27,>=1.21.1 in /home/ec2-user/anaconda3/envs/pytorch_p310/lib/python3.10/site-packages (from requests>=2.20->openai) (1.26.14)\n",
      "Requirement already satisfied: certifi>=2017.4.17 in /home/ec2-user/anaconda3/envs/pytorch_p310/lib/python3.10/site-packages (from requests>=2.20->openai) (2023.5.7)\n",
      "Requirement already satisfied: attrs>=17.3.0 in /home/ec2-user/anaconda3/envs/pytorch_p310/lib/python3.10/site-packages (from aiohttp->openai) (23.1.0)\n",
      "Requirement already satisfied: multidict<7.0,>=4.5 in /home/ec2-user/anaconda3/envs/pytorch_p310/lib/python3.10/site-packages (from aiohttp->openai) (6.0.4)\n",
      "Requirement already satisfied: async-timeout<5.0,>=4.0.0a3 in /home/ec2-user/anaconda3/envs/pytorch_p310/lib/python3.10/site-packages (from aiohttp->openai) (4.0.2)\n",
      "Requirement already satisfied: yarl<2.0,>=1.0 in /home/ec2-user/anaconda3/envs/pytorch_p310/lib/python3.10/site-packages (from aiohttp->openai) (1.9.2)\n",
      "Requirement already satisfied: frozenlist>=1.1.1 in /home/ec2-user/anaconda3/envs/pytorch_p310/lib/python3.10/site-packages (from aiohttp->openai) (1.4.0)\n",
      "Requirement already satisfied: aiosignal>=1.1.2 in /home/ec2-user/anaconda3/envs/pytorch_p310/lib/python3.10/site-packages (from aiohttp->openai) (1.3.1)\n"
     ]
    }
   ],
   "source": [
    "!pip install openai"
   ]
  },
  {
   "cell_type": "code",
   "execution_count": null,
   "id": "49a80389-c2a8-42dd-87de-ee9afcd6d411",
   "metadata": {},
   "outputs": [],
   "source": []
  },
  {
   "cell_type": "code",
   "execution_count": 5,
   "id": "de81fcc8-bb39-4870-a226-cba11306358b",
   "metadata": {
    "tags": []
   },
   "outputs": [],
   "source": [
    "import os\n",
    "import openai\n",
    "# openai.organization = \"org-KoEVdZNtGdE2ogROhvn95jG7\"\n",
    "# openai.api_key = os.getenv(\"OPENAI_API_KEY\")\n",
    "# openai.Model.list()"
   ]
  },
  {
   "cell_type": "code",
   "execution_count": 6,
   "id": "5d8b9337-f3d0-46df-819f-668813a5e927",
   "metadata": {
    "tags": []
   },
   "outputs": [],
   "source": [
    "openai.api_key = ''"
   ]
  },
  {
   "cell_type": "code",
   "execution_count": 7,
   "id": "6312bd3b-4b67-4a3b-9506-89c9d6e5475d",
   "metadata": {
    "tags": []
   },
   "outputs": [],
   "source": [
    "def get_response(message):\n",
    "    response = openai.ChatCompletion.create(\n",
    "        model=\"gpt-3.5-turbo\",\n",
    "        messages=[{\"role\": \"user\", \"content\": message}],\n",
    "        temperature=0.7\n",
    "    )\n",
    "    \n",
    "    return response"
   ]
  },
  {
   "cell_type": "code",
   "execution_count": 38,
   "id": "5740e316-7892-4705-8848-3da857da0f62",
   "metadata": {
    "tags": []
   },
   "outputs": [],
   "source": [
    "def cat2content(cat):\n",
    "    message = f'''\n",
    "    請以json格式列出\"{cat}\"的20項商品名稱\n",
    "    如以下範例回傳 1:商品一, ...\n",
    "    '''\n",
    "    \n",
    "    response = get_response(message)\n",
    "    content = response.to_dict()['choices'][0]['message']['content']\n",
    "    return content"
   ]
  },
  {
   "cell_type": "code",
   "execution_count": 39,
   "id": "4c1c57de-82ca-4503-bba8-29596585d753",
   "metadata": {
    "tags": []
   },
   "outputs": [],
   "source": [
    "# cat = '咖啡'\n",
    "# message = f'''\n",
    "#     請以json格式列出\"{cat}\"的20項商品名稱\n",
    "#     如以下範例回傳 1:商品一, ...\n",
    "#     '''\n",
    "\n",
    "# content = cat2content('現做咖啡飲品')\n",
    "# content"
   ]
  },
  {
   "cell_type": "code",
   "execution_count": null,
   "id": "06deac6f-7639-4e67-bcd9-36a8a8e4c490",
   "metadata": {},
   "outputs": [],
   "source": []
  },
  {
   "cell_type": "code",
   "execution_count": 193,
   "id": "32cf6b67-3d3b-422c-b02f-496cfca37f19",
   "metadata": {
    "tags": []
   },
   "outputs": [
    {
     "data": {
      "text/plain": [
       "'{\\n    \"1\": \"商品一\",\\n    \"2\": \"商品二\",\\n    \"3\": \"商品三\",\\n    \"4\": \"商品四\",\\n    \"5\": \"商品五\",\\n    \"6\": \"商品六\",\\n    \"7\": \"商品七\",\\n    \"8\": \"商品八\",\\n    \"9\": \"商品九\",\\n    \"10\": \"商品十\",\\n    \"11\": \"商品十一\",\\n    \"12\": \"商品十二\",\\n    \"13\": \"商品十三\",\\n    \"14\": \"商品十四\",\\n    \"15\": \"商品十五\",\\n    \"16\": \"商品十六\",\\n    \"17\": \"商品十七\",\\n    \"18\": \"商品十八\",\\n    \"19\": \"商品十九\",\\n    \"20\": \"商品二十\"\\n}'"
      ]
     },
     "execution_count": 193,
     "metadata": {},
     "output_type": "execute_result"
    }
   ],
   "source": [
    "c = '精品／飾品'\n",
    "cats[c] = cat2content(c)\n",
    "cats[c]"
   ]
  },
  {
   "cell_type": "code",
   "execution_count": 196,
   "id": "0def343a-9cf6-4bbc-8931-8894ad3b562b",
   "metadata": {
    "tags": []
   },
   "outputs": [],
   "source": [
    "# # cats = dict()\n",
    "# # for i, c in enumerate(df_pic.category):\n",
    "# #     if c in cats:\n",
    "# #         continue\n",
    "# #     cats[c] = cat2content(c)\n",
    "# #     print(i, c)\n",
    "    \n",
    "# import pickle\n",
    "# with open('data/gen_sample_json.pkl', 'wb') as f:\n",
    "#     pickle.dump(cats, f)"
   ]
  },
  {
   "cell_type": "code",
   "execution_count": null,
   "id": "0f432ae0-2b5b-4142-ad87-e75d97f351b3",
   "metadata": {
    "tags": []
   },
   "outputs": [],
   "source": []
  },
  {
   "cell_type": "code",
   "execution_count": 197,
   "id": "7094414e-3cf7-4431-91e1-d2a952f166eb",
   "metadata": {
    "tags": []
   },
   "outputs": [],
   "source": [
    "with open('data/gen_sample_json.pkl', 'rb') as f:\n",
    "    test =  pickle.load(f)"
   ]
  },
  {
   "cell_type": "code",
   "execution_count": 198,
   "id": "0248e0ef-b20c-478b-837b-40e0d956c57a",
   "metadata": {
    "tags": []
   },
   "outputs": [],
   "source": [
    "def get(response):\n",
    "    try:\n",
    "        return json.loads(response)\n",
    "    except:\n",
    "        return json.loads(('{'+r.split('{')[1]).split('}')[0]+'}')"
   ]
  },
  {
   "cell_type": "code",
   "execution_count": 199,
   "id": "f660988e-9a19-4e2a-8537-ee2d21c124c8",
   "metadata": {
    "tags": []
   },
   "outputs": [],
   "source": [
    "df_pic['response'] = df_pic.category.apply(cats.get)"
   ]
  },
  {
   "cell_type": "code",
   "execution_count": null,
   "id": "14929343-45d6-4923-8d52-33ad55074276",
   "metadata": {},
   "outputs": [],
   "source": []
  },
  {
   "cell_type": "code",
   "execution_count": null,
   "id": "49127014-6a4f-4503-bce8-10f0f0f96fbd",
   "metadata": {},
   "outputs": [],
   "source": []
  },
  {
   "cell_type": "code",
   "execution_count": 200,
   "id": "f3fa23fd-d6d0-4a3f-ace8-05d4f84e3089",
   "metadata": {
    "tags": []
   },
   "outputs": [],
   "source": [
    "for i, r in enumerate(df_pic['response']):\n",
    "    get(r)"
   ]
  },
  {
   "cell_type": "code",
   "execution_count": 210,
   "id": "41b81c5c-2eaf-4578-9296-09772556c94c",
   "metadata": {
    "tags": []
   },
   "outputs": [],
   "source": [
    "df_pic['gen_samples'] = df_pic.category.apply(cats.get).apply(get).apply(lambda x: list(x.values()))"
   ]
  },
  {
   "cell_type": "code",
   "execution_count": 225,
   "id": "b7bf7dd0-6e24-4e39-901b-d9150da7cd2a",
   "metadata": {
    "tags": []
   },
   "outputs": [],
   "source": [
    "coll = defaultdict(list)\n",
    "for k, v in df_pic.iterrows():\n",
    "    for s in v['gen_samples']:\n",
    "        \n",
    "        coll['item_type'].append(v['item_type'])\n",
    "        coll['category'].append(v['category'])\n",
    "        coll['sample'].append(s)\n",
    "        \n",
    "            "
   ]
  },
  {
   "cell_type": "code",
   "execution_count": 234,
   "id": "85ee817d-c8e5-4d50-b3ba-bb4df5b3958a",
   "metadata": {
    "tags": []
   },
   "outputs": [],
   "source": [
    "df_gen = pd.DataFrame.from_dict(coll)\n",
    "df_gen = df_gen[df_gen['sample'].apply(lambda x: '商品' not in x)]"
   ]
  },
  {
   "cell_type": "code",
   "execution_count": 235,
   "id": "d2e31385-c21c-4513-a68f-40f3afb5f557",
   "metadata": {
    "tags": []
   },
   "outputs": [
    {
     "data": {
      "text/html": [
       "<div>\n",
       "<style scoped>\n",
       "    .dataframe tbody tr th:only-of-type {\n",
       "        vertical-align: middle;\n",
       "    }\n",
       "\n",
       "    .dataframe tbody tr th {\n",
       "        vertical-align: top;\n",
       "    }\n",
       "\n",
       "    .dataframe thead th {\n",
       "        text-align: right;\n",
       "    }\n",
       "</style>\n",
       "<table border=\"1\" class=\"dataframe\">\n",
       "  <thead>\n",
       "    <tr style=\"text-align: right;\">\n",
       "      <th></th>\n",
       "      <th>item_type</th>\n",
       "      <th>category</th>\n",
       "      <th>sample</th>\n",
       "    </tr>\n",
       "  </thead>\n",
       "  <tbody>\n",
       "    <tr>\n",
       "      <th>0</th>\n",
       "      <td>咖啡類</td>\n",
       "      <td>現做咖啡飲品</td>\n",
       "      <td>美式咖啡</td>\n",
       "    </tr>\n",
       "    <tr>\n",
       "      <th>1</th>\n",
       "      <td>咖啡類</td>\n",
       "      <td>現做咖啡飲品</td>\n",
       "      <td>拿鐵咖啡</td>\n",
       "    </tr>\n",
       "    <tr>\n",
       "      <th>2</th>\n",
       "      <td>咖啡類</td>\n",
       "      <td>現做咖啡飲品</td>\n",
       "      <td>卡布奇諾</td>\n",
       "    </tr>\n",
       "    <tr>\n",
       "      <th>3</th>\n",
       "      <td>咖啡類</td>\n",
       "      <td>現做咖啡飲品</td>\n",
       "      <td>摩卡咖啡</td>\n",
       "    </tr>\n",
       "    <tr>\n",
       "      <th>4</th>\n",
       "      <td>咖啡類</td>\n",
       "      <td>現做咖啡飲品</td>\n",
       "      <td>焦糖瑪奇朵</td>\n",
       "    </tr>\n",
       "    <tr>\n",
       "      <th>...</th>\n",
       "      <td>...</td>\n",
       "      <td>...</td>\n",
       "      <td>...</td>\n",
       "    </tr>\n",
       "    <tr>\n",
       "      <th>3495</th>\n",
       "      <td>菸酒類</td>\n",
       "      <td>高粱</td>\n",
       "      <td>高粱麵包</td>\n",
       "    </tr>\n",
       "    <tr>\n",
       "      <th>3496</th>\n",
       "      <td>菸酒類</td>\n",
       "      <td>高粱</td>\n",
       "      <td>高粱麵粉</td>\n",
       "    </tr>\n",
       "    <tr>\n",
       "      <th>3497</th>\n",
       "      <td>菸酒類</td>\n",
       "      <td>高粱</td>\n",
       "      <td>高粱沙拉醬</td>\n",
       "    </tr>\n",
       "    <tr>\n",
       "      <th>3498</th>\n",
       "      <td>菸酒類</td>\n",
       "      <td>高粱</td>\n",
       "      <td>高粱醬油</td>\n",
       "    </tr>\n",
       "    <tr>\n",
       "      <th>3499</th>\n",
       "      <td>菸酒類</td>\n",
       "      <td>高粱</td>\n",
       "      <td>高粱醋</td>\n",
       "    </tr>\n",
       "  </tbody>\n",
       "</table>\n",
       "<p>2160 rows × 3 columns</p>\n",
       "</div>"
      ],
      "text/plain": [
       "     item_type category sample\n",
       "0          咖啡類   現做咖啡飲品   美式咖啡\n",
       "1          咖啡類   現做咖啡飲品   拿鐵咖啡\n",
       "2          咖啡類   現做咖啡飲品   卡布奇諾\n",
       "3          咖啡類   現做咖啡飲品   摩卡咖啡\n",
       "4          咖啡類   現做咖啡飲品  焦糖瑪奇朵\n",
       "...        ...      ...    ...\n",
       "3495       菸酒類       高粱   高粱麵包\n",
       "3496       菸酒類       高粱   高粱麵粉\n",
       "3497       菸酒類       高粱  高粱沙拉醬\n",
       "3498       菸酒類       高粱   高粱醬油\n",
       "3499       菸酒類       高粱    高粱醋\n",
       "\n",
       "[2160 rows x 3 columns]"
      ]
     },
     "execution_count": 235,
     "metadata": {},
     "output_type": "execute_result"
    }
   ],
   "source": [
    "df_gen"
   ]
  },
  {
   "cell_type": "code",
   "execution_count": 236,
   "id": "53203f7e-5f12-48df-9df7-6821e4532e95",
   "metadata": {
    "tags": []
   },
   "outputs": [],
   "source": [
    "df_gen.to_csv('data/df_gen.csv')"
   ]
  },
  {
   "cell_type": "code",
   "execution_count": null,
   "id": "f4be86ab-999e-482f-ac9f-f7d08381c94c",
   "metadata": {},
   "outputs": [],
   "source": []
  },
  {
   "cell_type": "code",
   "execution_count": null,
   "id": "7ea7839a-53da-4f95-98ba-fd72870eeeb7",
   "metadata": {},
   "outputs": [],
   "source": []
  }
 ],
 "metadata": {
  "kernelspec": {
   "display_name": "conda_pytorch_p310",
   "language": "python",
   "name": "conda_pytorch_p310"
  },
  "language_info": {
   "codemirror_mode": {
    "name": "ipython",
    "version": 3
   },
   "file_extension": ".py",
   "mimetype": "text/x-python",
   "name": "python",
   "nbconvert_exporter": "python",
   "pygments_lexer": "ipython3",
   "version": "3.10.10"
  }
 },
 "nbformat": 4,
 "nbformat_minor": 5
}
