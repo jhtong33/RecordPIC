{
 "cells": [
  {
   "cell_type": "code",
   "execution_count": null,
   "id": "e5c1870c-9a1a-455f-9024-91d3927ad8c8",
   "metadata": {},
   "outputs": [],
   "source": []
  },
  {
   "cell_type": "markdown",
   "id": "3129749f-109a-48ae-9983-43a723d08a0d",
   "metadata": {},
   "source": [
    "中華民國輸出入貨品分類表\n",
    "- https://fbfh.trade.gov.tw/fh/ap/listCCCf.do\n"
   ]
  },
  {
   "cell_type": "code",
   "execution_count": 3,
   "id": "c514c2a5-d604-49a3-9b8a-d15953006f79",
   "metadata": {
    "tags": []
   },
   "outputs": [],
   "source": [
    "import json\n",
    "import pandas as pd\n",
    "from collections import defaultdict"
   ]
  },
  {
   "cell_type": "markdown",
   "id": "cfccabd4-e6f0-463d-918f-dc512ffc5e1a",
   "metadata": {},
   "source": [
    "# PIC"
   ]
  },
  {
   "cell_type": "code",
   "execution_count": 40,
   "id": "11201af0-d64a-4555-a6c2-2f425635019f",
   "metadata": {
    "tags": []
   },
   "outputs": [],
   "source": [
    "df_category = pd.read_csv('data/category.csv')"
   ]
  },
  {
   "cell_type": "code",
   "execution_count": 41,
   "id": "5c64a836-b6f6-4982-a3d2-044657578cbf",
   "metadata": {
    "tags": []
   },
   "outputs": [
    {
     "data": {
      "text/html": [
       "<div>\n",
       "<style scoped>\n",
       "    .dataframe tbody tr th:only-of-type {\n",
       "        vertical-align: middle;\n",
       "    }\n",
       "\n",
       "    .dataframe tbody tr th {\n",
       "        vertical-align: top;\n",
       "    }\n",
       "\n",
       "    .dataframe thead th {\n",
       "        text-align: right;\n",
       "    }\n",
       "</style>\n",
       "<table border=\"1\" class=\"dataframe\">\n",
       "  <thead>\n",
       "    <tr style=\"text-align: right;\">\n",
       "      <th></th>\n",
       "      <th>item_type</th>\n",
       "      <th>category</th>\n",
       "      <th>description</th>\n",
       "      <th>item1</th>\n",
       "      <th>item2</th>\n",
       "    </tr>\n",
       "  </thead>\n",
       "  <tbody>\n",
       "    <tr>\n",
       "      <th>0</th>\n",
       "      <td>咖啡類</td>\n",
       "      <td>現做咖啡飲品</td>\n",
       "      <td>從咖啡廳、超商、超市中現煮的咖啡商品</td>\n",
       "      <td>全家特濃拿鐵</td>\n",
       "      <td>西西里風味檸檬氣泡咖啡</td>\n",
       "    </tr>\n",
       "    <tr>\n",
       "      <th>1</th>\n",
       "      <td>咖啡類</td>\n",
       "      <td>罐裝/瓶裝咖啡</td>\n",
       "      <td>使用鋁罐或寶特瓶裝可馬上飲用的咖啡液體</td>\n",
       "      <td>《UCC》無糖咖啡飲料185g</td>\n",
       "      <td>SANGARIA 圓潤咖啡飲料-拿鐵 (280gx24入)</td>\n",
       "    </tr>\n",
       "    <tr>\n",
       "      <th>2</th>\n",
       "      <td>咖啡類</td>\n",
       "      <td>沖泡式咖啡</td>\n",
       "      <td>多合一的沖泡式咖啡(粉末)</td>\n",
       "      <td>西雅圖即品拿鐵無加糖2合1咖啡21g</td>\n",
       "      <td>【King Coffee 王者咖啡】經典風味推薦組：三合一滴滴煉奶即溶咖啡</td>\n",
       "    </tr>\n",
       "    <tr>\n",
       "      <th>3</th>\n",
       "      <td>咖啡類</td>\n",
       "      <td>濾掛式咖啡</td>\n",
       "      <td>使用濾掛的咖啡</td>\n",
       "      <td>【熙舍咖啡】義大利濾掛式咖啡綜合風味10g/包</td>\n",
       "      <td>《西雅圖》極品濾掛咖啡-曼巴風情(50入/盒)</td>\n",
       "    </tr>\n",
       "    <tr>\n",
       "      <th>4</th>\n",
       "      <td>咖啡類</td>\n",
       "      <td>即溶咖啡</td>\n",
       "      <td>具有顆粒加水便可馬上融化的咖啡，通常為罐裝。(排除多合一且多數為黑咖啡)</td>\n",
       "      <td>AGFMAXIM咖啡罐(藍)-奢華摩登 (80g)</td>\n",
       "      <td>AGFMAXIM咖啡罐(藍)-奢華摩登 (80g)</td>\n",
       "    </tr>\n",
       "    <tr>\n",
       "      <th>...</th>\n",
       "      <td>...</td>\n",
       "      <td>...</td>\n",
       "      <td>...</td>\n",
       "      <td>...</td>\n",
       "      <td>...</td>\n",
       "    </tr>\n",
       "    <tr>\n",
       "      <th>171</th>\n",
       "      <td>菸酒類</td>\n",
       "      <td>紅白酒</td>\n",
       "      <td>在商店販賣的葡萄酒，紅酒由葡萄製成，白酒由白葡萄製成，可參考https://www.nmpl...</td>\n",
       "      <td>玉泉法國紅葡萄酒</td>\n",
       "      <td>昆斯特樂麗絲玲白酒</td>\n",
       "    </tr>\n",
       "    <tr>\n",
       "      <th>172</th>\n",
       "      <td>菸酒類</td>\n",
       "      <td>香檳氣泡酒</td>\n",
       "      <td>在商店販賣的香檳或有發泡性的酒，可參考https://www.my9.com.tw/coll...</td>\n",
       "      <td>杜瓦樂華 玫瑰微甜香檳</td>\n",
       "      <td>西班牙 北極熊氣泡酒</td>\n",
       "    </tr>\n",
       "    <tr>\n",
       "      <th>173</th>\n",
       "      <td>菸酒類</td>\n",
       "      <td>藥酒</td>\n",
       "      <td>將藥物置於75％酒精或白酒中浸泡而成的保健食品(這邊暫時歸類在酒類，後續調整至保健食品類)，...</td>\n",
       "      <td>【大鵰】蔘茸藥酒300ml*24(乙類成藥)</td>\n",
       "      <td>【養命酒】日本藥用養命酒700ML×2瓶</td>\n",
       "    </tr>\n",
       "    <tr>\n",
       "      <th>174</th>\n",
       "      <td>菸酒類</td>\n",
       "      <td>高粱</td>\n",
       "      <td>如類別名稱，可參考https://www.my9.com.tw/collections/ba...</td>\n",
       "      <td>38°金門高粱酒</td>\n",
       "      <td>金門紅標高粱58%</td>\n",
       "    </tr>\n",
       "    <tr>\n",
       "      <th>175</th>\n",
       "      <td>禮盒類</td>\n",
       "      <td>禮盒</td>\n",
       "      <td>只要商品被組合成禮盒，就歸在這一類</td>\n",
       "      <td>古傳滴雞精禮盒</td>\n",
       "      <td>天地合補金盞花葉黃素禮盒</td>\n",
       "    </tr>\n",
       "  </tbody>\n",
       "</table>\n",
       "<p>176 rows × 5 columns</p>\n",
       "</div>"
      ],
      "text/plain": [
       "    item_type category                                        description   \n",
       "0         咖啡類   現做咖啡飲品                                 從咖啡廳、超商、超市中現煮的咖啡商品  \\\n",
       "1         咖啡類  罐裝/瓶裝咖啡                                使用鋁罐或寶特瓶裝可馬上飲用的咖啡液體   \n",
       "2         咖啡類    沖泡式咖啡                                      多合一的沖泡式咖啡(粉末)   \n",
       "3         咖啡類    濾掛式咖啡                                            使用濾掛的咖啡   \n",
       "4         咖啡類     即溶咖啡               具有顆粒加水便可馬上融化的咖啡，通常為罐裝。(排除多合一且多數為黑咖啡)   \n",
       "..        ...      ...                                                ...   \n",
       "171       菸酒類      紅白酒  在商店販賣的葡萄酒，紅酒由葡萄製成，白酒由白葡萄製成，可參考https://www.nmpl...   \n",
       "172       菸酒類    香檳氣泡酒  在商店販賣的香檳或有發泡性的酒，可參考https://www.my9.com.tw/coll...   \n",
       "173       菸酒類       藥酒  將藥物置於75％酒精或白酒中浸泡而成的保健食品(這邊暫時歸類在酒類，後續調整至保健食品類)，...   \n",
       "174       菸酒類       高粱  如類別名稱，可參考https://www.my9.com.tw/collections/ba...   \n",
       "175       禮盒類       禮盒                                  只要商品被組合成禮盒，就歸在這一類   \n",
       "\n",
       "                         item1                                  item2  \n",
       "0                       全家特濃拿鐵                            西西里風味檸檬氣泡咖啡  \n",
       "1              《UCC》無糖咖啡飲料185g          SANGARIA 圓潤咖啡飲料-拿鐵 (280gx24入)  \n",
       "2           西雅圖即品拿鐵無加糖2合1咖啡21g  【King Coffee 王者咖啡】經典風味推薦組：三合一滴滴煉奶即溶咖啡  \n",
       "3      【熙舍咖啡】義大利濾掛式咖啡綜合風味10g/包                《西雅圖》極品濾掛咖啡-曼巴風情(50入/盒)  \n",
       "4    AGFMAXIM咖啡罐(藍)-奢華摩登 (80g)              AGFMAXIM咖啡罐(藍)-奢華摩登 (80g)  \n",
       "..                         ...                                    ...  \n",
       "171                   玉泉法國紅葡萄酒                              昆斯特樂麗絲玲白酒  \n",
       "172                杜瓦樂華 玫瑰微甜香檳                             西班牙 北極熊氣泡酒  \n",
       "173     【大鵰】蔘茸藥酒300ml*24(乙類成藥)                   【養命酒】日本藥用養命酒700ML×2瓶  \n",
       "174                   38°金門高粱酒                              金門紅標高粱58%  \n",
       "175                    古傳滴雞精禮盒                           天地合補金盞花葉黃素禮盒  \n",
       "\n",
       "[176 rows x 5 columns]"
      ]
     },
     "execution_count": 41,
     "metadata": {},
     "output_type": "execute_result"
    }
   ],
   "source": [
    "df_category"
   ]
  },
  {
   "cell_type": "markdown",
   "id": "fb7ac626-7105-4311-8d02-4d9c994f9462",
   "metadata": {},
   "source": [
    "# Momo Crawler"
   ]
  },
  {
   "cell_type": "code",
   "execution_count": 5,
   "id": "03b591f7-e072-4c16-b7a4-024613a215dc",
   "metadata": {
    "tags": []
   },
   "outputs": [],
   "source": [
    "momo_file = 'data/momoshop 2.json'"
   ]
  },
  {
   "cell_type": "code",
   "execution_count": 26,
   "id": "064215ff-2641-481d-8e49-709f6037ff89",
   "metadata": {
    "tags": []
   },
   "outputs": [],
   "source": [
    "d = defaultdict(list)\n",
    "with open(momo_file, 'r') as f:\n",
    "    for e, line in enumerate(f.readlines()):\n",
    "        j = json.loads(line)\n",
    "        \n",
    "        for k,v in j.items():\n",
    "            \n",
    "            d[k].append(v)"
   ]
  },
  {
   "cell_type": "code",
   "execution_count": 29,
   "id": "71e0bd78-60ba-47c0-972a-9ed986293598",
   "metadata": {
    "tags": []
   },
   "outputs": [],
   "source": [
    "df = pd.DataFrame.from_dict(d)"
   ]
  },
  {
   "cell_type": "code",
   "execution_count": 32,
   "id": "459f401e-60db-4081-9333-f55f6b97c1ad",
   "metadata": {
    "tags": []
   },
   "outputs": [],
   "source": [
    "df.to_csv('data/category_momo.csv')"
   ]
  },
  {
   "cell_type": "code",
   "execution_count": 33,
   "id": "81aa4a45-e301-4603-a27a-7cf5023a9ebb",
   "metadata": {
    "tags": []
   },
   "outputs": [
    {
     "data": {
      "text/plain": [
       "Index(['tier1_category_name', 'tier2_category_name', 'tier3_category_name',\n",
       "       'tier4_category_name', 'category_link', 'category_type'],\n",
       "      dtype='object')"
      ]
     },
     "execution_count": 33,
     "metadata": {},
     "output_type": "execute_result"
    }
   ],
   "source": [
    "df.columns"
   ]
  },
  {
   "cell_type": "code",
   "execution_count": 34,
   "id": "0581e4f0-878d-4ab3-9c7a-b7ff164aa84d",
   "metadata": {
    "tags": []
   },
   "outputs": [
    {
     "data": {
      "text/html": [
       "<div>\n",
       "<style scoped>\n",
       "    .dataframe tbody tr th:only-of-type {\n",
       "        vertical-align: middle;\n",
       "    }\n",
       "\n",
       "    .dataframe tbody tr th {\n",
       "        vertical-align: top;\n",
       "    }\n",
       "\n",
       "    .dataframe thead th {\n",
       "        text-align: right;\n",
       "    }\n",
       "</style>\n",
       "<table border=\"1\" class=\"dataframe\">\n",
       "  <thead>\n",
       "    <tr style=\"text-align: right;\">\n",
       "      <th></th>\n",
       "      <th>tier1_category_name</th>\n",
       "      <th>tier2_category_name</th>\n",
       "      <th>tier3_category_name</th>\n",
       "      <th>tier4_category_name</th>\n",
       "      <th>category_link</th>\n",
       "      <th>category_type</th>\n",
       "    </tr>\n",
       "  </thead>\n",
       "  <tbody>\n",
       "    <tr>\n",
       "      <th>0</th>\n",
       "      <td>家電</td>\n",
       "      <td>冰箱</td>\n",
       "      <td>館長推薦</td>\n",
       "      <td></td>\n",
       "      <td>https://www.momoshop.com.tw/category/MgrpCateg...</td>\n",
       "      <td>tier3</td>\n",
       "    </tr>\n",
       "    <tr>\n",
       "      <th>1</th>\n",
       "      <td>手機/相機</td>\n",
       "      <td>Apple週邊</td>\n",
       "      <td>館長推薦</td>\n",
       "      <td></td>\n",
       "      <td>https://www.momoshop.com.tw/category/MgrpCateg...</td>\n",
       "      <td>tier3</td>\n",
       "    </tr>\n",
       "    <tr>\n",
       "      <th>80</th>\n",
       "      <td>手機/相機</td>\n",
       "      <td>手機/平板殼貼</td>\n",
       "      <td>館長推薦</td>\n",
       "      <td></td>\n",
       "      <td>https://www.momoshop.com.tw/category/MgrpCateg...</td>\n",
       "      <td>tier3</td>\n",
       "    </tr>\n",
       "    <tr>\n",
       "      <th>305</th>\n",
       "      <td>票券</td>\n",
       "      <td>美容舒壓券</td>\n",
       "      <td>館長推薦</td>\n",
       "      <td>指壓按摩</td>\n",
       "      <td>https://www.momoshop.com.tw/category/MgrpCateg...</td>\n",
       "      <td>tier4</td>\n",
       "    </tr>\n",
       "    <tr>\n",
       "      <th>374</th>\n",
       "      <td>票券</td>\n",
       "      <td>玩樂/生活券</td>\n",
       "      <td>館長推薦</td>\n",
       "      <td></td>\n",
       "      <td>https://www.momoshop.com.tw/category/MgrpCateg...</td>\n",
       "      <td>tier3</td>\n",
       "    </tr>\n",
       "    <tr>\n",
       "      <th>...</th>\n",
       "      <td>...</td>\n",
       "      <td>...</td>\n",
       "      <td>...</td>\n",
       "      <td>...</td>\n",
       "      <td>...</td>\n",
       "      <td>...</td>\n",
       "    </tr>\n",
       "    <tr>\n",
       "      <th>14144</th>\n",
       "      <td>傢飾寢具</td>\n",
       "      <td>擺飾/壁飾</td>\n",
       "      <td>館長推薦</td>\n",
       "      <td></td>\n",
       "      <td>https://www.momoshop.com.tw/category/MgrpCateg...</td>\n",
       "      <td>tier3</td>\n",
       "    </tr>\n",
       "    <tr>\n",
       "      <th>14290</th>\n",
       "      <td>傢飾寢具</td>\n",
       "      <td>毛巾/浴巾</td>\n",
       "      <td>館長推薦</td>\n",
       "      <td></td>\n",
       "      <td>https://www.momoshop.com.tw/category/MgrpCateg...</td>\n",
       "      <td>tier3</td>\n",
       "    </tr>\n",
       "    <tr>\n",
       "      <th>14291</th>\n",
       "      <td>傢飾寢具</td>\n",
       "      <td>沙發墊/坐墊/抱枕</td>\n",
       "      <td>館長推薦</td>\n",
       "      <td></td>\n",
       "      <td>https://www.momoshop.com.tw/category/MgrpCateg...</td>\n",
       "      <td>tier3</td>\n",
       "    </tr>\n",
       "    <tr>\n",
       "      <th>14588</th>\n",
       "      <td>手機/相機</td>\n",
       "      <td>3C福利品</td>\n",
       "      <td>館長推薦</td>\n",
       "      <td></td>\n",
       "      <td>https://www.momoshop.com.tw/category/MgrpCateg...</td>\n",
       "      <td>tier3</td>\n",
       "    </tr>\n",
       "    <tr>\n",
       "      <th>14668</th>\n",
       "      <td>手機/相機</td>\n",
       "      <td>一般手機</td>\n",
       "      <td>館長推薦</td>\n",
       "      <td></td>\n",
       "      <td>https://www.momoshop.com.tw/category/MgrpCateg...</td>\n",
       "      <td>tier3</td>\n",
       "    </tr>\n",
       "  </tbody>\n",
       "</table>\n",
       "<p>82 rows × 6 columns</p>\n",
       "</div>"
      ],
      "text/plain": [
       "      tier1_category_name tier2_category_name tier3_category_name   \n",
       "0                      家電                  冰箱                館長推薦  \\\n",
       "1                   手機/相機             Apple週邊                館長推薦   \n",
       "80                  手機/相機             手機/平板殼貼                館長推薦   \n",
       "305                    票券               美容舒壓券                館長推薦   \n",
       "374                    票券              玩樂/生活券                館長推薦   \n",
       "...                   ...                 ...                 ...   \n",
       "14144                傢飾寢具               擺飾/壁飾                館長推薦   \n",
       "14290                傢飾寢具               毛巾/浴巾                館長推薦   \n",
       "14291                傢飾寢具           沙發墊/坐墊/抱枕                館長推薦   \n",
       "14588               手機/相機               3C福利品                館長推薦   \n",
       "14668               手機/相機                一般手機                館長推薦   \n",
       "\n",
       "      tier4_category_name                                      category_link   \n",
       "0                          https://www.momoshop.com.tw/category/MgrpCateg...  \\\n",
       "1                          https://www.momoshop.com.tw/category/MgrpCateg...   \n",
       "80                         https://www.momoshop.com.tw/category/MgrpCateg...   \n",
       "305                  指壓按摩  https://www.momoshop.com.tw/category/MgrpCateg...   \n",
       "374                        https://www.momoshop.com.tw/category/MgrpCateg...   \n",
       "...                   ...                                                ...   \n",
       "14144                      https://www.momoshop.com.tw/category/MgrpCateg...   \n",
       "14290                      https://www.momoshop.com.tw/category/MgrpCateg...   \n",
       "14291                      https://www.momoshop.com.tw/category/MgrpCateg...   \n",
       "14588                      https://www.momoshop.com.tw/category/MgrpCateg...   \n",
       "14668                      https://www.momoshop.com.tw/category/MgrpCateg...   \n",
       "\n",
       "      category_type  \n",
       "0             tier3  \n",
       "1             tier3  \n",
       "80            tier3  \n",
       "305           tier4  \n",
       "374           tier3  \n",
       "...             ...  \n",
       "14144         tier3  \n",
       "14290         tier3  \n",
       "14291         tier3  \n",
       "14588         tier3  \n",
       "14668         tier3  \n",
       "\n",
       "[82 rows x 6 columns]"
      ]
     },
     "execution_count": 34,
     "metadata": {},
     "output_type": "execute_result"
    }
   ],
   "source": [
    "df.drop_duplicates(['tier1_category_name', 'tier2_category_name'])"
   ]
  },
  {
   "cell_type": "code",
   "execution_count": 37,
   "id": "896a3e69-6302-422c-b0f4-a7d0dcbb51b0",
   "metadata": {
    "tags": []
   },
   "outputs": [],
   "source": [
    "df_check = pd.read_csv('data/category_momo.csv', index_col=0)"
   ]
  },
  {
   "cell_type": "code",
   "execution_count": 39,
   "id": "bc0d2f66-dffe-476d-8a43-b579aee00ff0",
   "metadata": {
    "tags": []
   },
   "outputs": [
    {
     "data": {
      "text/plain": [
       "82"
      ]
     },
     "execution_count": 39,
     "metadata": {},
     "output_type": "execute_result"
    }
   ],
   "source": [
    "len(set(df_check.tier2_category_name))"
   ]
  },
  {
   "cell_type": "code",
   "execution_count": null,
   "id": "74ba1c22-9cfb-4d81-9225-3e9e2d569426",
   "metadata": {},
   "outputs": [],
   "source": []
  }
 ],
 "metadata": {
  "kernelspec": {
   "display_name": "conda_python3",
   "language": "python",
   "name": "conda_python3"
  },
  "language_info": {
   "codemirror_mode": {
    "name": "ipython",
    "version": 3
   },
   "file_extension": ".py",
   "mimetype": "text/x-python",
   "name": "python",
   "nbconvert_exporter": "python",
   "pygments_lexer": "ipython3",
   "version": "3.10.10"
  }
 },
 "nbformat": 4,
 "nbformat_minor": 5
}
