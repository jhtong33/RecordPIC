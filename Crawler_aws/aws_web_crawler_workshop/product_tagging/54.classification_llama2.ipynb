{
 "cells": [
  {
   "cell_type": "code",
   "execution_count": 2,
   "id": "680e6fdc-aaef-4f37-bc1d-a4d6c3c9cc40",
   "metadata": {
    "tags": []
   },
   "outputs": [
    {
     "name": "stdout",
     "output_type": "stream",
     "text": [
      "Looking in indexes: https://pypi.org/simple, https://pip.repos.neuron.amazonaws.com\n",
      "Requirement already satisfied: langchain in /home/ec2-user/anaconda3/envs/pytorch_p310/lib/python3.10/site-packages (0.0.259)\n",
      "Requirement already satisfied: text2vec in /home/ec2-user/anaconda3/envs/pytorch_p310/lib/python3.10/site-packages (1.2.2)\n",
      "Requirement already satisfied: PyYAML>=5.3 in /home/ec2-user/anaconda3/envs/pytorch_p310/lib/python3.10/site-packages (from langchain) (5.4.1)\n",
      "Requirement already satisfied: SQLAlchemy<3,>=1.4 in /home/ec2-user/anaconda3/envs/pytorch_p310/lib/python3.10/site-packages (from langchain) (2.0.19)\n",
      "Requirement already satisfied: aiohttp<4.0.0,>=3.8.3 in /home/ec2-user/anaconda3/envs/pytorch_p310/lib/python3.10/site-packages (from langchain) (3.8.5)\n",
      "Requirement already satisfied: async-timeout<5.0.0,>=4.0.0 in /home/ec2-user/anaconda3/envs/pytorch_p310/lib/python3.10/site-packages (from langchain) (4.0.2)\n",
      "Requirement already satisfied: dataclasses-json<0.6.0,>=0.5.7 in /home/ec2-user/anaconda3/envs/pytorch_p310/lib/python3.10/site-packages (from langchain) (0.5.14)\n",
      "Requirement already satisfied: langsmith<0.1.0,>=0.0.11 in /home/ec2-user/anaconda3/envs/pytorch_p310/lib/python3.10/site-packages (from langchain) (0.0.20)\n",
      "Requirement already satisfied: numexpr<3.0.0,>=2.8.4 in /home/ec2-user/anaconda3/envs/pytorch_p310/lib/python3.10/site-packages (from langchain) (2.8.5)\n",
      "Requirement already satisfied: numpy<2,>=1 in /home/ec2-user/anaconda3/envs/pytorch_p310/lib/python3.10/site-packages (from langchain) (1.24.3)\n",
      "Requirement already satisfied: openapi-schema-pydantic<2.0,>=1.2 in /home/ec2-user/anaconda3/envs/pytorch_p310/lib/python3.10/site-packages (from langchain) (1.2.4)\n",
      "Requirement already satisfied: pydantic<2,>=1 in /home/ec2-user/anaconda3/envs/pytorch_p310/lib/python3.10/site-packages (from langchain) (1.10.7)\n",
      "Requirement already satisfied: requests<3,>=2 in /home/ec2-user/anaconda3/envs/pytorch_p310/lib/python3.10/site-packages (from langchain) (2.29.0)\n",
      "Requirement already satisfied: tenacity<9.0.0,>=8.1.0 in /home/ec2-user/anaconda3/envs/pytorch_p310/lib/python3.10/site-packages (from langchain) (8.2.2)\n",
      "Requirement already satisfied: jieba in /home/ec2-user/anaconda3/envs/pytorch_p310/lib/python3.10/site-packages (from text2vec) (0.42.1)\n",
      "Requirement already satisfied: loguru in /home/ec2-user/anaconda3/envs/pytorch_p310/lib/python3.10/site-packages (from text2vec) (0.7.0)\n",
      "Requirement already satisfied: transformers in /home/ec2-user/anaconda3/envs/pytorch_p310/lib/python3.10/site-packages (from text2vec) (4.31.0)\n",
      "Requirement already satisfied: datasets in /home/ec2-user/anaconda3/envs/pytorch_p310/lib/python3.10/site-packages (from text2vec) (2.14.4)\n",
      "Requirement already satisfied: tqdm in /home/ec2-user/anaconda3/envs/pytorch_p310/lib/python3.10/site-packages (from text2vec) (4.65.0)\n",
      "Requirement already satisfied: scikit-learn in /home/ec2-user/anaconda3/envs/pytorch_p310/lib/python3.10/site-packages (from text2vec) (1.2.2)\n",
      "Requirement already satisfied: gensim>=4.0.0 in /home/ec2-user/anaconda3/envs/pytorch_p310/lib/python3.10/site-packages (from text2vec) (4.3.1)\n",
      "Requirement already satisfied: pandas in /home/ec2-user/anaconda3/envs/pytorch_p310/lib/python3.10/site-packages (from text2vec) (1.5.3)\n",
      "Requirement already satisfied: attrs>=17.3.0 in /home/ec2-user/anaconda3/envs/pytorch_p310/lib/python3.10/site-packages (from aiohttp<4.0.0,>=3.8.3->langchain) (23.1.0)\n",
      "Requirement already satisfied: charset-normalizer<4.0,>=2.0 in /home/ec2-user/anaconda3/envs/pytorch_p310/lib/python3.10/site-packages (from aiohttp<4.0.0,>=3.8.3->langchain) (3.1.0)\n",
      "Requirement already satisfied: multidict<7.0,>=4.5 in /home/ec2-user/anaconda3/envs/pytorch_p310/lib/python3.10/site-packages (from aiohttp<4.0.0,>=3.8.3->langchain) (6.0.4)\n",
      "Requirement already satisfied: yarl<2.0,>=1.0 in /home/ec2-user/anaconda3/envs/pytorch_p310/lib/python3.10/site-packages (from aiohttp<4.0.0,>=3.8.3->langchain) (1.9.2)\n",
      "Requirement already satisfied: frozenlist>=1.1.1 in /home/ec2-user/anaconda3/envs/pytorch_p310/lib/python3.10/site-packages (from aiohttp<4.0.0,>=3.8.3->langchain) (1.4.0)\n",
      "Requirement already satisfied: aiosignal>=1.1.2 in /home/ec2-user/anaconda3/envs/pytorch_p310/lib/python3.10/site-packages (from aiohttp<4.0.0,>=3.8.3->langchain) (1.3.1)\n",
      "Requirement already satisfied: marshmallow<4.0.0,>=3.18.0 in /home/ec2-user/anaconda3/envs/pytorch_p310/lib/python3.10/site-packages (from dataclasses-json<0.6.0,>=0.5.7->langchain) (3.20.1)\n",
      "Requirement already satisfied: typing-inspect<1,>=0.4.0 in /home/ec2-user/anaconda3/envs/pytorch_p310/lib/python3.10/site-packages (from dataclasses-json<0.6.0,>=0.5.7->langchain) (0.9.0)\n",
      "Requirement already satisfied: scipy>=1.7.0 in /home/ec2-user/anaconda3/envs/pytorch_p310/lib/python3.10/site-packages (from gensim>=4.0.0->text2vec) (1.10.1)\n",
      "Requirement already satisfied: smart-open>=1.8.1 in /home/ec2-user/anaconda3/envs/pytorch_p310/lib/python3.10/site-packages (from gensim>=4.0.0->text2vec) (6.3.0)\n",
      "Requirement already satisfied: typing-extensions>=4.2.0 in /home/ec2-user/anaconda3/envs/pytorch_p310/lib/python3.10/site-packages (from pydantic<2,>=1->langchain) (4.5.0)\n",
      "Requirement already satisfied: idna<4,>=2.5 in /home/ec2-user/anaconda3/envs/pytorch_p310/lib/python3.10/site-packages (from requests<3,>=2->langchain) (3.4)\n",
      "Requirement already satisfied: urllib3<1.27,>=1.21.1 in /home/ec2-user/anaconda3/envs/pytorch_p310/lib/python3.10/site-packages (from requests<3,>=2->langchain) (1.26.14)\n",
      "Requirement already satisfied: certifi>=2017.4.17 in /home/ec2-user/anaconda3/envs/pytorch_p310/lib/python3.10/site-packages (from requests<3,>=2->langchain) (2023.5.7)\n",
      "Requirement already satisfied: greenlet!=0.4.17 in /home/ec2-user/anaconda3/envs/pytorch_p310/lib/python3.10/site-packages (from SQLAlchemy<3,>=1.4->langchain) (2.0.2)\n",
      "Requirement already satisfied: pyarrow>=8.0.0 in /home/ec2-user/anaconda3/envs/pytorch_p310/lib/python3.10/site-packages (from datasets->text2vec) (12.0.0)\n",
      "Requirement already satisfied: dill<0.3.8,>=0.3.0 in /home/ec2-user/anaconda3/envs/pytorch_p310/lib/python3.10/site-packages (from datasets->text2vec) (0.3.6)\n",
      "Requirement already satisfied: xxhash in /home/ec2-user/anaconda3/envs/pytorch_p310/lib/python3.10/site-packages (from datasets->text2vec) (3.3.0)\n",
      "Requirement already satisfied: multiprocess in /home/ec2-user/anaconda3/envs/pytorch_p310/lib/python3.10/site-packages (from datasets->text2vec) (0.70.14)\n",
      "Requirement already satisfied: fsspec[http]>=2021.11.1 in /home/ec2-user/anaconda3/envs/pytorch_p310/lib/python3.10/site-packages (from datasets->text2vec) (2023.5.0)\n",
      "Requirement already satisfied: huggingface-hub<1.0.0,>=0.14.0 in /home/ec2-user/anaconda3/envs/pytorch_p310/lib/python3.10/site-packages (from datasets->text2vec) (0.16.4)\n",
      "Requirement already satisfied: packaging in /home/ec2-user/anaconda3/envs/pytorch_p310/lib/python3.10/site-packages (from datasets->text2vec) (21.3)\n",
      "Requirement already satisfied: python-dateutil>=2.8.1 in /home/ec2-user/anaconda3/envs/pytorch_p310/lib/python3.10/site-packages (from pandas->text2vec) (2.8.2)\n",
      "Requirement already satisfied: pytz>=2020.1 in /home/ec2-user/anaconda3/envs/pytorch_p310/lib/python3.10/site-packages (from pandas->text2vec) (2023.3)\n",
      "Requirement already satisfied: joblib>=1.1.1 in /home/ec2-user/anaconda3/envs/pytorch_p310/lib/python3.10/site-packages (from scikit-learn->text2vec) (1.2.0)\n",
      "Requirement already satisfied: threadpoolctl>=2.0.0 in /home/ec2-user/anaconda3/envs/pytorch_p310/lib/python3.10/site-packages (from scikit-learn->text2vec) (3.1.0)\n",
      "Requirement already satisfied: filelock in /home/ec2-user/anaconda3/envs/pytorch_p310/lib/python3.10/site-packages (from transformers->text2vec) (3.12.0)\n",
      "Requirement already satisfied: regex!=2019.12.17 in /home/ec2-user/anaconda3/envs/pytorch_p310/lib/python3.10/site-packages (from transformers->text2vec) (2023.8.8)\n",
      "Requirement already satisfied: tokenizers!=0.11.3,<0.14,>=0.11.1 in /home/ec2-user/anaconda3/envs/pytorch_p310/lib/python3.10/site-packages (from transformers->text2vec) (0.13.3)\n",
      "Requirement already satisfied: safetensors>=0.3.1 in /home/ec2-user/anaconda3/envs/pytorch_p310/lib/python3.10/site-packages (from transformers->text2vec) (0.3.2)\n",
      "Requirement already satisfied: pyparsing!=3.0.5,>=2.0.2 in /home/ec2-user/anaconda3/envs/pytorch_p310/lib/python3.10/site-packages (from packaging->datasets->text2vec) (3.0.9)\n",
      "Requirement already satisfied: six>=1.5 in /home/ec2-user/anaconda3/envs/pytorch_p310/lib/python3.10/site-packages (from python-dateutil>=2.8.1->pandas->text2vec) (1.16.0)\n",
      "Requirement already satisfied: mypy-extensions>=0.3.0 in /home/ec2-user/anaconda3/envs/pytorch_p310/lib/python3.10/site-packages (from typing-inspect<1,>=0.4.0->dataclasses-json<0.6.0,>=0.5.7->langchain) (1.0.0)\n"
     ]
    }
   ],
   "source": [
    "!pip install langchain text2vec"
   ]
  },
  {
   "cell_type": "code",
   "execution_count": 3,
   "id": "a00be456-0236-4a3d-a821-a7b837c4a3e0",
   "metadata": {
    "tags": []
   },
   "outputs": [],
   "source": [
    "import json\n",
    "with open('workflow_asset/catogory_sample.json', 'r') as f:\n",
    "    category = json.loads(f.read())\n",
    "    \n",
    "with open('workflow_asset/catogory_sample_generate_llama270b.json', 'r') as f:\n",
    "    category_generate = json.loads(f.read())"
   ]
  },
  {
   "cell_type": "code",
   "execution_count": 4,
   "id": "72744127-d5a3-4776-b177-8ab63ae62724",
   "metadata": {
    "tags": []
   },
   "outputs": [],
   "source": [
    "import pandas as pd"
   ]
  },
  {
   "cell_type": "code",
   "execution_count": 5,
   "id": "0d8cdd74-2217-4777-b27d-3ba07b943a72",
   "metadata": {
    "tags": []
   },
   "outputs": [],
   "source": [
    "def generate_sample():\n",
    "    \n",
    "    for c, v in category.items():\n",
    "        for product_sample in v:\n",
    "            yield c, product_sample\n",
    "\n",
    "        for product_sample in category_generate[c]:\n",
    "            yield c, product_sample"
   ]
  },
  {
   "cell_type": "code",
   "execution_count": 6,
   "id": "6070421c-f660-4a43-8f2b-2eac43d47313",
   "metadata": {
    "tags": []
   },
   "outputs": [],
   "source": [
    "df = pd.DataFrame(generate_sample(), columns=['category', 'sample'])\n",
    "df['cs'] = df['category']+'-'+df['sample']"
   ]
  },
  {
   "cell_type": "code",
   "execution_count": 7,
   "id": "54e929e9-b954-4db7-b548-34c89e72fbfa",
   "metadata": {
    "tags": []
   },
   "outputs": [],
   "source": [
    "from langchain.vectorstores import FAISS, Chroma"
   ]
  },
  {
   "cell_type": "code",
   "execution_count": 8,
   "id": "b3d395ca-f081-4148-a6be-2840684afd5e",
   "metadata": {
    "tags": []
   },
   "outputs": [
    {
     "name": "stdout",
     "output_type": "stream",
     "text": [
      "Looking in indexes: https://pypi.org/simple, https://pip.repos.neuron.amazonaws.com\n",
      "Requirement already satisfied: faiss-cpu in /home/ec2-user/anaconda3/envs/pytorch_p310/lib/python3.10/site-packages (1.7.4)\n"
     ]
    }
   ],
   "source": [
    "!pip install faiss-cpu"
   ]
  },
  {
   "cell_type": "code",
   "execution_count": 9,
   "id": "b944da73-8fcf-4215-9cff-51334e012374",
   "metadata": {
    "tags": []
   },
   "outputs": [
    {
     "name": "stderr",
     "output_type": "stream",
     "text": [
      "\u001b[32m2023-08-09 16:29:15.438\u001b[0m | \u001b[34m\u001b[1mDEBUG   \u001b[0m | \u001b[36mtext2vec.sentence_model\u001b[0m:\u001b[36m__init__\u001b[0m:\u001b[36m76\u001b[0m - \u001b[34m\u001b[1mUse device: cpu\u001b[0m\n"
     ]
    }
   ],
   "source": [
    "from text2vec import SentenceModel\n",
    "model = SentenceModel('shibing624/text2vec-base-chinese')\n",
    "embeddings = model.encode(df['sample'])"
   ]
  },
  {
   "cell_type": "code",
   "execution_count": 10,
   "id": "9b3ecd3c-24dd-42e5-82a6-024a9fb5ec56",
   "metadata": {
    "tags": []
   },
   "outputs": [],
   "source": [
    "# from langchain.vectorstores.utils import DistanceStrategy\n",
    "# from langchain.schema import Document\n",
    "# docs = list(map(lambda x: Document(page_content=x[1]['cs'], metadata=x[1]), df.iterrows()))\n",
    "# vdb = FAISS.from_embeddings(docs, embeddings, normalize_L2=True, distance_strategy=DistanceStrategy.COSINE)"
   ]
  },
  {
   "cell_type": "code",
   "execution_count": 11,
   "id": "3a2f5f55-b0c3-4ed1-abb2-36df2e0677f7",
   "metadata": {
    "tags": []
   },
   "outputs": [],
   "source": [
    "from typing import Any, Dict, List, Optional\n",
    "from text2vec import SentenceModel\n",
    "\n",
    "class EmbeddingModel():\n",
    "    def __init__(self, model='shibing624/text2vec-base-chinese', **kwargs):\n",
    "\n",
    "        self.embedding_model = SentenceModel()\n",
    "\n",
    "\n",
    "    def embed_documents(self, texts: List[str]) -> List[List[float]]:\n",
    "        \"\"\"Compute doc embeddings using a Bedrock model.\n",
    "\n",
    "        Args:\n",
    "            texts: The list of texts to embed.\n",
    "\n",
    "        Returns:\n",
    "            List of embeddings, one for each text.\n",
    "        \"\"\"\n",
    "        return self.embedding_model.encode(texts)\n",
    "\n",
    "    def embed_query(self, text: str) -> List[float]:\n",
    "        \"\"\"Compute query embeddings using a Bedrock model.\n",
    "\n",
    "        Args:\n",
    "            text: The text to embed.\n",
    "\n",
    "        Returns:\n",
    "            Embeddings for the text.\n",
    "        \"\"\"\n",
    "        return self.embedding_model.encode([text])[0]\n"
   ]
  },
  {
   "cell_type": "code",
   "execution_count": 12,
   "id": "fde28d5c-76d1-417e-845a-a59ee543976a",
   "metadata": {
    "tags": []
   },
   "outputs": [],
   "source": [
    "from langchain.schema import Document\n",
    "from langchain.vectorstores.utils import DistanceStrategy"
   ]
  },
  {
   "cell_type": "code",
   "execution_count": 13,
   "id": "d2c41244-fa61-4df7-8a1c-e7588f8cca74",
   "metadata": {
    "tags": []
   },
   "outputs": [
    {
     "name": "stderr",
     "output_type": "stream",
     "text": [
      "\u001b[32m2023-08-09 16:29:29.254\u001b[0m | \u001b[34m\u001b[1mDEBUG   \u001b[0m | \u001b[36mtext2vec.sentence_model\u001b[0m:\u001b[36m__init__\u001b[0m:\u001b[36m76\u001b[0m - \u001b[34m\u001b[1mUse device: cpu\u001b[0m\n"
     ]
    }
   ],
   "source": [
    "match_col = 'sample' # cs, sample, category\n",
    "docs = list(map(lambda x: Document(page_content=x[1][match_col], metadata=x[1]), df.iterrows()))\n",
    "vdb = FAISS.from_documents(docs, EmbeddingModel(), normalize_L2=False, distance_strategy=DistanceStrategy.COSINE)"
   ]
  },
  {
   "cell_type": "code",
   "execution_count": null,
   "id": "6a0de2aa-019a-46a7-b594-2e0ecbce3ad6",
   "metadata": {
    "tags": []
   },
   "outputs": [],
   "source": []
  },
  {
   "cell_type": "code",
   "execution_count": 14,
   "id": "c7da931e-ecfd-4186-a8f5-c768c8457148",
   "metadata": {
    "tags": []
   },
   "outputs": [],
   "source": [
    "df_samples = pd.read_csv('data/samples.csv', index_col=0)\n",
    "df_samples = df_samples[df_samples['item_name'].apply(lambda x: '外送費' not in x)]\n",
    "df_samples = df_samples[df_samples['item_name'].apply(lambda x: '平台費' not in x)]\n",
    "df_samples = df_samples[df_samples['category'].apply(lambda x: '其他' not in x)]"
   ]
  },
  {
   "cell_type": "code",
   "execution_count": 15,
   "id": "fb8bb64e-34a3-455d-a945-745dcf32dd4e",
   "metadata": {
    "tags": []
   },
   "outputs": [
    {
     "data": {
      "text/plain": [
       "item_name    現貨+預購 貝恩 Baan NEW嬰兒保養柔濕巾80抽×24 \n",
       "item_type                              日用百貨類\n",
       "category                              家庭清潔洗劑\n",
       "Name: 950792, dtype: object"
      ]
     },
     "execution_count": 15,
     "metadata": {},
     "output_type": "execute_result"
    }
   ],
   "source": [
    "item = df_samples.sample(1).iloc[0]\n",
    "item"
   ]
  },
  {
   "cell_type": "code",
   "execution_count": 16,
   "id": "aa58e217-e325-48c9-88d0-01215a0db2a0",
   "metadata": {
    "tags": []
   },
   "outputs": [
    {
     "data": {
      "text/plain": [
       "'現貨+預購 貝恩 Baan NEW嬰兒保養柔濕巾80抽×24 '"
      ]
     },
     "execution_count": 16,
     "metadata": {},
     "output_type": "execute_result"
    }
   ],
   "source": [
    "item_name = item['item_name']\n",
    "item_name"
   ]
  },
  {
   "cell_type": "code",
   "execution_count": 17,
   "id": "1a64d5ee-81a5-4bd8-a317-79711a1cd3de",
   "metadata": {
    "tags": []
   },
   "outputs": [
    {
     "data": {
      "text/plain": [
       "[(Document(page_content='【Maybelline】柔軟護衣精700ML(玫瑰/茉莉/山茶花/小蒼蘭/藍風鈴)', metadata={'category': '衣物清潔', 'sample': '【Maybelline】柔軟護衣精700ML(玫瑰/茉莉/山茶花/小蒼蘭/藍風鈴)', 'cs': '衣物清潔-【Maybelline】柔軟護衣精700ML(玫瑰/茉莉/山茶花/小蒼蘭/藍風鈴)'}),\n",
       "  203.81702),\n",
       " (Document(page_content='悅嬰牛乳保久乳190mlx6入', metadata={'category': '保久乳', 'sample': '悅嬰牛乳保久乳190mlx6入', 'cs': '保久乳-悅嬰牛乳保久乳190mlx6入'}),\n",
       "  205.97673),\n",
       " (Document(page_content='【Sunsilk】柔軟護衣精700ML(玫瑰/茉莉/山茶花/小蒼蘭/藍風鈴)', metadata={'category': '衣物清潔', 'sample': '【Sunsilk】柔軟護衣精700ML(玫瑰/茉莉/山茶花/小蒼蘭/藍風鈴)', 'cs': '衣物清潔-【Sunsilk】柔軟護衣精700ML(玫瑰/茉莉/山茶花/小蒼蘭/藍風鈴)'}),\n",
       "  211.9634),\n",
       " (Document(page_content='【Garnier】柔軟護衣精700ML(玫瑰/茉莉/山茶花/小蒼蘭/藍風鈴)', metadata={'category': '衣物清潔', 'sample': '【Garnier】柔軟護衣精700ML(玫瑰/茉莉/山茶花/小蒼蘭/藍風鈴)', 'cs': '衣物清潔-【Garnier】柔軟護衣精700ML(玫瑰/茉莉/山茶花/小蒼蘭/藍風鈴)'}),\n",
       "  212.53888),\n",
       " (Document(page_content='【Mary Kay】柔軟護衣精750ML(玫瑰/茉莉/山茶花/小蒼蘭/藍風鈴)', metadata={'category': '衣物清潔', 'sample': '【Mary Kay】柔軟護衣精750ML(玫瑰/茉莉/山茶花/小蒼蘭/藍風鈴)', 'cs': '衣物清潔-【Mary Kay】柔軟護衣精750ML(玫瑰/茉莉/山茶花/小蒼蘭/藍風鈴)'}),\n",
       "  213.32121),\n",
       " (Document(page_content='【SEBAMED 施巴】嬰兒泡泡浴露500mlx2+嬰幼兒洗髮乳150mlx1', metadata={'category': '嬰幼兒用品', 'sample': '【SEBAMED 施巴】嬰兒泡泡浴露500mlx2+嬰幼兒洗髮乳150mlx1', 'cs': '嬰幼兒用品-【SEBAMED 施巴】嬰兒泡泡浴露500mlx2+嬰幼兒洗髮乳150mlx1'}),\n",
       "  215.77779),\n",
       " (Document(page_content='【Pantene】柔軟護衣精750ML(玫瑰/茉莉/山茶花/小蒼蘭/藍風鈴)', metadata={'category': '衣物清潔', 'sample': '【Pantene】柔軟護衣精750ML(玫瑰/茉莉/山茶花/小蒼蘭/藍風鈴)', 'cs': '衣物清潔-【Pantene】柔軟護衣精750ML(玫瑰/茉莉/山茶花/小蒼蘭/藍風鈴)'}),\n",
       "  217.55255),\n",
       " (Document(page_content='【Nivea】柔軟護衣精700ML(玫瑰/茉莉/山茶花/小蒼蘭/藍風鈴)', metadata={'category': '衣物清潔', 'sample': '【Nivea】柔軟護衣精700ML(玫瑰/茉莉/山茶花/小蒼蘭/藍風鈴)', 'cs': '衣物清潔-【Nivea】柔軟護衣精700ML(玫瑰/茉莉/山茶花/小蒼蘭/藍風鈴)'}),\n",
       "  218.63559),\n",
       " (Document(page_content='寶貝牛乳保久乳175mlx6入', metadata={'category': '保久乳', 'sample': '寶貝牛乳保久乳175mlx6入', 'cs': '保久乳-寶貝牛乳保久乳175mlx6入'}),\n",
       "  219.55157),\n",
       " (Document(page_content=\"【L'Oréal Paris】柔軟護衣精800ML(玫瑰/茉莉/山茶花/小蒼蘭/藍風鈴)\", metadata={'category': '衣物清潔', 'sample': \"【L'Oréal Paris】柔軟護衣精800ML(玫瑰/茉莉/山茶花/小蒼蘭/藍風鈴)\", 'cs': \"衣物清潔-【L'Oréal Paris】柔軟護衣精800ML(玫瑰/茉莉/山茶花/小蒼蘭/藍風鈴)\"}),\n",
       "  221.14561)]"
      ]
     },
     "execution_count": 17,
     "metadata": {},
     "output_type": "execute_result"
    }
   ],
   "source": [
    "vdb.similarity_search_with_score(item_name, k=10)"
   ]
  },
  {
   "cell_type": "code",
   "execution_count": null,
   "id": "fc58faf1-2668-49e3-9954-92c8dd070fdc",
   "metadata": {},
   "outputs": [],
   "source": []
  },
  {
   "cell_type": "code",
   "execution_count": null,
   "id": "0506bfa2-27a0-438a-8e4a-407d499e828b",
   "metadata": {},
   "outputs": [],
   "source": []
  },
  {
   "cell_type": "code",
   "execution_count": null,
   "id": "108ac459-a921-4a47-9162-e7cb11a81394",
   "metadata": {},
   "outputs": [],
   "source": []
  },
  {
   "cell_type": "code",
   "execution_count": null,
   "id": "157fcfcb-f9af-43ca-b00a-92adf3d8aad5",
   "metadata": {},
   "outputs": [],
   "source": []
  },
  {
   "cell_type": "code",
   "execution_count": 18,
   "id": "f2ea0013-28b8-48a3-a6e6-b6ac8d4c8bce",
   "metadata": {
    "tags": []
   },
   "outputs": [],
   "source": [
    "from multiprocessing import Pool"
   ]
  },
  {
   "cell_type": "code",
   "execution_count": 19,
   "id": "edc0e525-9149-42f5-a176-ab680c4870b2",
   "metadata": {
    "tags": []
   },
   "outputs": [
    {
     "name": "stderr",
     "output_type": "stream",
     "text": [
      "Process ForkPoolWorker-2:\n",
      "Process ForkPoolWorker-4:\n",
      "Process ForkPoolWorker-5:\n",
      "Process ForkPoolWorker-6:\n",
      "Process ForkPoolWorker-7:\n",
      "Process ForkPoolWorker-8:\n",
      "Process ForkPoolWorker-3:\n",
      "Process ForkPoolWorker-1:\n",
      "Traceback (most recent call last):\n",
      "Traceback (most recent call last):\n",
      "Traceback (most recent call last):\n",
      "  File \"/home/ec2-user/anaconda3/envs/pytorch_p310/lib/python3.10/multiprocessing/process.py\", line 314, in _bootstrap\n",
      "    self.run()\n",
      "  File \"/home/ec2-user/anaconda3/envs/pytorch_p310/lib/python3.10/multiprocessing/process.py\", line 314, in _bootstrap\n",
      "    self.run()\n",
      "Traceback (most recent call last):\n",
      "Traceback (most recent call last):\n",
      "Traceback (most recent call last):\n",
      "  File \"/home/ec2-user/anaconda3/envs/pytorch_p310/lib/python3.10/multiprocessing/process.py\", line 314, in _bootstrap\n",
      "    self.run()\n",
      "Traceback (most recent call last):\n",
      "  File \"/home/ec2-user/anaconda3/envs/pytorch_p310/lib/python3.10/multiprocessing/process.py\", line 108, in run\n",
      "    self._target(*self._args, **self._kwargs)\n",
      "Traceback (most recent call last):\n",
      "  File \"/home/ec2-user/anaconda3/envs/pytorch_p310/lib/python3.10/multiprocessing/process.py\", line 108, in run\n",
      "    self._target(*self._args, **self._kwargs)\n",
      "  File \"/home/ec2-user/anaconda3/envs/pytorch_p310/lib/python3.10/multiprocessing/process.py\", line 108, in run\n",
      "    self._target(*self._args, **self._kwargs)\n",
      "  File \"/home/ec2-user/anaconda3/envs/pytorch_p310/lib/python3.10/multiprocessing/process.py\", line 314, in _bootstrap\n",
      "    self.run()\n",
      "  File \"/home/ec2-user/anaconda3/envs/pytorch_p310/lib/python3.10/multiprocessing/pool.py\", line 114, in worker\n",
      "    task = get()\n",
      "  File \"/home/ec2-user/anaconda3/envs/pytorch_p310/lib/python3.10/multiprocessing/pool.py\", line 114, in worker\n",
      "    task = get()\n",
      "  File \"/home/ec2-user/anaconda3/envs/pytorch_p310/lib/python3.10/multiprocessing/process.py\", line 314, in _bootstrap\n",
      "    self.run()\n",
      "  File \"/home/ec2-user/anaconda3/envs/pytorch_p310/lib/python3.10/multiprocessing/process.py\", line 314, in _bootstrap\n",
      "    self.run()\n",
      "  File \"/home/ec2-user/anaconda3/envs/pytorch_p310/lib/python3.10/multiprocessing/process.py\", line 314, in _bootstrap\n",
      "    self.run()\n",
      "  File \"/home/ec2-user/anaconda3/envs/pytorch_p310/lib/python3.10/multiprocessing/process.py\", line 314, in _bootstrap\n",
      "    self.run()\n",
      "  File \"/home/ec2-user/anaconda3/envs/pytorch_p310/lib/python3.10/multiprocessing/pool.py\", line 114, in worker\n",
      "    task = get()\n",
      "  File \"/home/ec2-user/anaconda3/envs/pytorch_p310/lib/python3.10/multiprocessing/process.py\", line 108, in run\n",
      "    self._target(*self._args, **self._kwargs)\n",
      "  File \"/home/ec2-user/anaconda3/envs/pytorch_p310/lib/python3.10/multiprocessing/process.py\", line 108, in run\n",
      "    self._target(*self._args, **self._kwargs)\n",
      "  File \"/home/ec2-user/anaconda3/envs/pytorch_p310/lib/python3.10/multiprocessing/queues.py\", line 367, in get\n",
      "    return _ForkingPickler.loads(res)\n",
      "  File \"/home/ec2-user/anaconda3/envs/pytorch_p310/lib/python3.10/multiprocessing/queues.py\", line 367, in get\n",
      "    return _ForkingPickler.loads(res)\n",
      "  File \"/home/ec2-user/anaconda3/envs/pytorch_p310/lib/python3.10/multiprocessing/queues.py\", line 367, in get\n",
      "    return _ForkingPickler.loads(res)\n",
      "  File \"/home/ec2-user/anaconda3/envs/pytorch_p310/lib/python3.10/multiprocessing/process.py\", line 108, in run\n",
      "    self._target(*self._args, **self._kwargs)\n",
      "  File \"/home/ec2-user/anaconda3/envs/pytorch_p310/lib/python3.10/multiprocessing/process.py\", line 108, in run\n",
      "    self._target(*self._args, **self._kwargs)\n",
      "  File \"/home/ec2-user/anaconda3/envs/pytorch_p310/lib/python3.10/multiprocessing/pool.py\", line 114, in worker\n",
      "    task = get()\n",
      "  File \"/home/ec2-user/anaconda3/envs/pytorch_p310/lib/python3.10/multiprocessing/pool.py\", line 114, in worker\n",
      "    task = get()\n",
      "  File \"/home/ec2-user/anaconda3/envs/pytorch_p310/lib/python3.10/multiprocessing/pool.py\", line 114, in worker\n",
      "    task = get()\n",
      "  File \"/home/ec2-user/anaconda3/envs/pytorch_p310/lib/python3.10/multiprocessing/queues.py\", line 367, in get\n",
      "    return _ForkingPickler.loads(res)\n",
      "  File \"/home/ec2-user/anaconda3/envs/pytorch_p310/lib/python3.10/multiprocessing/process.py\", line 108, in run\n",
      "    self._target(*self._args, **self._kwargs)\n",
      "AttributeError: Can't get attribute 'classify' on <module '__main__'>\n",
      "  File \"/home/ec2-user/anaconda3/envs/pytorch_p310/lib/python3.10/multiprocessing/queues.py\", line 367, in get\n",
      "    return _ForkingPickler.loads(res)\n",
      "AttributeError: Can't get attribute 'classify' on <module '__main__'>\n",
      "  File \"/home/ec2-user/anaconda3/envs/pytorch_p310/lib/python3.10/multiprocessing/pool.py\", line 114, in worker\n",
      "    task = get()\n",
      "AttributeError: Can't get attribute 'classify' on <module '__main__'>\n",
      "AttributeError: Can't get attribute 'classify' on <module '__main__'>\n",
      "  File \"/home/ec2-user/anaconda3/envs/pytorch_p310/lib/python3.10/multiprocessing/queues.py\", line 367, in get\n",
      "    return _ForkingPickler.loads(res)\n",
      "  File \"/home/ec2-user/anaconda3/envs/pytorch_p310/lib/python3.10/multiprocessing/queues.py\", line 367, in get\n",
      "    return _ForkingPickler.loads(res)\n",
      "AttributeError: Can't get attribute 'classify' on <module '__main__'>\n",
      "AttributeError: Can't get attribute 'classify' on <module '__main__'>\n",
      "AttributeError: Can't get attribute 'classify' on <module '__main__'>\n",
      "  File \"/home/ec2-user/anaconda3/envs/pytorch_p310/lib/python3.10/multiprocessing/pool.py\", line 114, in worker\n",
      "    task = get()\n",
      "  File \"/home/ec2-user/anaconda3/envs/pytorch_p310/lib/python3.10/multiprocessing/queues.py\", line 367, in get\n",
      "    return _ForkingPickler.loads(res)\n",
      "AttributeError: Can't get attribute 'classify' on <module '__main__'>\n"
     ]
    }
   ],
   "source": [
    "p = Pool(8)"
   ]
  },
  {
   "cell_type": "code",
   "execution_count": null,
   "id": "dd4f45ad-0b42-45cd-8531-09e1ea58af94",
   "metadata": {},
   "outputs": [],
   "source": []
  },
  {
   "cell_type": "code",
   "execution_count": null,
   "id": "ba479f98-4d13-4ee4-a8fe-78a4fbc5df24",
   "metadata": {
    "tags": []
   },
   "outputs": [],
   "source": []
  },
  {
   "cell_type": "code",
   "execution_count": 20,
   "id": "aa030a7e-6630-4426-adff-5257b5b87bce",
   "metadata": {
    "tags": []
   },
   "outputs": [
    {
     "data": {
      "text/plain": [
       "[(Document(page_content='【Maybelline】柔軟護衣精700ML(玫瑰/茉莉/山茶花/小蒼蘭/藍風鈴)', metadata={'category': '衣物清潔', 'sample': '【Maybelline】柔軟護衣精700ML(玫瑰/茉莉/山茶花/小蒼蘭/藍風鈴)', 'cs': '衣物清潔-【Maybelline】柔軟護衣精700ML(玫瑰/茉莉/山茶花/小蒼蘭/藍風鈴)'}),\n",
       "  219.36035)]"
      ]
     },
     "execution_count": 20,
     "metadata": {},
     "output_type": "execute_result"
    }
   ],
   "source": [
    "vdb.similarity_search_with_score([item_name, item_name], k=1)#[0][0].metadata['category']"
   ]
  },
  {
   "cell_type": "code",
   "execution_count": null,
   "id": "bfa1c32e-a597-46a2-9618-99555114d7de",
   "metadata": {},
   "outputs": [],
   "source": []
  },
  {
   "cell_type": "code",
   "execution_count": null,
   "id": "05697a09-4c4e-48e3-9362-107d5852f06f",
   "metadata": {},
   "outputs": [],
   "source": []
  },
  {
   "cell_type": "code",
   "execution_count": 21,
   "id": "8cfcf17d-6177-4b9d-83b0-684d66706146",
   "metadata": {
    "tags": []
   },
   "outputs": [
    {
     "name": "stderr",
     "output_type": "stream",
     "text": [
      "\u001b[32m2023-08-09 16:30:05.030\u001b[0m | \u001b[34m\u001b[1mDEBUG   \u001b[0m | \u001b[36mtext2vec.sentence_model\u001b[0m:\u001b[36m__init__\u001b[0m:\u001b[36m76\u001b[0m - \u001b[34m\u001b[1mUse device: cpu\u001b[0m\n"
     ]
    }
   ],
   "source": [
    "match_col = 'category' # cs, sample, category\n",
    "docs = list(map(lambda x: Document(page_content=x[1][match_col], metadata=x[1]), df.iterrows()))\n",
    "vdb = FAISS.from_documents(docs, EmbeddingModel(), normalize_L2=False, distance_strategy=DistanceStrategy.COSINE)"
   ]
  },
  {
   "cell_type": "code",
   "execution_count": null,
   "id": "ebee58e5-4120-4241-9d40-4511a69f98b8",
   "metadata": {},
   "outputs": [],
   "source": []
  },
  {
   "cell_type": "code",
   "execution_count": null,
   "id": "3d6da04a-5d03-4430-8178-cb158fa33cd3",
   "metadata": {},
   "outputs": [],
   "source": []
  },
  {
   "cell_type": "code",
   "execution_count": 22,
   "id": "493c8a99-72ff-4757-9d9f-485efc52e87b",
   "metadata": {
    "tags": []
   },
   "outputs": [],
   "source": [
    "def classify(item_name):\n",
    "    # return vdb.similarity_search_with_score(item_name, k=1)[0][0].metadata['category']\n",
    "    return vdb.similarity_search(item_name, k=1)[0].metadata['category']"
   ]
  },
  {
   "cell_type": "code",
   "execution_count": 25,
   "id": "bb3b63e2-e96c-4958-b561-b4cdefdcf77f",
   "metadata": {
    "tags": []
   },
   "outputs": [
    {
     "data": {
      "text/plain": [
       "Document(page_content='現做咖啡飲品', metadata={'category': '現做咖啡飲品', 'sample': '全家特濃拿鐵', 'cs': '現做咖啡飲品-全家特濃拿鐵'})"
      ]
     },
     "execution_count": 25,
     "metadata": {},
     "output_type": "execute_result"
    }
   ],
   "source": [
    "docs[0]"
   ]
  },
  {
   "cell_type": "code",
   "execution_count": 26,
   "id": "dc341876-7301-448d-b437-09bb40bffb92",
   "metadata": {
    "tags": []
   },
   "outputs": [
    {
     "data": {
      "text/plain": [
       "{'現做咖啡飲品': ['全家特濃拿鐵', '西西里風味檸檬氣泡咖啡'],\n",
       " '罐裝/瓶裝咖啡': ['《UCC》無糖咖啡飲料185g', 'SANGARIA 圓潤咖啡飲料-拿鐵 (280gx24入)'],\n",
       " '沖泡式咖啡': ['西雅圖即品拿鐵無加糖2合1咖啡21g', '【King Coffee 王者咖啡】經典風味推薦組：三合一滴滴煉奶即溶咖啡'],\n",
       " '濾掛式咖啡': ['【熙舍咖啡】義大利濾掛式咖啡綜合風味10g/包', '《西雅圖》極品濾掛咖啡-曼巴風情(50入/盒)'],\n",
       " '即溶咖啡': ['AGFMAXIM咖啡罐(藍)-奢華摩登 (80g)', 'AGFMAXIM咖啡罐(藍)-奢華摩登 (80g)'],\n",
       " '咖啡相關食用品': ['哥倫比亞咖啡豆(Supremo等級)', '冠軍單品咖啡豆 - 200g'],\n",
       " '現做茶飲品': ['桂花四季春', '春芽冷露(中) + 白杏'],\n",
       " '茶飲': ['【分批取】義美錫蘭紅茶946ml', '泰山冰鎮大麥綠茶300ml*6入'],\n",
       " '碳酸/汽水': ['金車奧利多水寡糖飲料2000ml', '巨峰葡萄氣泡飲'],\n",
       " '果汁/果醋飲': ['innocent100%椰子水1000ml', '蜂蜜藍莓醋'],\n",
       " '運動飲料': ['【分批取】黑松FIN補給飲料PET580ml', '寶礦力水得580ml'],\n",
       " '養生飲品': ['薑汁奶茶 熱', '【四喜】１８罐—冰糖蓮子白木耳露500ml±3%/罐'],\n",
       " '能量飲料': ['魔爪超越碳酸能量飲料355ml', '維他露P330ml (24入)'],\n",
       " '特殊風味飲品': ['金車健酪YoGoFresh乳酸飲料-原味580ml', '波蜜果菜汁250mlx6入'],\n",
       " '沖泡類飲品': ['【分批取】金品茗茶厚韻烏龍茶三角立體茶包2.5gx22入', '【義美生機】台灣黑豆茶'],\n",
       " '現調果汁': ['芭樂檸檬 (店長推薦★)', '百香芭樂/中'],\n",
       " '礦泉水': ['台鹽海洋鹼性離子水', '【悅氏】礦泉水 600mlx24瓶'],\n",
       " '氣泡水': ['泰山Cheers Bee 蜂蜜氣泡水 590ml', '金車 CrystalValley礦沛氣泡水 585ml'],\n",
       " '機能水': ['BLACK POWER黑水運動機能礦泉水', '悅氏鎂日補給運動機能水880ml'],\n",
       " '鮮乳類': ['【分批取】林鳳營高品質鮮乳1857ml', '牛奶本味-鈣質強化牛奶946ml'],\n",
       " '保久乳': ['國信金蘋果-蘋果牛奶175mlx6入', '【義美】箱購義美牛乳保久乳２５０ｍｌ(２５０ｍｌ＊２４入／箱)'],\n",
       " '調味乳': ['【分批取】福樂蘋果牛乳936ml', '比菲多可可好朋友乳飲品2620ml'],\n",
       " '優格': ['【分批取】林鳳營特濃重乳優格-無加糖400g', '福樂自然零無加糖優酪100g*4入'],\n",
       " '優酪乳': ['簡單點優酪乳939ml', '愛爾曼希臘式優格飲(每瓶200ml)到貨效期約6-8天'],\n",
       " '發酵乳': ['【一次取】活益比菲多-原味1795ml', 'LCA506活菌發酵乳-清爽0100ml*10入'],\n",
       " '豆漿': ['【分批取】光泉無加糖濃豆漿936ml', '【分批取】光泉燕麥高纖無糖鮮豆漿1857ml'],\n",
       " '米漿': ['【分批取】光泉紫米燕麥糙米漿1857ml', '光泉薏仁糙米漿-1857ml到貨效期約6-8天'],\n",
       " '燕麥奶': ['【分批取】桂格顆粒豆漿燕麥920ml', '桂格Oat Ya職人燕麥奶936ml'],\n",
       " '現做霜淇淋/聖代': ['春日抹茶霜淇淋', '四季金萱霜淇淋'],\n",
       " '冰棒/雪糕': ['杜老爺超級曠世奇派酒釀黑櫻桃', '百吉布丁雪糕'],\n",
       " '冰淇淋': ['家福香草風味冰淇淋', '杜老爺enjoy冰淇淋-草莓起司'],\n",
       " '甜筒': ['杜老爺淇淋巧酥甜筒', '杜老爺黑糖珍珠甜筒(每盒82gx4)'],\n",
       " '仙草/愛玉': ['寒天檸檬愛玉', '泰山仙草凍'],\n",
       " '水果冰品': ['初鹿芒果優格冰沙'],\n",
       " '冰塊': ['韓國YOUUS急凍冰球', 'ＦＭＣ衛生冰塊'],\n",
       " '現調冰品': ['百香芒果冰沙', '芒果覆盆子拿鐵冰沙'],\n",
       " '蒸箱食品': ['叉燒包', '大鮮肉包'],\n",
       " '地瓜': ['全家夯番薯', '瓜瓜園 冰烤蕃薯'],\n",
       " '熱狗': ['雞肉Light熱狗', '四種起司xQ彈多汁美式原味熱狗'],\n",
       " '關東煮': ['韓式辣味魚糕', '華昇飛魚卵海鮮卷'],\n",
       " '米飯類': ['台式芋頭鹹粥', '大飯糰泡菜鮪魚'],\n",
       " '麵食類': ['花雕雞絲涼麵', '日式蕎麥沾麵'],\n",
       " '三明治': ['雞蛋沙拉三明治', '紐奧良風味烤雞鮮蔬三明治'],\n",
       " '漢堡': ['美式雞腿堡', '豬肉起司蛋堡'],\n",
       " '生鮮蔬果/沙拉': ['青檸烤雞握沙拉', '季節水果拼盤'],\n",
       " '小菜/滷味': ['小滷青蔬', '猴菇麻油蔬'],\n",
       " '湯品': ['玉米濃湯', '鮮筍排骨湯'],\n",
       " '水餃/點心': ['及第冷藏豬肉熟水餃', '鱈蟹柳'],\n",
       " '雞胸肉': ['泰式香檸嫩雞胸', '秘香椒麻嫩雞胸'],\n",
       " '茶葉蛋/水煮蛋': ['茶葉蛋', '溏心蛋'],\n",
       " '肉品': ['御料小館美式香辣雞丁', '御料小館韓風拌拌炸雞'],\n",
       " '麵包': ['北海道牛奶吐司', '丹麥菠蘿'],\n",
       " '蛋糕': ['虎皮小卷', '波士頓提拉米蘇'],\n",
       " '中式糕點': ['土鳳梨酥', '蛋黃酥'],\n",
       " '生雞蛋': ['洗選蛋', '土雞蛋'],\n",
       " '加工蛋': ['皮蛋', '鐵蛋'],\n",
       " '生鮮蔬菜': ['高麗菜', '菠菜'],\n",
       " '生鮮水果': ['蘋果', '葡萄'],\n",
       " '生鮮肉品': ['生雞腿塊', '黑豬梅花火鍋片'],\n",
       " '生鮮海鮮': ['鮭魚輪切', '日本生干貝'],\n",
       " '豆腐': ['板豆腐', '雞蛋豆腐'],\n",
       " '冷藏調理': ['蒟蒻', '米血糕'],\n",
       " '速食調理包': ['微波料理包', '麻辣鴨血'],\n",
       " '冷凍蔬菜': ['雅方冷凍火腿丁混合蔬菜', '冷凍花椰菜'],\n",
       " '冷凍水果': ['冷凍覆盆莓', '冷凍波羅蜜'],\n",
       " '冷凍肉品': ['冷凍火鍋片', '冷凍羊排'],\n",
       " '冷凍海鮮': ['冷凍鮭魚', '冷凍蛤仔肉'],\n",
       " '火鍋用料': ['黃金魚蛋', '蟹味棒'],\n",
       " '冷凍水餃/點心類': ['及地冷凍水餃', '冷凍蔥油餅'],\n",
       " '冷凍微波料理': ['段純貞經典紅燒牛肉麵(冷凍)', '羊肉爐'],\n",
       " '保健/養生': ['牛樟芝', '人蔘'],\n",
       " '美肌/纖體': ['印加果油', '苦瓜胜肽'],\n",
       " '醫材/藥品': ['口罩', '酒精'],\n",
       " '餅乾': ['蘇打餅乾', '波的多洋芋片(蚵仔煎口味)'],\n",
       " '堅果': ['萬歲牌起司堅果', '盛香珍葵香瓜子'],\n",
       " '肉乾/肉紙': ['牛肉乾', '牛肉條'],\n",
       " '豆乾': ['五香豆乾', '沙茶豆乾'],\n",
       " '魷魚絲': ['鱈魚香絲', '魷魚片'],\n",
       " '海苔': ['元本山', '烤海苔'],\n",
       " '布丁/果凍': ['舉杯低卡蒟蒻凍機能款396g(4盒24根)', '【台灣森永】威德in果凍-180gx24入/盒(維他命)'],\n",
       " '果乾': ['義美太陽牌加州梅340g(340公克)', '真甘純草莓35g(冷凍真空乾燥整顆草莓)'],\n",
       " '蔬片乾': ['南瓜先生-芥末南瓜脆片70g 三入組', '連城記地瓜酥-黑糖'],\n",
       " '即飲甜品': ['【泰山】八寶粥375gx6入/組', '【愛之味】牛奶花生340gx12入'],\n",
       " '糖果': ['寶潤無糖潤喉糖', '聖祖貢糖】原味貢糖'],\n",
       " '巧克力': ['堅果乳加-178g(屏東可可 乳加)', '【Twix特趣】迷你焦糖夾心巧克力'],\n",
       " '口香糖': ['無糖口香糖-極酷嗆涼薄荷62g', '【Eclipse 易口舒】無糖薄荷錠2入裝'],\n",
       " '料理調味': ['醬油', '辣油'],\n",
       " '果醬/抹醬': ['奶酥抹醬', '咖椰吐司抹醬'],\n",
       " '有機食品': ['有機京都純抹茶粉75g*2罐', '有機無麩質綜合麥片X4盒組'],\n",
       " '罐頭': ['【Lotte 樂天】午餐肉340g', '各式鮪魚罐頭'],\n",
       " '各式麵條/拌麵': ['維力媽媽拉麵6入', '雞絲麵'],\n",
       " '泡麵': ['日清 咚兵衛油豆腐烏龍麵', '【不倒翁】金螃蟹海鮮風味拉麵'],\n",
       " '嬰幼兒食品': ['龜田製果 嬰兒米果 53g 龜田 嬰兒米餅 日本米餅', 'BABYBIO 生機鮮蔬泥/果泥200ml (3款可選)'],\n",
       " '南北乾貨/雜糧食材': ['特選富饒禮盒A 花菇+樂可思+干貝(南北貨禮盒)', '北海道鮮味特賞x1盒(干貝 /南北貨 /伴手禮)'],\n",
       " '米': ['花蓮富里初雪美姬米1.5KG', '中興無洗米2KG'],\n",
       " '油': ['玄米油', '椰子油'],\n",
       " '奶粉': ['100%純生乳奶粉 隨手包', '超濃全脂奶粉'],\n",
       " '沖泡即食品': ['【京工養生館】芋頭香菇粥(30gx24包)', '桂格原片原味大燕麥片'],\n",
       " '民生紙品': ['成人用尿布褲 U0110- 尺寸L/藍色', '成人用尿布褲 U0110- 尺寸L/藍色'],\n",
       " '洗衣用具': ['居家生活用品洗衣機專用防變形洗衣袋洗毛衣網洗衣機網袋護洗袋大號六件套',\n",
       "  '居家生活用品 曬衣籃大號折疊家用晾衣籃曬衣網雙層晾曬籃(晾衣網洗衣袋衣架三件組I94-1)'],\n",
       " '家庭清潔用品': ['【驅塵氏】靜電除塵紙超值包', '【妙潔】加長型掃把畚箕組(1掃把+1畚箕)'],\n",
       " '家庭清潔洗劑': ['居家防護抗菌液 家庭號4L 贈 連續噴霧瓶x1', '家庭用強力清潔噴霧400ml（浴室用油污用木材用）'],\n",
       " '衣物清潔': ['【Lanown 南王】奈米銀液體肥皂膠囊 桶裝140顆(奈米銀 小蘇打 無患子 英國梨 茶樹尤加利 洗衣球 液體肥皂)',\n",
       "  '【熊寶貝】香水精華柔軟護衣精700ML(玫瑰/茉莉/山茶花/小蒼蘭/藍風鈴)'],\n",
       " '嬰幼兒用品': ['【SEBAMED 施巴】嬰兒泡泡浴露500mlx2+嬰幼兒洗髮乳150mlx1',\n",
       "  '【聚泰科技】幼童3D立體口罩 奈米鋅銅離子抑菌(50片/盒'],\n",
       " '餐廚用品': ['【dretec】新柴犬造型計時器-咖啡色【dretec】新柴犬造型計時器-咖啡色', '【MUJI 無印良品】不鏽鋼計量杯'],\n",
       " '汽機車用品類': ['行車記錄器', '前後雙鏡'],\n",
       " '衛浴用品': ['瞬熱式電腦馬桶座', '方型台上陶瓷盆'],\n",
       " '晴雨相關用具': ['擁抱點點自動折傘(富雨洋傘聯名款/MIT製作)', '奈米防水噴霧200ml'],\n",
       " '女性衛生用品': ['KOTEX靠得住 靠得住草本抑菌23cm 14片3包', '舒摩兒 舒摩兒私密緊實青春露 57g'],\n",
       " '髮部清潔/保養': ['麗仕 LUX 麗仕髮的補給角蛋白胺基酸護髮乳450g', '566 566美色護髮染髮霜 #4栗黑色'],\n",
       " '身體清潔/保養': ['AVEENO 艾惟諾 艾惟諾燕麥保濕乳354ml【深層保濕身體乳液】', 'SCHICK 舒芙仕女除毛刀把 (敏感肌用)'],\n",
       " '口腔保健': ['3M 3M護牙牙間刷L型 sss 3入', '李施德霖 李施德霖 天然綠茶 防蛀護齦雙效配方漱口水250ml'],\n",
       " '彩妝/卸妝': ['SOFINA 蘇菲娜漾緁控油瓷效妝前隔離乳超值組', 'ETUDEHOUSE EH素描高手造型眉筆 #02 0.25g'],\n",
       " '男性用品/保養': ['SCHICK 舒適捍將3刮鬍刀1刀把1刀片', 'FA Fa 德國止汗爽身露-運動型滾珠瓶50ml'],\n",
       " '美容保養': ['CALVINKLEIN Calvin Klein CK ONE中性淡香水(200ml)',\n",
       "  'REUZEL REUZEL 灰豬極強水泥級無光澤髮蠟 35g'],\n",
       " '貓食': ['聰明貓乾糧-多種口味 10KG(貓飼料/成貓)', '貓糧-多種口味 8KG(貓飼料/成貓)'],\n",
       " '狗食': ['LID低敏無穀地瓜鹿肉全犬配方-4.5磅', '乾狗糧-多種口味 15KG(狗飼料/成犬)'],\n",
       " '寵物用品': ['CATSHOUSE 國際貓家黃標 純松木木屑砂 家庭號經濟組-箱購', '碳系列 高效速乾寵物尿布墊 (除臭抗菌 吸水力強)'],\n",
       " '運動健身': ['輝葉 NBR環保8mm瑜珈墊(台灣製)', '防霧防水防紫外線泳鏡 蛙鏡'],\n",
       " '戶外露營': ['4人快開防曬遮陽帳篷', '天幕帳專用營柱 (2組入)'],\n",
       " '行李箱/配件': ['旅狐TRAVEL FOX 20吋機長登機箱', 'SN-30011 行李箱束帶/100CM-時尚風'],\n",
       " '大型家電': ['東元TECO 1對1變頻單冷空調', '國際牌Panasonic 12公斤 洗脫烘滾筒洗衣機'],\n",
       " '廚房家電': ['Coway 奈米高效淨水器 銀', '國際牌Panasonic 4人份 IH電子鍋'],\n",
       " '生活家電': ['日象6W立式捕蚊燈', 'Panasonic 2 IN 1 蒸氣電熨斗(霧黑色)'],\n",
       " '美容家電': ['沙宣24mm等離子柔髮直捲造型夾', '歐樂B PRO級潔牙超值組'],\n",
       " '視聽娛樂家電': ['國際 Panasonic 50型 4K 安卓智慧聯網顯示器', 'Sansui 藍牙微型劇院'],\n",
       " '電池充電相關': ['CS昌碩 單充鋰電池充電器(快充型)', 'INTOPIC 18W雙向快充超薄型行動電源'],\n",
       " '書籍': ['新小牛頓雜誌 9月號/2022 第216期', '在座寫輕小說的各位，全都有病(01)'],\n",
       " '數位內容': ['讓男人追著妳跑（暢銷新裝版） (電子書)', '樂聖 貝多芬-交響旋律3CD'],\n",
       " '文教用品': ['2023 桌上型台灣美食月曆/桌曆', '丹寧筆袋/方型'],\n",
       " '報紙': ['中國時報', '臺灣英文新聞報'],\n",
       " '手機/通訊/週邊': ['ROG Phone 7 極光白 6.78吋(16G/512G)',\n",
       "  'iPhone 14 Plus 6.7吋 Combat 四角強化軍規等級防摔三料保護殼'],\n",
       " '桌機/筆電/平板': ['Galaxy Tab S8+ 12.4吋 8G/128G Wifi',\n",
       "  'i5十核桌上型電腦(Inspiron 3020T/i5-13400/8G/256G+1TB/W11)'],\n",
       " '電腦螢幕/硬碟': ['【ASUS 華碩】VA27DQ 27型 IPS 窄邊框液晶螢幕',\n",
       "  '【TOSHIBA 東芝】V10 Canvio Advance 2TB 2.5吋行動硬碟'],\n",
       " '相機/攝影/DV': ['SONY E接環24-240mm全片幅單眼相機鏡頭', '五節碳纖維單腳架'],\n",
       " '週邊/耗材': ['光碟片', 'epson 原廠黑色墨水匣'],\n",
       " '虛擬/點數商品': ['Sony PSN 面額500', 'Office 365個人版虛擬卡'],\n",
       " '品牌鞋款': ['SKECHERS 男健走系列 GOWALK 6 - 2162', 'ATTA6689-白8-運動風簡約休閒拖鞋'],\n",
       " '流行鞋襪': ['大後跟拼色男船襪-淺灰', '皮爾卡登-1/4透氣休閒襪-3入-黑'],\n",
       " '男女內著': ['女灰Ｌ恆暖石墨烯發熱衣', '瑪榭20D無痕透明防爆線褲襪-膚'],\n",
       " '童裝': ['止滑兒童褲襪-粉M', '1/2 MINI-童心-服裝'],\n",
       " '女裝': ['女黑XL輕暖感上衣', 'Miine 女運動休閒三角褲2入組-L'],\n",
       " '男裝': ['少男服飾Young Men＇s Wear', '防水透氣夾克2XL深藍色'],\n",
       " '個人服飾配件': ['瑪榭抗UV素面棉質手套', 'CLATHAS山茶花吊飾菱格紋尼龍斜背包-海軍藍'],\n",
       " '運動機能服飾': ['X MOMENT 長袖機能衣 (黑) - XM01BLK_HLG',\n",
       "  'Jolly Bird 男款彈力編織慢跑褲 - Black # Steel 復古黑'],\n",
       " '鑽石': ['【agete】NOJESS 10K Tiny小花鑽石戒指', 'N012747485Swiss Diamond瑞士鑽石 圓形'],\n",
       " '珠寶／玉石': ['【漢石齋】天然A貨 冰種飄花 翡翠手鐲玉鐲(手圍19.5/版寬14mm)',\n",
       "  '【K.D.J 圓融珠寶】黃加綠葫蘆套鍊翡翠墜飾天然A貨(18K金鑲鑽)'],\n",
       " '精品／飾品': ['造型花附吊鍊 (美樂蒂)', '高級耳夾'],\n",
       " '手錶': ['【SWATCH】七龍珠Z聯名錶-悟空/賽魯 BIG BOLD系列(47mm)',\n",
       "  '【CASIO 卡西歐】MQ-24UC 簡約百搭超輕薄大地色系中性數字腕錶'],\n",
       " '黃金': ['【JING YANG 晶漾】黃金女項鍊 蝴蝶結(1.53錢±0.05錢)', '【點睛品】金元寶 黃金擺件_計價黃金'],\n",
       " '家飾': ['【KINYO】無印風木紋掛鐘(CL-156)', 'Colby 仿銅落地鏡'],\n",
       " '寢具': ['柔絲絨床包三件組-雙人-混款', '山寧泰記憶枕'],\n",
       " '傢俱': ['宅-三層廚房雙籃置物架', '【WAKUHOME 瓦酷家具】歐克斯工業生活4尺書桌'],\n",
       " '床墊': ['冬夏兩用中青三摺床墊-5×6尺', '可換式（銀纖）中底乳膠墊-24'],\n",
       " '燈具': ['【華燈市】法蘭西銀6+2半吸頂燈', '【光的魔法師 Magic Light】現代簡約LED用辦公照明燈具-銀色格柵款'],\n",
       " '菸品': ['新樂園１號香菸', '大樂邁銀２５支香菸'],\n",
       " '威士忌': ['傑克丹尼威士忌', '仕高利達金雪莉蘇格蘭威士忌200ml'],\n",
       " '清酒': ['月桂冠清酒', '松竹梅白壁藏澪 MIO 氣泡清酒'],\n",
       " '調酒': ['哈蜜瓜風味調酒', '哈特HOT伏特加調酒(葡萄口味)[300ml  5%]'],\n",
       " '啤酒': ['台灣啤酒330ml(6入)', '(D)台灣啤酒香甜葡萄330ml'],\n",
       " '紅白酒': ['玉泉法國紅葡萄酒', '昆斯特樂麗絲玲白酒'],\n",
       " '香檳氣泡酒': ['杜瓦樂華 玫瑰微甜香檳', '西班牙 北極熊氣泡酒'],\n",
       " '藥酒': ['【大鵰】蔘茸藥酒300ml*24(乙類成藥)', '【養命酒】日本藥用養命酒700ML×2瓶'],\n",
       " '高粱': ['38°金門高粱酒', '金門紅標高粱58%'],\n",
       " '禮盒': ['古傳滴雞精禮盒', '天地合補金盞花葉黃素禮盒']}"
      ]
     },
     "execution_count": 26,
     "metadata": {},
     "output_type": "execute_result"
    }
   ],
   "source": [
    "test = df_samples.sample(10000)\n",
    "category"
   ]
  },
  {
   "cell_type": "code",
   "execution_count": 27,
   "id": "8697b74c-be43-474f-9b65-1eba702af449",
   "metadata": {
    "tags": []
   },
   "outputs": [
    {
     "data": {
      "text/html": [
       "<div>\n",
       "<style scoped>\n",
       "    .dataframe tbody tr th:only-of-type {\n",
       "        vertical-align: middle;\n",
       "    }\n",
       "\n",
       "    .dataframe tbody tr th {\n",
       "        vertical-align: top;\n",
       "    }\n",
       "\n",
       "    .dataframe thead th {\n",
       "        text-align: right;\n",
       "    }\n",
       "</style>\n",
       "<table border=\"1\" class=\"dataframe\">\n",
       "  <thead>\n",
       "    <tr style=\"text-align: right;\">\n",
       "      <th></th>\n",
       "      <th>item_name</th>\n",
       "      <th>item_type</th>\n",
       "      <th>category</th>\n",
       "    </tr>\n",
       "  </thead>\n",
       "  <tbody>\n",
       "    <tr>\n",
       "      <th>1444620</th>\n",
       "      <td>原味蛋撻2顆 2023-05-31 b7jy-siky</td>\n",
       "      <td>點心/零食類</td>\n",
       "      <td>肉乾/肉紙</td>\n",
       "    </tr>\n",
       "    <tr>\n",
       "      <th>1036859</th>\n",
       "      <td>分格餐盤 分隔餐盤【附發票】便當盒 餐盤 餐盒 不鏽鋼餐盤</td>\n",
       "      <td>日用百貨類</td>\n",
       "      <td>餐廚用品</td>\n",
       "    </tr>\n",
       "    <tr>\n",
       "      <th>922692</th>\n",
       "      <td>蓮蓬頭支架🌞元氣小鋪🌞淋浴頭支架 花灑支架 蓮蓬頭掛架</td>\n",
       "      <td>家電類</td>\n",
       "      <td>生活家電</td>\n",
       "    </tr>\n",
       "    <tr>\n",
       "      <th>167411</th>\n",
       "      <td>拭拭樂 加厚嬰兒超純水柔濕紙巾80抽x24包-便利保濕蓋-箱</td>\n",
       "      <td>洗浴清潔/保養類</td>\n",
       "      <td>身體清潔/保養</td>\n",
       "    </tr>\n",
       "    <tr>\n",
       "      <th>503987</th>\n",
       "      <td>8ed2832efde30c8c</td>\n",
       "      <td>3C類</td>\n",
       "      <td>手機/通訊/週邊</td>\n",
       "    </tr>\n",
       "    <tr>\n",
       "      <th>...</th>\n",
       "      <td>...</td>\n",
       "      <td>...</td>\n",
       "      <td>...</td>\n",
       "    </tr>\n",
       "    <tr>\n",
       "      <th>84242</th>\n",
       "      <td>Queen's Eyelashes假睫毛纖長</td>\n",
       "      <td>洗浴清潔/保養類</td>\n",
       "      <td>彩妝/卸妝</td>\n",
       "    </tr>\n",
       "    <tr>\n",
       "      <th>872114</th>\n",
       "      <td>濟生睛寶沖洗液500ml</td>\n",
       "      <td>家電類</td>\n",
       "      <td>生活家電</td>\n",
       "    </tr>\n",
       "    <tr>\n",
       "      <th>1274640</th>\n",
       "      <td>9789572644546鬼滅之刃 幸福之花 全</td>\n",
       "      <td>書本/文教用品類</td>\n",
       "      <td>書籍</td>\n",
       "    </tr>\n",
       "    <tr>\n",
       "      <th>1207603</th>\n",
       "      <td>玉子舒肥嫩雞絲湯麵套餐Chicken Soup With N</td>\n",
       "      <td>生鮮食品類</td>\n",
       "      <td>冷藏調理</td>\n",
       "    </tr>\n",
       "    <tr>\n",
       "      <th>292045</th>\n",
       "      <td>ZW5230519008212</td>\n",
       "      <td>3C類</td>\n",
       "      <td>手機/通訊/週邊</td>\n",
       "    </tr>\n",
       "  </tbody>\n",
       "</table>\n",
       "<p>10000 rows × 3 columns</p>\n",
       "</div>"
      ],
      "text/plain": [
       "                               item_name item_type  category\n",
       "1444620     原味蛋撻2顆 2023-05-31 b7jy-siky     點心/零食類     肉乾/肉紙\n",
       "1036859  分格餐盤 分隔餐盤【附發票】便當盒 餐盤 餐盒 不鏽鋼餐盤       日用百貨類      餐廚用品\n",
       "922692     蓮蓬頭支架🌞元氣小鋪🌞淋浴頭支架 花灑支架 蓮蓬頭掛架         家電類      生活家電\n",
       "167411   拭拭樂 加厚嬰兒超純水柔濕紙巾80抽x24包-便利保濕蓋-箱   洗浴清潔/保養類   身體清潔/保養\n",
       "503987                 8ed2832efde30c8c        3C類  手機/通訊/週邊\n",
       "...                                  ...       ...       ...\n",
       "84242            Queen's Eyelashes假睫毛纖長   洗浴清潔/保養類     彩妝/卸妝\n",
       "872114                     濟生睛寶沖洗液500ml        家電類      生活家電\n",
       "1274640        9789572644546鬼滅之刃 幸福之花 全   書本/文教用品類        書籍\n",
       "1207603  玉子舒肥嫩雞絲湯麵套餐Chicken Soup With N      生鮮食品類      冷藏調理\n",
       "292045                  ZW5230519008212        3C類  手機/通訊/週邊\n",
       "\n",
       "[10000 rows x 3 columns]"
      ]
     },
     "execution_count": 27,
     "metadata": {},
     "output_type": "execute_result"
    }
   ],
   "source": [
    "test"
   ]
  },
  {
   "cell_type": "code",
   "execution_count": 28,
   "id": "bdb36e5b-e898-4d71-aa18-57676640ed3a",
   "metadata": {
    "tags": []
   },
   "outputs": [
    {
     "name": "stdout",
     "output_type": "stream",
     "text": [
      "40.9 ms ± 790 µs per loop (mean ± std. dev. of 7 runs, 10 loops each)\n"
     ]
    }
   ],
   "source": [
    "%%timeit\n",
    "classify(test['item_name'].iloc[0])"
   ]
  },
  {
   "cell_type": "code",
   "execution_count": null,
   "id": "89d20702-3244-4980-b09c-233fff56e79b",
   "metadata": {},
   "outputs": [],
   "source": []
  },
  {
   "cell_type": "code",
   "execution_count": null,
   "id": "fcc80699-95f7-4e7b-acce-d21f9125d52a",
   "metadata": {},
   "outputs": [],
   "source": []
  },
  {
   "cell_type": "code",
   "execution_count": 29,
   "id": "42450882-396b-44fc-aadc-03273faa369b",
   "metadata": {
    "tags": []
   },
   "outputs": [
    {
     "name": "stderr",
     "output_type": "stream",
     "text": [
      "Process ForkPoolWorker-10:\n",
      "Process ForkPoolWorker-9:\n",
      "Process ForkPoolWorker-11:\n",
      "Process ForkPoolWorker-12:\n",
      "Process ForkPoolWorker-14:\n",
      "Process ForkPoolWorker-13:\n",
      "Process ForkPoolWorker-16:\n",
      "Process ForkPoolWorker-15:\n",
      "Traceback (most recent call last):\n",
      "Traceback (most recent call last):\n",
      "Traceback (most recent call last):\n",
      "Traceback (most recent call last):\n",
      "\n",
      "KeyboardInterrupt\n",
      "\n",
      "Traceback (most recent call last):\n",
      "Traceback (most recent call last):\n",
      "Traceback (most recent call last):\n",
      "Traceback (most recent call last):\n",
      "  File \"/home/ec2-user/anaconda3/envs/pytorch_p310/lib/python3.10/multiprocessing/process.py\", line 314, in _bootstrap\n",
      "    self.run()\n",
      "  File \"/home/ec2-user/anaconda3/envs/pytorch_p310/lib/python3.10/multiprocessing/process.py\", line 314, in _bootstrap\n",
      "    self.run()\n",
      "  File \"/home/ec2-user/anaconda3/envs/pytorch_p310/lib/python3.10/multiprocessing/process.py\", line 314, in _bootstrap\n",
      "    self.run()\n",
      "  File \"/home/ec2-user/anaconda3/envs/pytorch_p310/lib/python3.10/multiprocessing/process.py\", line 314, in _bootstrap\n",
      "    self.run()\n",
      "  File \"/home/ec2-user/anaconda3/envs/pytorch_p310/lib/python3.10/multiprocessing/process.py\", line 314, in _bootstrap\n",
      "    self.run()\n",
      "  File \"/home/ec2-user/anaconda3/envs/pytorch_p310/lib/python3.10/multiprocessing/process.py\", line 314, in _bootstrap\n",
      "    self.run()\n",
      "  File \"/home/ec2-user/anaconda3/envs/pytorch_p310/lib/python3.10/multiprocessing/process.py\", line 314, in _bootstrap\n",
      "    self.run()\n",
      "  File \"/home/ec2-user/anaconda3/envs/pytorch_p310/lib/python3.10/multiprocessing/process.py\", line 108, in run\n",
      "    self._target(*self._args, **self._kwargs)\n",
      "  File \"/home/ec2-user/anaconda3/envs/pytorch_p310/lib/python3.10/multiprocessing/process.py\", line 314, in _bootstrap\n",
      "    self.run()\n",
      "  File \"/home/ec2-user/anaconda3/envs/pytorch_p310/lib/python3.10/multiprocessing/process.py\", line 108, in run\n",
      "    self._target(*self._args, **self._kwargs)\n",
      "  File \"/home/ec2-user/anaconda3/envs/pytorch_p310/lib/python3.10/multiprocessing/process.py\", line 108, in run\n",
      "    self._target(*self._args, **self._kwargs)\n",
      "  File \"/home/ec2-user/anaconda3/envs/pytorch_p310/lib/python3.10/multiprocessing/process.py\", line 108, in run\n",
      "    self._target(*self._args, **self._kwargs)\n",
      "  File \"/home/ec2-user/anaconda3/envs/pytorch_p310/lib/python3.10/multiprocessing/process.py\", line 108, in run\n",
      "    self._target(*self._args, **self._kwargs)\n",
      "  File \"/home/ec2-user/anaconda3/envs/pytorch_p310/lib/python3.10/multiprocessing/process.py\", line 108, in run\n",
      "    self._target(*self._args, **self._kwargs)\n",
      "  File \"/home/ec2-user/anaconda3/envs/pytorch_p310/lib/python3.10/multiprocessing/pool.py\", line 114, in worker\n",
      "    task = get()\n",
      "  File \"/home/ec2-user/anaconda3/envs/pytorch_p310/lib/python3.10/multiprocessing/pool.py\", line 114, in worker\n",
      "    task = get()\n",
      "  File \"/home/ec2-user/anaconda3/envs/pytorch_p310/lib/python3.10/multiprocessing/pool.py\", line 114, in worker\n",
      "    task = get()\n",
      "  File \"/home/ec2-user/anaconda3/envs/pytorch_p310/lib/python3.10/multiprocessing/pool.py\", line 114, in worker\n",
      "    task = get()\n",
      "  File \"/home/ec2-user/anaconda3/envs/pytorch_p310/lib/python3.10/multiprocessing/process.py\", line 108, in run\n",
      "    self._target(*self._args, **self._kwargs)\n",
      "  File \"/home/ec2-user/anaconda3/envs/pytorch_p310/lib/python3.10/multiprocessing/process.py\", line 108, in run\n",
      "    self._target(*self._args, **self._kwargs)\n",
      "  File \"/home/ec2-user/anaconda3/envs/pytorch_p310/lib/python3.10/multiprocessing/pool.py\", line 114, in worker\n",
      "    task = get()\n",
      "  File \"/home/ec2-user/anaconda3/envs/pytorch_p310/lib/python3.10/multiprocessing/queues.py\", line 364, in get\n",
      "    with self._rlock:\n",
      "  File \"/home/ec2-user/anaconda3/envs/pytorch_p310/lib/python3.10/multiprocessing/queues.py\", line 364, in get\n",
      "    with self._rlock:\n",
      "  File \"/home/ec2-user/anaconda3/envs/pytorch_p310/lib/python3.10/multiprocessing/queues.py\", line 364, in get\n",
      "    with self._rlock:\n",
      "  File \"/home/ec2-user/anaconda3/envs/pytorch_p310/lib/python3.10/multiprocessing/pool.py\", line 114, in worker\n",
      "    task = get()\n",
      "  File \"/home/ec2-user/anaconda3/envs/pytorch_p310/lib/python3.10/multiprocessing/queues.py\", line 364, in get\n",
      "    with self._rlock:\n",
      "  File \"/home/ec2-user/anaconda3/envs/pytorch_p310/lib/python3.10/multiprocessing/synchronize.py\", line 95, in __enter__\n",
      "    return self._semlock.__enter__()\n",
      "  File \"/home/ec2-user/anaconda3/envs/pytorch_p310/lib/python3.10/multiprocessing/synchronize.py\", line 95, in __enter__\n",
      "    return self._semlock.__enter__()\n",
      "  File \"/home/ec2-user/anaconda3/envs/pytorch_p310/lib/python3.10/multiprocessing/pool.py\", line 114, in worker\n",
      "    task = get()\n",
      "  File \"/home/ec2-user/anaconda3/envs/pytorch_p310/lib/python3.10/multiprocessing/queues.py\", line 364, in get\n",
      "    with self._rlock:\n",
      "  File \"/home/ec2-user/anaconda3/envs/pytorch_p310/lib/python3.10/multiprocessing/queues.py\", line 365, in get\n",
      "    res = self._reader.recv_bytes()\n",
      "KeyboardInterrupt\n",
      "  File \"/home/ec2-user/anaconda3/envs/pytorch_p310/lib/python3.10/multiprocessing/pool.py\", line 114, in worker\n",
      "    task = get()\n",
      "  File \"/home/ec2-user/anaconda3/envs/pytorch_p310/lib/python3.10/multiprocessing/queues.py\", line 364, in get\n",
      "    with self._rlock:\n",
      "KeyboardInterrupt\n",
      "  File \"/home/ec2-user/anaconda3/envs/pytorch_p310/lib/python3.10/multiprocessing/synchronize.py\", line 95, in __enter__\n",
      "    return self._semlock.__enter__()\n",
      "  File \"/home/ec2-user/anaconda3/envs/pytorch_p310/lib/python3.10/multiprocessing/connection.py\", line 216, in recv_bytes\n",
      "    buf = self._recv_bytes(maxlength)\n",
      "  File \"/home/ec2-user/anaconda3/envs/pytorch_p310/lib/python3.10/multiprocessing/synchronize.py\", line 95, in __enter__\n",
      "    return self._semlock.__enter__()\n",
      "  File \"/home/ec2-user/anaconda3/envs/pytorch_p310/lib/python3.10/multiprocessing/synchronize.py\", line 95, in __enter__\n",
      "    return self._semlock.__enter__()\n",
      "  File \"/home/ec2-user/anaconda3/envs/pytorch_p310/lib/python3.10/multiprocessing/queues.py\", line 364, in get\n",
      "    with self._rlock:\n",
      "KeyboardInterrupt\n",
      "  File \"/home/ec2-user/anaconda3/envs/pytorch_p310/lib/python3.10/multiprocessing/synchronize.py\", line 95, in __enter__\n",
      "    return self._semlock.__enter__()\n",
      "KeyboardInterrupt\n",
      "  File \"/home/ec2-user/anaconda3/envs/pytorch_p310/lib/python3.10/multiprocessing/connection.py\", line 414, in _recv_bytes\n",
      "    buf = self._recv(4)\n",
      "  File \"/home/ec2-user/anaconda3/envs/pytorch_p310/lib/python3.10/multiprocessing/synchronize.py\", line 95, in __enter__\n",
      "    return self._semlock.__enter__()\n",
      "KeyboardInterrupt\n",
      "KeyboardInterrupt\n",
      "  File \"/home/ec2-user/anaconda3/envs/pytorch_p310/lib/python3.10/multiprocessing/connection.py\", line 379, in _recv\n",
      "    chunk = read(handle, remaining)\n",
      "KeyboardInterrupt\n",
      "KeyboardInterrupt\n",
      "Process ForkPoolWorker-17:\n",
      "Traceback (most recent call last):\n",
      "  File \"/home/ec2-user/anaconda3/envs/pytorch_p310/lib/python3.10/multiprocessing/process.py\", line 314, in _bootstrap\n",
      "    self.run()\n",
      "  File \"/home/ec2-user/anaconda3/envs/pytorch_p310/lib/python3.10/multiprocessing/process.py\", line 108, in run\n",
      "    self._target(*self._args, **self._kwargs)\n",
      "  File \"/home/ec2-user/anaconda3/envs/pytorch_p310/lib/python3.10/multiprocessing/pool.py\", line 114, in worker\n",
      "    task = get()\n",
      "  File \"/home/ec2-user/anaconda3/envs/pytorch_p310/lib/python3.10/multiprocessing/queues.py\", line 364, in get\n",
      "    with self._rlock:\n",
      "  File \"/home/ec2-user/anaconda3/envs/pytorch_p310/lib/python3.10/multiprocessing/synchronize.py\", line 95, in __enter__\n",
      "    return self._semlock.__enter__()\n",
      "KeyboardInterrupt\n",
      "Process ForkPoolWorker-18:\n",
      "Traceback (most recent call last):\n",
      "  File \"/home/ec2-user/anaconda3/envs/pytorch_p310/lib/python3.10/multiprocessing/process.py\", line 314, in _bootstrap\n",
      "    self.run()\n",
      "  File \"/home/ec2-user/anaconda3/envs/pytorch_p310/lib/python3.10/multiprocessing/process.py\", line 108, in run\n",
      "    self._target(*self._args, **self._kwargs)\n",
      "  File \"/home/ec2-user/anaconda3/envs/pytorch_p310/lib/python3.10/multiprocessing/pool.py\", line 114, in worker\n",
      "    task = get()\n",
      "  File \"/home/ec2-user/anaconda3/envs/pytorch_p310/lib/python3.10/multiprocessing/queues.py\", line 364, in get\n",
      "    with self._rlock:\n",
      "  File \"/home/ec2-user/anaconda3/envs/pytorch_p310/lib/python3.10/multiprocessing/synchronize.py\", line 95, in __enter__\n",
      "    return self._semlock.__enter__()\n",
      "KeyboardInterrupt\n"
     ]
    }
   ],
   "source": [
    "test['predict_category'] = p.map(classify, test['item_name']) #test['item_name'].apply(classify)"
   ]
  },
  {
   "cell_type": "code",
   "execution_count": null,
   "id": "3feba207-56ce-4bb1-8327-fa09ed4f5cb1",
   "metadata": {
    "tags": []
   },
   "outputs": [],
   "source": [
    "1"
   ]
  },
  {
   "cell_type": "code",
   "execution_count": null,
   "id": "d75d2677-3cd0-4808-82d9-0803df4fd6aa",
   "metadata": {},
   "outputs": [],
   "source": []
  },
  {
   "cell_type": "code",
   "execution_count": null,
   "id": "2847fb3a-4781-4fa6-ad9e-b4ec486f876a",
   "metadata": {},
   "outputs": [],
   "source": []
  },
  {
   "cell_type": "code",
   "execution_count": null,
   "id": "1bd036de-777d-4b2c-91e5-318dd9e498b3",
   "metadata": {
    "tags": []
   },
   "outputs": [],
   "source": [
    "from sklearn.metrics import accuracy_score, classification_report, multilabel_confusion_matrix"
   ]
  },
  {
   "cell_type": "code",
   "execution_count": null,
   "id": "b3a69d60-e179-441d-af67-c7def8ae71ec",
   "metadata": {
    "tags": []
   },
   "outputs": [],
   "source": [
    "accuracy_score(test['category'], test['predict'])"
   ]
  },
  {
   "cell_type": "code",
   "execution_count": null,
   "id": "5729bbc2-3317-4f7d-a190-c7ec217cddbb",
   "metadata": {
    "tags": []
   },
   "outputs": [],
   "source": [
    "accuracy_score(test['category'], test['predict_cs'])"
   ]
  },
  {
   "cell_type": "code",
   "execution_count": null,
   "id": "2d5f8276-ec2c-4c78-9d93-fba5741035df",
   "metadata": {
    "tags": []
   },
   "outputs": [],
   "source": [
    "sum(test['predict'] != test['predict_cs'])"
   ]
  },
  {
   "cell_type": "code",
   "execution_count": null,
   "id": "07e4e83a-725e-44b4-95d9-1a5648bd096c",
   "metadata": {
    "tags": []
   },
   "outputs": [],
   "source": [
    "classify('無印化妝盒')"
   ]
  },
  {
   "cell_type": "code",
   "execution_count": null,
   "id": "a38ce9ab-9519-4055-9fc7-8d533b86d0ba",
   "metadata": {
    "tags": []
   },
   "outputs": [],
   "source": [
    "test.sample(100)"
   ]
  },
  {
   "cell_type": "code",
   "execution_count": null,
   "id": "c55aa786-4bda-4d39-8e46-b63d22908ace",
   "metadata": {},
   "outputs": [],
   "source": []
  }
 ],
 "metadata": {
  "kernelspec": {
   "display_name": "conda_pytorch_p310",
   "language": "python",
   "name": "conda_pytorch_p310"
  },
  "language_info": {
   "codemirror_mode": {
    "name": "ipython",
    "version": 3
   },
   "file_extension": ".py",
   "mimetype": "text/x-python",
   "name": "python",
   "nbconvert_exporter": "python",
   "pygments_lexer": "ipython3",
   "version": "3.10.10"
  }
 },
 "nbformat": 4,
 "nbformat_minor": 5
}
