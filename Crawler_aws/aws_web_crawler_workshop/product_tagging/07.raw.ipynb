{
 "cells": [
  {
   "cell_type": "code",
   "execution_count": 1,
   "id": "a4af3115-a843-415f-8228-f3bec196212e",
   "metadata": {
    "tags": []
   },
   "outputs": [],
   "source": [
    "import pandas as pd"
   ]
  },
  {
   "cell_type": "code",
   "execution_count": 3,
   "id": "2a514e82-e669-4362-bf15-7ec4fee35b1f",
   "metadata": {
    "tags": []
   },
   "outputs": [],
   "source": [
    "df_raw = pd.read_csv('s3://aws-web-crawler-data/202305_invoice.csv')\n",
    "df_samples = pd.read_csv('data/samples.csv', index_col=0)\n",
    "df_category = pd.read_csv('data/category.csv')"
   ]
  },
  {
   "cell_type": "code",
   "execution_count": 4,
   "id": "b97a268b-71d8-4ea6-affc-153357abf063",
   "metadata": {
    "tags": []
   },
   "outputs": [],
   "source": [
    "# len(set(df_samples.item_name) - set(df_raw.item_name))\n",
    "# # 7470"
   ]
  },
  {
   "cell_type": "code",
   "execution_count": 5,
   "id": "8eee8705-4af3-49d1-ae0e-eb7b84b01147",
   "metadata": {
    "tags": []
   },
   "outputs": [],
   "source": [
    "# len(set(df_raw.item_name)-set(df_samples.item_name))\n",
    "# # 1470536"
   ]
  },
  {
   "cell_type": "code",
   "execution_count": 6,
   "id": "b6c7702d-991e-445b-8700-c396a829d5b2",
   "metadata": {
    "tags": []
   },
   "outputs": [],
   "source": [
    "from collections import Counter"
   ]
  },
  {
   "cell_type": "code",
   "execution_count": 8,
   "id": "42af873e-2907-4844-a05a-4070a6a614c6",
   "metadata": {
    "tags": []
   },
   "outputs": [],
   "source": [
    "c = Counter(df_raw.industry)"
   ]
  },
  {
   "cell_type": "code",
   "execution_count": 9,
   "id": "d4247209-9d7e-4d6d-a9c8-d4e9bb3806cc",
   "metadata": {
    "tags": []
   },
   "outputs": [
    {
     "data": {
      "text/plain": [
       "Counter({nan: 14372421,\n",
       "         '四大超商': 8057177,\n",
       "         '餐飲': 6265117,\n",
       "         '藥妝': 5342882,\n",
       "         '超市': 4840738,\n",
       "         '電商/網購': 3834110,\n",
       "         '量販': 1914910,\n",
       "         '百貨': 1310196,\n",
       "         '油品': 1154109,\n",
       "         '統一超商線上': 857044,\n",
       "         '手搖飲': 440211,\n",
       "         '烘焙店': 138198})"
      ]
     },
     "execution_count": 9,
     "metadata": {},
     "output_type": "execute_result"
    }
   ],
   "source": [
    "c"
   ]
  },
  {
   "cell_type": "code",
   "execution_count": null,
   "id": "3409801b-2bee-4c2e-8e05-4ac3f6bf42a2",
   "metadata": {},
   "outputs": [],
   "source": []
  }
 ],
 "metadata": {
  "kernelspec": {
   "display_name": "conda_python3",
   "language": "python",
   "name": "conda_python3"
  },
  "language_info": {
   "codemirror_mode": {
    "name": "ipython",
    "version": 3
   },
   "file_extension": ".py",
   "mimetype": "text/x-python",
   "name": "python",
   "nbconvert_exporter": "python",
   "pygments_lexer": "ipython3",
   "version": "3.10.10"
  }
 },
 "nbformat": 4,
 "nbformat_minor": 5
}
