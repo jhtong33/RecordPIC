{
 "cells": [
  {
   "cell_type": "code",
   "execution_count": null,
   "id": "79ad07c0-1283-489d-9448-39b3329b59fd",
   "metadata": {
    "tags": []
   },
   "outputs": [],
   "source": [
    "!pip install wordcloud"
   ]
  },
  {
   "cell_type": "code",
   "execution_count": null,
   "id": "2d6baedc-9a36-4d6e-b415-bcf249a6d08d",
   "metadata": {
    "tags": []
   },
   "outputs": [],
   "source": [
    "import numpy as np # linear algebra\n",
    "import pandas as pd \n",
    "import matplotlib as mpl\n",
    "import matplotlib.pyplot as plt\n",
    "%matplotlib inline\n",
    "from subprocess import check_output\n",
    "from wordcloud import WordCloud, STOPWORDS"
   ]
  },
  {
   "cell_type": "code",
   "execution_count": null,
   "id": "2079c882-c748-4166-b5de-8f4fca8c2b6f",
   "metadata": {
    "tags": []
   },
   "outputs": [],
   "source": [
    "df = pd.read_csv('data/samples.csv', index_col=0)\n",
    "dfc = pd.read_csv('data/category.csv')"
   ]
  },
  {
   "cell_type": "code",
   "execution_count": null,
   "id": "c73031ce-acbd-4a2d-8067-06b2ea22652b",
   "metadata": {
    "tags": []
   },
   "outputs": [],
   "source": [
    "import pickle\n",
    "with open('data/tokens.pkl', 'rb') as f:\n",
    "    tokens = pickle.load(f)\n",
    "df['item_tokens'] = tokens"
   ]
  },
  {
   "cell_type": "code",
   "execution_count": null,
   "id": "c7da3f3c-5b71-465c-af4b-e0e8a0a70a74",
   "metadata": {
    "tags": []
   },
   "outputs": [],
   "source": [
    "#mpl.rcParams['figure.figsize']=(8.0,6.0)    #(6.0,4.0)\n",
    "mpl.rcParams['font.size']=12                #10 \n",
    "mpl.rcParams['savefig.dpi']=100             #72 \n",
    "mpl.rcParams['figure.subplot.bottom']=.1 \n"
   ]
  },
  {
   "cell_type": "code",
   "execution_count": null,
   "id": "fe4f832c-8029-4d1e-9f62-ebfba859eba2",
   "metadata": {
    "tags": []
   },
   "outputs": [],
   "source": [
    "fontpath='/home/ec2-user/anaconda3/envs/python3/lib/python3.10/site-packages/matplotlib/mpl-data/fonts/ttf/TaipeiSansTCBeta-Regular.ttf'"
   ]
  },
  {
   "cell_type": "code",
   "execution_count": null,
   "id": "a3879189-17cb-4a7b-9ebf-ac8e81085c87",
   "metadata": {
    "tags": []
   },
   "outputs": [],
   "source": [
    "wordcloud = WordCloud(\n",
    "    background_color='white',\n",
    "    stopwords=set(),\n",
    "    max_words=200,\n",
    "    max_font_size=40, \n",
    "    random_state=42,\n",
    "    font_path= fontpath\n",
    ").generate(str(df.item_tokens))\n",
    "\n",
    "print(wordcloud)\n",
    "fig = plt.figure(1)\n",
    "plt.imshow(wordcloud)\n",
    "plt.axis('off')\n",
    "plt.show()\n",
    "fig.savefig(\"word1.png\", dpi=900)"
   ]
  },
  {
   "cell_type": "code",
   "execution_count": null,
   "id": "7ae06780-7690-4910-84b0-90485d16db02",
   "metadata": {
    "tags": []
   },
   "outputs": [],
   "source": [
    "_df[1]"
   ]
  },
  {
   "cell_type": "code",
   "execution_count": null,
   "id": "7fd6fa09-cd8a-415d-8608-7432386a5446",
   "metadata": {
    "tags": []
   },
   "outputs": [],
   "source": [
    "from itertools import chain"
   ]
  },
  {
   "cell_type": "code",
   "execution_count": null,
   "id": "b2a5c934-d608-46a9-b63e-623dda8c31cc",
   "metadata": {
    "tags": []
   },
   "outputs": [],
   "source": [
    "\n",
    "for t, _df in df.groupby(by='item_type'):\n",
    "\n",
    "    print(t)\n",
    "    gen = list(chain.from_iterable(_df.item_tokens))\n",
    "    wordcloud = WordCloud(\n",
    "        background_color='white',\n",
    "        stopwords=set(),\n",
    "        max_words=200,\n",
    "        max_font_size=40, \n",
    "        random_state=42,\n",
    "        font_path= fontpath\n",
    "    ).generate(' '.join(gen))\n",
    "\n",
    "    # print(wordcloud)\n",
    "    fig = plt.figure(1)\n",
    "    plt.imshow(wordcloud)\n",
    "    plt.axis('off')\n",
    "    plt.show()\n",
    "    fig.savefig(\"word1.png\", dpi=900)"
   ]
  },
  {
   "cell_type": "code",
   "execution_count": null,
   "id": "f966b089-f7ba-4db6-9706-55b3b8ef72dd",
   "metadata": {
    "tags": []
   },
   "outputs": [],
   "source": [
    "df[df['item_tokens'].apply(lambda x: '胭脂' in x) & df['item_type'].apply(lambda x: '鮮食' in x)]"
   ]
  },
  {
   "cell_type": "code",
   "execution_count": null,
   "id": "86792d1b-8183-4e02-969f-1a3e9495d0a0",
   "metadata": {
    "tags": []
   },
   "outputs": [],
   "source": [
    "df[df['item_tokens'].apply(lambda x: '平台費' in x)]"
   ]
  },
  {
   "cell_type": "code",
   "execution_count": null,
   "id": "f55eac8c-9a18-40b4-aaba-5d0772d9ef77",
   "metadata": {
    "tags": []
   },
   "outputs": [],
   "source": [
    "df[df['item_tokens'].apply(lambda x: '蝦筆' in x)]"
   ]
  },
  {
   "cell_type": "code",
   "execution_count": null,
   "id": "20baf421-1f44-44d3-959f-04f1d9424269",
   "metadata": {
    "tags": []
   },
   "outputs": [],
   "source": [
    "df[df['item_tokens'].apply(lambda x: '屍體' in x)]"
   ]
  },
  {
   "cell_type": "code",
   "execution_count": null,
   "id": "3a954e1c-657f-4de0-9f72-096541b39105",
   "metadata": {},
   "outputs": [],
   "source": []
  },
  {
   "cell_type": "code",
   "execution_count": null,
   "id": "179205a8-5afa-46f3-ac8e-b32efe8a53c6",
   "metadata": {},
   "outputs": [],
   "source": []
  },
  {
   "cell_type": "code",
   "execution_count": null,
   "id": "885ff708-cc28-433b-9590-5f39a6628aa6",
   "metadata": {},
   "outputs": [],
   "source": []
  },
  {
   "cell_type": "code",
   "execution_count": null,
   "id": "abb4c6bf-18f1-4fb4-b07f-b82e1de87a2d",
   "metadata": {},
   "outputs": [],
   "source": []
  },
  {
   "cell_type": "code",
   "execution_count": null,
   "id": "b686bb7e-a92d-409c-ae2b-0ab58b281f9c",
   "metadata": {},
   "outputs": [],
   "source": []
  },
  {
   "cell_type": "code",
   "execution_count": null,
   "id": "f2d3c2ca-3da0-4305-a133-c46a8dfcfeec",
   "metadata": {},
   "outputs": [],
   "source": []
  },
  {
   "cell_type": "code",
   "execution_count": null,
   "id": "8ac53742-1e36-4cb3-b675-5b68376c632e",
   "metadata": {},
   "outputs": [],
   "source": []
  }
 ],
 "metadata": {
  "kernelspec": {
   "display_name": "conda_python3",
   "language": "python",
   "name": "conda_python3"
  },
  "language_info": {
   "codemirror_mode": {
    "name": "ipython",
    "version": 3
   },
   "file_extension": ".py",
   "mimetype": "text/x-python",
   "name": "python",
   "nbconvert_exporter": "python",
   "pygments_lexer": "ipython3",
   "version": "3.10.10"
  }
 },
 "nbformat": 4,
 "nbformat_minor": 5
}
