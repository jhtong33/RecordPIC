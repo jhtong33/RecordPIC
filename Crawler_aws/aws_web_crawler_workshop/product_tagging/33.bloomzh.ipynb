{
 "cells": [
  {
   "cell_type": "code",
   "execution_count": 1,
   "id": "378b6310-038f-40b0-861c-39acad6738e2",
   "metadata": {
    "tags": []
   },
   "outputs": [
    {
     "name": "stdout",
     "output_type": "stream",
     "text": [
      "------------------!"
     ]
    },
    {
     "data": {
      "text/plain": [
       "[{'generated_text': '四月的某一天，天氣晴朗寒冷，我獨自一人坐在公園的長椅上，看著遠方，看著天空，看著遠方'}]"
      ]
     },
     "execution_count": 1,
     "metadata": {},
     "output_type": "execute_result"
    }
   ],
   "source": [
    "import json\n",
    "import sagemaker\n",
    "import boto3\n",
    "from sagemaker.huggingface import HuggingFaceModel, get_huggingface_llm_image_uri\n",
    "\n",
    "try:\n",
    "\trole = sagemaker.get_execution_role()\n",
    "except ValueError:\n",
    "\tiam = boto3.client('iam')\n",
    "\trole = iam.get_role(RoleName='sagemaker_execution_role')['Role']['Arn']\n",
    "\n",
    "# Hub Model configuration. https://huggingface.co/models\n",
    "hub = {\n",
    "\t'HF_MODEL_ID':'ckip-joint/bloom-3b-zh',\n",
    "\t'SM_NUM_GPUS': json.dumps(1)\n",
    "}\n",
    "\n",
    "# create Hugging Face Model Class\n",
    "huggingface_model = HuggingFaceModel(\n",
    "\timage_uri=get_huggingface_llm_image_uri(\"huggingface\",version=\"0.8.2\"),\n",
    "\tenv=hub,\n",
    "\trole=role, \n",
    ")\n",
    "\n",
    "# deploy model to SageMaker Inference\n",
    "predictor = huggingface_model.deploy(\n",
    "\tinitial_instance_count=1,\n",
    "\tinstance_type=\"ml.g5.2xlarge\",\n",
    "    model_data_download_timeout=3600,\n",
    "\tcontainer_startup_health_check_timeout=3000,\n",
    "  )\n",
    "  \n",
    "    \n",
    "# send request\n",
    "predictor.predict({\n",
    "\t\"inputs\": \"四月的某一天，天氣晴朗寒冷，\",\n",
    "})\n"
   ]
  },
  {
   "cell_type": "code",
   "execution_count": 2,
   "id": "a50c3fdf-494b-4151-937c-4acb579632e0",
   "metadata": {
    "tags": []
   },
   "outputs": [],
   "source": [
    "import pandas as pd\n",
    "df = pd.read_csv('data/samples.csv', index_col=0)\n",
    "dfc = pd.read_csv('data/category.csv')\n"
   ]
  },
  {
   "cell_type": "code",
   "execution_count": 11,
   "id": "c803609d-02cf-4930-bbf3-082fdca85f67",
   "metadata": {
    "tags": []
   },
   "outputs": [
    {
     "name": "stdout",
     "output_type": "stream",
     "text": [
      "平台費 2023-05-15 z8pl-r5kc  [{'generated_text': '\\nPlease classify the cateory and sub category based on the product name. \\nProduct name: 平台費 2023-05-15 z8pl-r5kc \\n1. Return the results in JSON format with the following keys: \"product_name\", \"category\", \"sub_category\", and \"common_labels\".\\n2. The \"product_name\" field in the JSON should be an exact copy of the given product name.\\n3. Your task is to classify a product name into one of the following categories: \"咖啡類\",\"飲料類\",\"水類\",\"乳品類\",\"豆米漿/植物奶\",\"冰品類\",\"鮮食類\",\"烘焙/甜點類\",\"蛋品類\",\"生鮮食品類\",\"冷凍食品類\",\"保健食品類\",\"點心/零食類\",\"民生食材類\",\"日用百貨類\",\"洗浴清潔/保養類\",\"寵物用品類\",\"戶外休閒用品類\",\"家電類\",\"書本/文教用品類\",\"3C類\",\"服飾鞋包類\",\"精品類\",\"傢俱/家飾類\",\"菸酒類\",\"禮盒類\"。 \\nPlease return the category as the \"category\" field. Do not make up a new category. \\nPlease note that you should accurately categorize each product based on its name and description, \\nusing your best judgment to determine which category it belongs to. \\nYour response should be specific and accurate, ensuring that each product is correctly classified according to its type.\\n\\n4. Once you have determined the category of the product, please select the best matching \\nsubcategory list below and classify the product accordingly. \\nThis result shall be returned in json \"sub_category\" field\\n\\n\"咖啡類\":[\"現做咖啡飲品\",\"罐裝/瓶裝咖啡\",\"沖泡式咖啡\",\"濾掛式咖啡\",\"即溶咖啡\",\"咖啡相關食用品\"]\\n\"飲料類\":[\"現做茶飲品\",\"茶飲\",\"碳酸/汽水\",\"果汁/果醋飲\",\"運動飲料\",\"養生飲品\",\"能量飲料\",\"特殊風味飲品\",\"沖泡類飲品\",\"現調果汁\",\"其他現調飲品\"]\\n\"水類\":[\"礦泉水\",\"氣泡水\",\"機能水\"]\\n\"乳品類\":[\"鮮乳類\",\"保久乳\",\"調味乳\",\"優格\",\"優酪乳\",\"發酵乳\"]\\n\"豆米漿/植物奶\":[\"豆漿\",\"米漿\",\"燕麥奶\",\"其他植物奶\"]\\n\\n\\n5. assign appropriate labels/tags to the product as \"common_labels\", such as flavor, brand, key ingredient, and package size \\n(if applicable), etc. Please avoid choosing duplicate labels. Your labels shall be no more than four.\\n\\nThe json result is:\\n{\\n  \"product_name\": \"現做咖啡飲品\"\\n,\"category\": \"'}]\n"
     ]
    },
    {
     "data": {
      "text/plain": [
       "[{'generated_text': '\\n\\nPlease generate 10 product names for 咖啡類 category.\\n1. Return the results in JSON format with the following key: \"product_name\".\\n\\nThe json result is: {\"product_name\": [\"伯朗咖啡\", \"手沖咖啡\", \\n\"義式咖啡\", \"美式咖啡\", \"拿鐵咖啡\", \"卡布'}]"
      ]
     },
     "execution_count": 11,
     "metadata": {},
     "output_type": "execute_result"
    }
   ],
   "source": [
    "instruction =\"\"\"\n",
    "Please classify the cateory and sub category based on the product name. \n",
    "Product name: {0}\n",
    "1. Return the results in JSON format with the following keys: \"product_name\", \"category\", \"sub_category\", and \"common_labels\".\n",
    "2. The \"product_name\" field in the JSON should be an exact copy of the given product name.\n",
    "3. Your task is to classify a product name into one of the following categories: \"咖啡類\",\"飲料類\",\"水類\",\"乳品類\",\"豆米漿/植物奶\",\"冰品類\",\"鮮食類\",\"烘焙/甜點類\",\"蛋品類\",\"生鮮食品類\",\"冷凍食品類\",\"保健食品類\",\"點心/零食類\",\"民生食材類\",\"日用百貨類\",\"洗浴清潔/保養類\",\"寵物用品類\",\"戶外休閒用品類\",\"家電類\",\"書本/文教用品類\",\"3C類\",\"服飾鞋包類\",\"精品類\",\"傢俱/家飾類\",\"菸酒類\",\"禮盒類\"。 \n",
    "Please return the category as the \"category\" field. Do not make up a new category. \n",
    "Please note that you should accurately categorize each product based on its name and description, \n",
    "using your best judgment to determine which category it belongs to. \n",
    "Your response should be specific and accurate, ensuring that each product is correctly classified according to its type.\n",
    "\n",
    "4. Once you have determined the category of the product, please select the best matching \n",
    "subcategory list below and classify the product accordingly. \n",
    "This result shall be returned in json \"sub_category\" field\n",
    "\n",
    "\"咖啡類\":[\"現做咖啡飲品\",\"罐裝/瓶裝咖啡\",\"沖泡式咖啡\",\"濾掛式咖啡\",\"即溶咖啡\",\"咖啡相關食用品\"]\n",
    "\"飲料類\":[\"現做茶飲品\",\"茶飲\",\"碳酸/汽水\",\"果汁/果醋飲\",\"運動飲料\",\"養生飲品\",\"能量飲料\",\"特殊風味飲品\",\"沖泡類飲品\",\"現調果汁\",\"其他現調飲品\"]\n",
    "\"水類\":[\"礦泉水\",\"氣泡水\",\"機能水\"]\n",
    "\"乳品類\":[\"鮮乳類\",\"保久乳\",\"調味乳\",\"優格\",\"優酪乳\",\"發酵乳\"]\n",
    "\"豆米漿/植物奶\":[\"豆漿\",\"米漿\",\"燕麥奶\",\"其他植物奶\"]\n",
    "\n",
    "\n",
    "5. assign appropriate labels/tags to the product as \"common_labels\", such as flavor, brand, key ingredient, and package size \n",
    "(if applicable), etc. Please avoid choosing duplicate labels. Your labels shall be no more than four.\n",
    "\n",
    "The json result is:\n",
    "\"\"\"\n",
    "\n",
    "item = df.sample(1).item_name.iloc[0]\n",
    "item\n",
    "\n",
    "prompt = instruction.format(item)\n",
    "prompt\n",
    "\n",
    "predict = predictor.predict({\"inputs\": prompt, te})\n",
    "\n",
    "print(item, predict)\n",
    "\n",
    "\n",
    "\n"
   ]
  },
  {
   "cell_type": "code",
   "execution_count": 10,
   "id": "ed320b85-db46-469f-a7e4-f24d001cfa97",
   "metadata": {
    "tags": []
   },
   "outputs": [
    {
     "data": {
      "text/plain": [
       "[{'generated_text': '為咖啡類商品產生10項商品名稱，並依商品名稱進行分析，再以商品名稱進行分析，再以商品名稱進行'}]"
      ]
     },
     "execution_count": 10,
     "metadata": {},
     "output_type": "execute_result"
    }
   ],
   "source": [
    "predict = predictor.predict({\"inputs\": '為咖啡類商品產生10項商品名稱'})\n",
    "predict"
   ]
  },
  {
   "cell_type": "code",
   "execution_count": 13,
   "id": "72df441a-b0ed-479f-b2a7-926546cee153",
   "metadata": {
    "tags": []
   },
   "outputs": [
    {
     "data": {
      "text/plain": [
       "[{'generated_text': '\\n\\nPlease generate 100 product names for 咖啡類 category.\\n1. Return the results in JSON format with the following key: \"product_name\".\\n\\nThe json result is: {\"product_name\": [\"伯朗咖啡\", \"手沖咖啡\", \\n\"義式咖啡\", \"美式咖啡\", \"拿鐵咖啡\", \"卡布'}]"
      ]
     },
     "execution_count": 13,
     "metadata": {},
     "output_type": "execute_result"
    }
   ],
   "source": [
    "prompt = \"\"\"\n",
    "\n",
    "Please generate 100 product names for 咖啡類 category.\n",
    "1. Return the results in JSON format with the following key: \"product_name\".\n",
    "\n",
    "The json result is: {\"product_name\": [\"伯朗咖啡\", \"手沖咖啡\", \n",
    "\"\"\"\n",
    "\n",
    "predict = predictor.predict({\"inputs\": prompt})\n",
    "predict"
   ]
  },
  {
   "cell_type": "code",
   "execution_count": null,
   "id": "743241ba-92fb-4e55-b022-8d3807c0dca4",
   "metadata": {},
   "outputs": [],
   "source": []
  }
 ],
 "metadata": {
  "kernelspec": {
   "display_name": "conda_python3",
   "language": "python",
   "name": "conda_python3"
  },
  "language_info": {
   "codemirror_mode": {
    "name": "ipython",
    "version": 3
   },
   "file_extension": ".py",
   "mimetype": "text/x-python",
   "name": "python",
   "nbconvert_exporter": "python",
   "pygments_lexer": "ipython3",
   "version": "3.10.10"
  }
 },
 "nbformat": 4,
 "nbformat_minor": 5
}
