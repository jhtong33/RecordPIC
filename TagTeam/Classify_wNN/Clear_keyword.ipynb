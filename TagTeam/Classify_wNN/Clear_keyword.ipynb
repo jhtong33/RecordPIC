{
 "cells": [
  {
   "cell_type": "code",
   "execution_count": 27,
   "id": "e4832f9d-8d09-4850-ab2b-abd32cd5a6b0",
   "metadata": {},
   "outputs": [],
   "source": [
    "import glob, os\n",
    "import pandas as pd\n",
    "from json import loads, dumps"
   ]
  },
  {
   "cell_type": "code",
   "execution_count": 2,
   "id": "18973e41-9c4e-45fb-9300-613389f5b3df",
   "metadata": {},
   "outputs": [],
   "source": [
    "maxlength = 80"
   ]
  },
  {
   "cell_type": "code",
   "execution_count": 89,
   "id": "f5998be0-ac3d-4763-96e5-894c62e535cf",
   "metadata": {},
   "outputs": [],
   "source": [
    "!open ."
   ]
  },
  {
   "cell_type": "code",
   "execution_count": 4,
   "id": "634128f4-aa2d-4d6e-81d8-cac58e862c33",
   "metadata": {},
   "outputs": [],
   "source": [
    "dcom = pd.read_csv('Model/dict_class_comparison.csv')\n",
    "dcom_no  = dcom['中分類編號'].to_list()\n",
    "dcom_name= dcom['中分類'].to_list() "
   ]
  },
  {
   "cell_type": "markdown",
   "id": "02f913ca-6609-4284-8423-2547b34bd7d2",
   "metadata": {},
   "source": [
    "## output format: csv"
   ]
  },
  {
   "cell_type": "code",
   "execution_count": 114,
   "id": "0d8dbded-769e-4b44-a328-ca7eb76efa93",
   "metadata": {},
   "outputs": [],
   "source": [
    "newdf = pd.DataFrame()\n",
    "for no, pname in zip(dcom_no, dcom_name):\n",
    "    # print(pname)\n",
    "    pname = pname.replace('/','_')\n",
    "    # print(pname)\n",
    "    for path in glob.glob(f'Model/KEYWORD/{pname}*csv'):\n",
    "        # print(path)\n",
    "        df = pd.read_csv(path, names=[f'{pname}_key',f'{pname}_no'], skiprows=1)\n",
    "        newdf = pd.concat([newdf,df],axis=1)\n",
    "        \n",
    "newdf.to_csv('Model/Keyword_clear_v1.csv',index=False)"
   ]
  },
  {
   "cell_type": "markdown",
   "id": "c510ce49-1346-437e-ab72-43a75031639d",
   "metadata": {},
   "source": [
    "## output format: json"
   ]
  },
  {
   "cell_type": "code",
   "execution_count": 100,
   "id": "8c77a1fb-767f-4f6c-b8c7-43b385940c02",
   "metadata": {},
   "outputs": [],
   "source": [
    "newdf = pd.DataFrame(data=[], index=[\"name\", \"num\"], columns=dcom_name)\n",
    "for no, pname in zip(dcom_no, dcom_name):\n",
    "    oname = pname\n",
    "    pname = pname.replace('/','_')\n",
    "    # print(pname)\n",
    "    \n",
    "    for path in glob.glob(f'Model/KEYWORD/{pname}*csv'):\n",
    "        # print(path)\n",
    "        df = pd.read_csv(path)\n",
    "        \n",
    "        newdf[oname]['name']  = df['name'].tolist()\n",
    "        newdf[oname]['num']   = df['num'].tolist()\n",
    "\n",
    "        \n",
    "newdf.to_json('Model/Keyword_clear_v1.json', orient=\"columns\", force_ascii=False)     \n",
    "        "
   ]
  },
  {
   "cell_type": "code",
   "execution_count": null,
   "id": "46280ecb-a44f-4747-8987-75125fee6c02",
   "metadata": {},
   "outputs": [],
   "source": []
  }
 ],
 "metadata": {
  "kernelspec": {
   "display_name": "Python 3 (ipykernel)",
   "language": "python",
   "name": "python3"
  },
  "language_info": {
   "codemirror_mode": {
    "name": "ipython",
    "version": 3
   },
   "file_extension": ".py",
   "mimetype": "text/x-python",
   "name": "python",
   "nbconvert_exporter": "python",
   "pygments_lexer": "ipython3",
   "version": "3.11.3"
  }
 },
 "nbformat": 4,
 "nbformat_minor": 5
}
