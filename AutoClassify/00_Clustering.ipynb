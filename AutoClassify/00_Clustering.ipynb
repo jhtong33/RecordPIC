{
 "cells": [
  {
   "cell_type": "code",
   "execution_count": 1,
   "id": "602d9ff3-af5d-42fc-a013-d0b68d41d3b2",
   "metadata": {},
   "outputs": [],
   "source": [
    "# !pip install kmodes\n",
    "# !pip install scikit-learn-extra"
   ]
  },
  {
   "cell_type": "code",
   "execution_count": 1,
   "id": "f9417900-126f-4c0f-b7d5-114327c49695",
   "metadata": {},
   "outputs": [],
   "source": [
    "import pandas as pd\n",
    "import numpy as np\n",
    "import datetime, math\n",
    "import sys, os, warnings\n",
    "import matplotlib.pyplot as plt\n",
    "from kmodes.kprototypes import KPrototypes\n",
    "from kmodes.kmodes import KModes\n",
    "from sklearn import preprocessing\n",
    "from sklearn.preprocessing import StandardScaler,LabelEncoder,OneHotEncoder,MinMaxScaler\n",
    "from sklearn.cluster import KMeans\n",
    "from sklearn_extra.cluster import KMedoids\n",
    "from PlotFigure import plot_values, plot_object\n",
    "from Autoclass import find_best_cluster\n",
    "\n",
    "warnings.filterwarnings(\"ignore\")"
   ]
  },
  {
   "cell_type": "markdown",
   "id": "379b1e18-57a8-4176-9197-3e7f57dcf602",
   "metadata": {},
   "source": [
    "### Reading file"
   ]
  },
  {
   "cell_type": "code",
   "execution_count": 2,
   "id": "b6ba0c3f-822e-46c7-9cd4-30bf8729f668",
   "metadata": {},
   "outputs": [],
   "source": [
    "filename = 'KmeanClustering_sampledata_v3.csv'"
   ]
  },
  {
   "cell_type": "markdown",
   "id": "3e0a4b9d-205a-40ef-a05e-c12fa2f41be6",
   "metadata": {},
   "source": [
    "### Parameter setting "
   ]
  },
  {
   "cell_type": "code",
   "execution_count": 3,
   "id": "be327dc9-033e-4e94-8d26-3f8466d61139",
   "metadata": {},
   "outputs": [],
   "source": [
    "pma = 38\n",
    "AutoCluster = True\n",
    "category = 'personal','rfm','area','purchasetime','prefer'\n",
    "\n",
    "method = 'KPrototypes' #'KMeans', 'KPrototypes', 'KMedoids', 'Kmodes'\n",
    "if AutoCluster == False:\n",
    "    numofCluster = 4\n",
    "else:\n",
    "    selectMethod = 'elbow' #'calinski-harabasz', 'davies-bouldin', 'silhouette', 'bic'\n",
    "\n",
    "if 'rfm' in category:\n",
    "    rfm_level = 'median' # 'median', 'mode', 'average'\n",
    "    select_rfm = True\n",
    "    if select_rfm:\n",
    "        select_two = 'f', 'm'"
   ]
  },
  {
   "cell_type": "code",
   "execution_count": 4,
   "id": "8d1bc48c-ce26-487c-8fd4-73dfcadd06a5",
   "metadata": {},
   "outputs": [
    {
     "data": {
      "text/plain": [
       "tuple"
      ]
     },
     "execution_count": 4,
     "metadata": {},
     "output_type": "execute_result"
    }
   ],
   "source": [
    "type(category)"
   ]
  },
  {
   "cell_type": "markdown",
   "id": "13316106-478c-4376-98c5-19c937d00a01",
   "metadata": {},
   "source": [
    "### PRE-processing"
   ]
  },
  {
   "cell_type": "code",
   "execution_count": 5,
   "id": "b3d02e86-4fa8-4012-8abc-805924a7fa4f",
   "metadata": {},
   "outputs": [],
   "source": [
    "select_two = list(select_two)\n",
    "category = list(category)\n",
    "dconfig = pd.read_json('category_config.json')\n",
    "readcols = {'key':['mid', 'pma_no_fin', 'qty', 'avg_qty'],\n",
    "           'fmt': ['object', 'object', 'values', 'values']}\n",
    "\n",
    "for cate in category:\n",
    "    getkey = dconfig[cate]['key']\n",
    "    getfmt = dconfig[cate]['format']\n",
    "    readcols['key'].extend( getkey )\n",
    "    readcols['fmt'].extend( getfmt )\n",
    "readcols = pd.DataFrame(readcols)\n",
    "df = pd.read_csv(filename, usecols = readcols['key'])\n",
    "df = df[df['pma_no_fin']==pma]\n"
   ]
  },
  {
   "cell_type": "code",
   "execution_count": 17,
   "id": "264c1f74-c630-40f1-88c1-16601779ae02",
   "metadata": {},
   "outputs": [],
   "source": [
    "df_preprocess = df.copy()\n",
    "df_preprocess.fillna(' ', inplace=True)\n",
    "\n",
    "if 'rfm' in category:\n",
    "    getkey = dconfig['rfm']['key']\n",
    "    tempdf_rfm = pd.DataFrame()\n",
    "    rfm_level_key = []\n",
    "    for idx_rfm in getkey:\n",
    "        if rfm_level == 'average':\n",
    "            num_split = np.mean(df_preprocess[idx_rfm].astype(float))\n",
    "        elif rfm_level == 'median':\n",
    "            num_split = np.median(df_preprocess[idx_rfm].astype(float))\n",
    "        elif rfm_level == 'mode':\n",
    "            num_split = np.mode(df_preprocess[idx_rfm].astype(float))\n",
    "        idx_rfm_level = f'{idx_rfm}_level'\n",
    "        rfm_level_key.append(idx_rfm_level)\n",
    "        if 'recency' in idx_rfm :\n",
    "            tempdf_rfm[idx_rfm_level] = [ '1'  if i <= num_split else '0' for i in df_preprocess[idx_rfm]]\n",
    "        else:\n",
    "            tempdf_rfm[idx_rfm_level] = [ '1'  if i >= num_split else '0' for i in df_preprocess[idx_rfm]]\n",
    "    \n",
    "    rfmlevel = []\n",
    "    for r, f, m in zip(tempdf_rfm[tempdf_rfm.keys()[0]], tempdf_rfm[tempdf_rfm.keys()[1]], tempdf_rfm[tempdf_rfm.keys()[2]]):\n",
    "        if select_rfm:\n",
    "            if 'r' not in select_two:\n",
    "                level = f'{f}{m}'\n",
    "            elif 'f' not in select_two:\n",
    "                level = f'{r}{m}'\n",
    "            elif 'm' not in select_two:\n",
    "                level = f'{r}{f}'       \n",
    "        else:\n",
    "            level = f'{r}{f}{m}'\n",
    "        rfmlevel.append(level)\n",
    "        \n",
    "    df_preprocess['rfm_level']  = rfmlevel    \n",
    "    labelencoder_rfm = LabelEncoder()\n",
    "    df_preprocess['rfm_level'] = labelencoder_rfm.fit_transform(df_preprocess['rfm_level'])\n",
    "    df_preprocess['rfm_level'] = df_preprocess['rfm_level'].astype(object)\n",
    "    \n",
    "for objkey in readcols['key'][readcols['fmt']=='object']:\n",
    "    try:\n",
    "        if 'area' not in objkey:\n",
    "            globals()[f'labelencoder_{objkey}'] = LabelEncoder()\n",
    "            df_preprocess[objkey] = globals()[f'labelencoder_{objkey}'].fit_transform(df_preprocess[objkey])\n",
    "            df_preprocess[objkey] = df_preprocess[objkey].astype(object)\n",
    "    except:\n",
    "        pass\n",
    "\n",
    "df_preprocess = df_preprocess.replace(' ',0)   \n",
    "df_4cluster = df_preprocess.copy()\n",
    "df_4cluster = df_4cluster.drop(['mid', 'pma_no_fin', 'rfm_recency', 'rfm_frequency', 'rfm_monetary'], axis = 1) \n",
    "    \n",
    "catobj_Name =  list(df_4cluster.select_dtypes('object').columns)\n",
    "catobj_Pos = [df_4cluster.columns.get_loc(col) for col in list(df_4cluster.select_dtypes('object').columns)] \n",
    "\n",
    "\n"
   ]
  },
  {
   "cell_type": "markdown",
   "id": "0957d4a9-0f6f-4c1c-bb5a-6bf7f69325fb",
   "metadata": {},
   "source": [
    "### Makedir"
   ]
  },
  {
   "cell_type": "code",
   "execution_count": 7,
   "id": "f2490d97-f3e7-4b1c-9be8-6228e79d0e38",
   "metadata": {},
   "outputs": [],
   "source": [
    "savedir = f'PMA-{pma}'\n",
    "if not os.path.isdir(savedir):\n",
    "        os.makedirs(savedir)\n",
    "else:\n",
    "    gettime = os.path.getctime(savedir)\n",
    "    datetimeObj = datetime.datetime.fromtimestamp(gettime)\n",
    "    dateStr = datetimeObj.strftime('%Y%m%d_%H%M%S')\n",
    "    os.makedirs(f'{savedir}/{dateStr}')\n",
    "    cmd = '''\n",
    "    mv %(savedir)s/Group* %(savedir)s/%(dateStr)s\n",
    "    mv %(savedir)s/*.log %(savedir)s/%(dateStr)s\n",
    "    mv %(savedir)s/*.png %(savedir)s/%(dateStr)s\n",
    "    '''%locals()\n",
    "    os.system(cmd)\n",
    "    "
   ]
  },
  {
   "cell_type": "markdown",
   "id": "9e7a5e5c-cc0a-4af4-9e92-14366de6c9fa",
   "metadata": {},
   "source": [
    "### Find the best number of cluster"
   ]
  },
  {
   "cell_type": "code",
   "execution_count": 8,
   "id": "6d37fbf5-c780-4273-88c1-cc21f05dbf00",
   "metadata": {},
   "outputs": [],
   "source": [
    "if AutoCluster:\n",
    "    numofCluster = find_best_cluster(method, df_4cluster, pma, savedir, catobj_Pos, selectMethod)\n"
   ]
  },
  {
   "cell_type": "markdown",
   "id": "4c253cff-30ae-4706-8e84-f1af350fc61f",
   "metadata": {},
   "source": [
    "### Begining to cluster"
   ]
  },
  {
   "cell_type": "code",
   "execution_count": 9,
   "id": "de8ed088-639b-4cbb-8373-7e0a322adcc7",
   "metadata": {},
   "outputs": [],
   "source": [
    "df_label = df_preprocess.copy()\n",
    "if method.casefold() == 'kmeans'.casefold():\n",
    "    model_kmean = KMeans(n_clusters=numofCluster, init='random', random_state=50)\n",
    "    result = model_kmean.fit(df_4cluster)\n",
    "    label = result.labels_\n",
    "    df_label['label'] = label\n",
    "elif method.casefold() == 'KPrototypes'.casefold():\n",
    "    model_kproto = KPrototypes(n_clusters=numofCluster, init='Huang', random_state=50)\n",
    "    label = model_kproto.fit_predict(df_4cluster.to_numpy(), categorical=catobj_Pos)\n",
    "    df_label['label'] = label\n",
    "elif method.casefold() == 'KMedoids'.casefold():    \n",
    "    model_kmedoids = KMedoids(n_clusters=numofCluster, random_state=50)\n",
    "    result = model_kmedoids.fit(df_4cluster)\n",
    "    df_label['label'] = result.labels_\n",
    "elif method.casefold() == 'KModes'.casefold():   \n",
    "    model_kmodes = KModes(n_clusters=numofCluster, random_state=50)\n",
    "    result = model_kmodes.fit(df_4cluster)\n",
    "    df_label['label'] = result.labels_"
   ]
  },
  {
   "cell_type": "markdown",
   "id": "9e0e5330-5931-4a6d-9d4b-c2e1c8933704",
   "metadata": {},
   "source": [
    "## Descriptive statistics"
   ]
  },
  {
   "cell_type": "markdown",
   "id": "00130cd9-1ee4-4899-a0ef-e89b041aaf38",
   "metadata": {},
   "source": [
    "### Overall "
   ]
  },
  {
   "cell_type": "code",
   "execution_count": 29,
   "id": "c9d86e23-b40d-4970-811a-bdecc9d89bf4",
   "metadata": {},
   "outputs": [],
   "source": [
    "logfile = f'{savedir}/pma_{pma}.log'\n",
    "lenfile = len(df_label)\n",
    "printcluster = numofCluster-1\n",
    "\n",
    "\n",
    "cmd = '''\n",
    "echo '===========================================' > %(logfile)s\n",
    "echo `date` >> %(logfile)s\n",
    "echo PMA: %(pma)i >> %(logfile)s\n",
    "echo Datalength: %(lenfile)i >> %(logfile)s\n",
    "echo Features: %(category)s >> %(logfile)s\n",
    "if %(AutoCluster)s == 'True';  \n",
    "then \n",
    "    echo Cluster method: %(method)s/Auto/%(selectMethod)s >> %(logfile)s\n",
    "else\n",
    "    echo Cluster method: %(method)s/Manual >> %(logfile)s\n",
    "fi\n",
    "\n",
    "echo Num. of Group: %(numofCluster)i >> %(logfile)s\n",
    "echo '===========================================' >> %(logfile)s\n",
    "'''%locals()\n",
    "os.system(cmd)\n",
    "\n",
    "cnt_grouplen = df_label['label'].value_counts()\n",
    "for i in range(numofCluster):\n",
    "    cnt_group = cnt_grouplen[i]\n",
    "    pct_group = round(100*(cnt_group/lenfile),2)\n",
    "    cmd = '''\n",
    "    echo \"Group %(i)i: %(cnt_group)i (%(pct_group).2f%%)\" >> %(logfile)s\n",
    "    '''%locals()\n",
    "    os.system(cmd)\n",
    "\n",
    "plot_key = readcols['key'][readcols['fmt']=='values'].tolist()\n",
    "plot_values(df_label, savedir, pma, numofCluster, plot_key)\n"
   ]
  },
  {
   "cell_type": "markdown",
   "id": "a9723363-5a6a-4337-bfbe-7390c3f1e1db",
   "metadata": {},
   "source": [
    "### Each Group "
   ]
  },
  {
   "cell_type": "code",
   "execution_count": 20,
   "id": "c243c886-97d0-4990-b617-9a04338ee873",
   "metadata": {},
   "outputs": [
    {
     "name": "stdout",
     "output_type": "stream",
     "text": [
      "['mid', 'pma_no_fin', 'gender', 'home_city', 'area_01', 'area_02', 'area_03', 'area_04', 'area_05', 'area_06', 'area_07', 'area_09', 'area_10', 'area_11', 'weekday', 'weekend']\n",
      "['gender', 'home_city', 'area_01', 'weekday', 'rfm_level']\n",
      "========\n",
      "['mid', 'pma_no_fin', 'gender', 'home_city', 'area_01', 'area_02', 'area_03', 'area_04', 'area_05', 'area_06', 'area_07', 'area_09', 'area_10', 'area_11', 'weekday', 'weekend']\n",
      "['gender', 'home_city', 'area_01', 'weekday', 'rfm_level']\n",
      "========\n",
      "['mid', 'pma_no_fin', 'gender', 'home_city', 'area_01', 'area_02', 'area_03', 'area_04', 'area_05', 'area_06', 'area_07', 'area_09', 'area_10', 'area_11', 'weekday', 'weekend']\n",
      "['gender', 'home_city', 'area_01', 'weekday', 'rfm_level']\n",
      "========\n",
      "['mid', 'pma_no_fin', 'gender', 'home_city', 'area_01', 'area_02', 'area_03', 'area_04', 'area_05', 'area_06', 'area_07', 'area_09', 'area_10', 'area_11', 'weekday', 'weekend']\n",
      "['gender', 'home_city', 'area_01', 'weekday', 'rfm_level']\n",
      "========\n"
     ]
    }
   ],
   "source": [
    "for i in range(numofCluster):\n",
    "\n",
    "    str_group = str(i).zfill(2)\n",
    "    savegroupdir = f'{savedir}/Group_{str_group}'\n",
    "    if not os.path.isdir(savegroupdir):\n",
    "        os.makedirs(savegroupdir)\n",
    "\n",
    "        \n",
    "    df_group = df_label[df_label['label']==i]\n",
    "    for objkey in readcols['key'][readcols['fmt']=='object']:\n",
    "        try:\n",
    "            if 'area' not in objkey:\n",
    "                df_group[objkey] = globals()[f'labelencoder_{objkey}'].inverse_transform(df_group[objkey].astype(int))\n",
    "        except:\n",
    "            pass\n",
    "    if 'rfm_level' in df_group.keys():\n",
    "        df_group['rfm_level'] = labelencoder_rfm.inverse_transform(df_group['rfm_level'].astype(int))\n",
    "\n",
    "    df_group_describe = df_group.describe()\n",
    "    df_group_describe = df_group_describe.drop(labels='count')\n",
    "    df_group_describe = df_group_describe.drop(columns='label')\n",
    "    df_group_describe = df_group_describe.drop(columns='pma_no_fin')\n",
    "    \n",
    "    df_group_describe.to_csv(f'{savegroupdir}/00.Descriptive_statistics_G{str_group}.csv')\n",
    "    plot_key = readcols['key'][readcols['fmt']=='object'].tolist()\n",
    "    plot_object(df_group, savegroupdir, pma, str_group, plot_key)\n",
    "\n",
    "    df_group.to_csv(f'{savegroupdir}/02.Detail_info_mid.csv', index=False)\n",
    "    "
   ]
  },
  {
   "cell_type": "code",
   "execution_count": null,
   "id": "f711c04a-1717-41c3-a4cc-16e52d128113",
   "metadata": {},
   "outputs": [],
   "source": []
  }
 ],
 "metadata": {
  "kernelspec": {
   "display_name": "Python 3 (ipykernel)",
   "language": "python",
   "name": "python3"
  },
  "language_info": {
   "codemirror_mode": {
    "name": "ipython",
    "version": 3
   },
   "file_extension": ".py",
   "mimetype": "text/x-python",
   "name": "python",
   "nbconvert_exporter": "python",
   "pygments_lexer": "ipython3",
   "version": "3.11.3"
  }
 },
 "nbformat": 4,
 "nbformat_minor": 5
}
