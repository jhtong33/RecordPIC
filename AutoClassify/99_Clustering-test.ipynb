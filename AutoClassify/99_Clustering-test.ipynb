{
 "cells": [
  {
   "cell_type": "code",
   "execution_count": null,
   "id": "602d9ff3-af5d-42fc-a013-d0b68d41d3b2",
   "metadata": {},
   "outputs": [],
   "source": [
    "# !pip install kmodes\n",
    "# !pip install scikit-learn-extra"
   ]
  },
  {
   "cell_type": "code",
   "execution_count": 2,
   "id": "f9417900-126f-4c0f-b7d5-114327c49695",
   "metadata": {},
   "outputs": [],
   "source": [
    "import pandas as pd\n",
    "import numpy as np\n",
    "import datetime, math\n",
    "import sys, os, warnings\n",
    "import matplotlib.pyplot as plt\n",
    "from kmodes.kprototypes import KPrototypes\n",
    "from kmodes.kmodes import KModes\n",
    "from sklearn import preprocessing\n",
    "from sklearn.preprocessing import StandardScaler,LabelEncoder,OneHotEncoder,MinMaxScaler\n",
    "from sklearn.cluster import KMeans\n",
    "from sklearn_extra.cluster import KMedoids\n",
    "from PlotFigure import plot_values, plot_object\n",
    "from Autoclass import find_best_cluster\n",
    "import hdbscan\n",
    "\n",
    "warnings.filterwarnings(\"ignore\")"
   ]
  },
  {
   "cell_type": "markdown",
   "id": "379b1e18-57a8-4176-9197-3e7f57dcf602",
   "metadata": {},
   "source": [
    "### Reading file"
   ]
  },
  {
   "cell_type": "code",
   "execution_count": 3,
   "id": "b6ba0c3f-822e-46c7-9cd4-30bf8729f668",
   "metadata": {},
   "outputs": [],
   "source": [
    "filename = 'KmeanClustering_sampledata_v3.csv'"
   ]
  },
  {
   "cell_type": "markdown",
   "id": "3e0a4b9d-205a-40ef-a05e-c12fa2f41be6",
   "metadata": {},
   "source": [
    "### Parameter setting "
   ]
  },
  {
   "cell_type": "code",
   "execution_count": 4,
   "id": "be327dc9-033e-4e94-8d26-3f8466d61139",
   "metadata": {},
   "outputs": [],
   "source": [
    "pma = 38\n",
    "AutoCluster = True\n",
    "category = 'personal','rfm','area','purchasetime','prefer'\n",
    "\n",
    "method = 'KPrototypes' #'KMeans', 'KPrototypes', 'KMedoids', 'Kmodes'\n",
    "if AutoCluster == False:\n",
    "    numofCluster = 4\n",
    "else:\n",
    "    selectMethod = 'elbow' #'calinski-harabasz', 'davies-bouldin', 'silhouette', 'bic'\n",
    "\n",
    "if 'rfm' in category:\n",
    "    rfm_level = 'median' # 'median', 'mode', 'average'\n",
    "    select_rfm = True\n",
    "    if select_rfm:\n",
    "        select_two = 'f', 'm'"
   ]
  },
  {
   "cell_type": "code",
   "execution_count": 5,
   "id": "8d1bc48c-ce26-487c-8fd4-73dfcadd06a5",
   "metadata": {},
   "outputs": [
    {
     "data": {
      "text/plain": [
       "tuple"
      ]
     },
     "execution_count": 5,
     "metadata": {},
     "output_type": "execute_result"
    }
   ],
   "source": [
    "type(category)"
   ]
  },
  {
   "cell_type": "markdown",
   "id": "13316106-478c-4376-98c5-19c937d00a01",
   "metadata": {},
   "source": [
    "### PRE-processing"
   ]
  },
  {
   "cell_type": "code",
   "execution_count": 6,
   "id": "b3d02e86-4fa8-4012-8abc-805924a7fa4f",
   "metadata": {},
   "outputs": [],
   "source": [
    "select_two = list(select_two)\n",
    "category = list(category)\n",
    "dconfig = pd.read_json('category_config.json')\n",
    "readcols = {'key':['mid', 'pma_no_fin', 'qty', 'avg_qty'],\n",
    "           'fmt': ['object', 'object', 'values', 'values']}\n",
    "\n",
    "for cate in category:\n",
    "    getkey = dconfig[cate]['key']\n",
    "    getfmt = dconfig[cate]['format']\n",
    "    readcols['key'].extend( getkey )\n",
    "    readcols['fmt'].extend( getfmt )\n",
    "readcols = pd.DataFrame(readcols)\n",
    "df = pd.read_csv(filename, usecols = readcols['key'])\n",
    "df = df[df['pma_no_fin']==pma]\n"
   ]
  },
  {
   "cell_type": "code",
   "execution_count": 7,
   "id": "264c1f74-c630-40f1-88c1-16601779ae02",
   "metadata": {},
   "outputs": [],
   "source": [
    "df_preprocess = df.copy()\n",
    "df_preprocess.fillna(' ', inplace=True)\n",
    "\n",
    "if 'rfm' in category:\n",
    "    getkey = dconfig['rfm']['key']\n",
    "    tempdf_rfm = pd.DataFrame()\n",
    "    rfm_level_key = []\n",
    "    for idx_rfm in getkey:\n",
    "        if rfm_level == 'average':\n",
    "            num_split = np.mean(df_preprocess[idx_rfm].astype(float))\n",
    "        elif rfm_level == 'median':\n",
    "            num_split = np.median(df_preprocess[idx_rfm].astype(float))\n",
    "        elif rfm_level == 'mode':\n",
    "            num_split = np.mode(df_preprocess[idx_rfm].astype(float))\n",
    "        idx_rfm_level = f'{idx_rfm}_level'\n",
    "        rfm_level_key.append(idx_rfm_level)\n",
    "        if 'recency' in idx_rfm :\n",
    "            tempdf_rfm[idx_rfm_level] = [ '1'  if i <= num_split else '0' for i in df_preprocess[idx_rfm]]\n",
    "        else:\n",
    "            tempdf_rfm[idx_rfm_level] = [ '1'  if i >= num_split else '0' for i in df_preprocess[idx_rfm]]\n",
    "    \n",
    "    rfmlevel = []\n",
    "    for r, f, m in zip(tempdf_rfm[tempdf_rfm.keys()[0]], tempdf_rfm[tempdf_rfm.keys()[1]], tempdf_rfm[tempdf_rfm.keys()[2]]):\n",
    "        if select_rfm:\n",
    "            if 'r' not in select_two:\n",
    "                level = f'{f}{m}'\n",
    "            elif 'f' not in select_two:\n",
    "                level = f'{r}{m}'\n",
    "            elif 'm' not in select_two:\n",
    "                level = f'{r}{f}'       \n",
    "        else:\n",
    "            level = f'{r}{f}{m}'\n",
    "        rfmlevel.append(level)\n",
    "        \n",
    "    df_preprocess['rfm_level']  = rfmlevel    \n",
    "    labelencoder_rfm = LabelEncoder()\n",
    "    df_preprocess['rfm_level'] = labelencoder_rfm.fit_transform(df_preprocess['rfm_level'])\n",
    "    df_preprocess['rfm_level'] = df_preprocess['rfm_level'].astype(object)\n",
    "    \n",
    "for objkey in readcols['key'][readcols['fmt']=='object']:\n",
    "    try:\n",
    "        if 'area' not in objkey:\n",
    "            globals()[f'labelencoder_{objkey}'] = LabelEncoder()\n",
    "            df_preprocess[objkey] = globals()[f'labelencoder_{objkey}'].fit_transform(df_preprocess[objkey])\n",
    "            df_preprocess[objkey] = df_preprocess[objkey].astype(object)\n",
    "    except:\n",
    "        pass\n",
    "\n",
    "df_preprocess = df_preprocess.replace(' ',0)   \n",
    "df_4cluster = df_preprocess.copy()\n",
    "df_4cluster = df_4cluster.drop(['mid', 'pma_no_fin', 'rfm_recency', 'rfm_frequency', 'rfm_monetary'], axis = 1) \n",
    "    \n",
    "catobj_Name =  list(df_4cluster.select_dtypes('object').columns)\n",
    "catobj_Pos = [df_4cluster.columns.get_loc(col) for col in list(df_4cluster.select_dtypes('object').columns)] \n",
    "\n",
    "\n"
   ]
  },
  {
   "cell_type": "markdown",
   "id": "0957d4a9-0f6f-4c1c-bb5a-6bf7f69325fb",
   "metadata": {},
   "source": [
    "### Makedir"
   ]
  },
  {
   "cell_type": "code",
   "execution_count": 8,
   "id": "f2490d97-f3e7-4b1c-9be8-6228e79d0e38",
   "metadata": {},
   "outputs": [
    {
     "name": "stderr",
     "output_type": "stream",
     "text": [
      "mv: rename PMA-38/Group* to PMA-38/20230725_160426/Group*: No such file or directory\n",
      "mv: rename PMA-38/*.log to PMA-38/20230725_160426/*.log: No such file or directory\n",
      "mv: rename PMA-38/*.png to PMA-38/20230725_160426/*.png: No such file or directory\n"
     ]
    }
   ],
   "source": [
    "savedir = f'PMA-{pma}'\n",
    "if not os.path.isdir(savedir):\n",
    "        os.makedirs(savedir)\n",
    "else:\n",
    "    gettime = os.path.getctime(savedir)\n",
    "    datetimeObj = datetime.datetime.fromtimestamp(gettime)\n",
    "    dateStr = datetimeObj.strftime('%Y%m%d_%H%M%S')\n",
    "    os.makedirs(f'{savedir}/{dateStr}')\n",
    "    cmd = '''\n",
    "    mv %(savedir)s/Group* %(savedir)s/%(dateStr)s\n",
    "    mv %(savedir)s/*.log %(savedir)s/%(dateStr)s\n",
    "    mv %(savedir)s/*.png %(savedir)s/%(dateStr)s\n",
    "    '''%locals()\n",
    "    os.system(cmd)\n",
    "    "
   ]
  },
  {
   "cell_type": "code",
   "execution_count": 63,
   "id": "4dbaaf57-074d-4ef3-abea-880500221075",
   "metadata": {},
   "outputs": [],
   "source": [
    "clusterer = hdbscan.HDBSCAN(min_samples=2, min_cluster_size=2)"
   ]
  },
  {
   "cell_type": "code",
   "execution_count": 64,
   "id": "83fe4b59-13e2-4512-83a5-c6664963a465",
   "metadata": {},
   "outputs": [
    {
     "data": {
      "text/html": [
       "<style>#sk-container-id-13 {color: black;background-color: white;}#sk-container-id-13 pre{padding: 0;}#sk-container-id-13 div.sk-toggleable {background-color: white;}#sk-container-id-13 label.sk-toggleable__label {cursor: pointer;display: block;width: 100%;margin-bottom: 0;padding: 0.3em;box-sizing: border-box;text-align: center;}#sk-container-id-13 label.sk-toggleable__label-arrow:before {content: \"▸\";float: left;margin-right: 0.25em;color: #696969;}#sk-container-id-13 label.sk-toggleable__label-arrow:hover:before {color: black;}#sk-container-id-13 div.sk-estimator:hover label.sk-toggleable__label-arrow:before {color: black;}#sk-container-id-13 div.sk-toggleable__content {max-height: 0;max-width: 0;overflow: hidden;text-align: left;background-color: #f0f8ff;}#sk-container-id-13 div.sk-toggleable__content pre {margin: 0.2em;color: black;border-radius: 0.25em;background-color: #f0f8ff;}#sk-container-id-13 input.sk-toggleable__control:checked~div.sk-toggleable__content {max-height: 200px;max-width: 100%;overflow: auto;}#sk-container-id-13 input.sk-toggleable__control:checked~label.sk-toggleable__label-arrow:before {content: \"▾\";}#sk-container-id-13 div.sk-estimator input.sk-toggleable__control:checked~label.sk-toggleable__label {background-color: #d4ebff;}#sk-container-id-13 div.sk-label input.sk-toggleable__control:checked~label.sk-toggleable__label {background-color: #d4ebff;}#sk-container-id-13 input.sk-hidden--visually {border: 0;clip: rect(1px 1px 1px 1px);clip: rect(1px, 1px, 1px, 1px);height: 1px;margin: -1px;overflow: hidden;padding: 0;position: absolute;width: 1px;}#sk-container-id-13 div.sk-estimator {font-family: monospace;background-color: #f0f8ff;border: 1px dotted black;border-radius: 0.25em;box-sizing: border-box;margin-bottom: 0.5em;}#sk-container-id-13 div.sk-estimator:hover {background-color: #d4ebff;}#sk-container-id-13 div.sk-parallel-item::after {content: \"\";width: 100%;border-bottom: 1px solid gray;flex-grow: 1;}#sk-container-id-13 div.sk-label:hover label.sk-toggleable__label {background-color: #d4ebff;}#sk-container-id-13 div.sk-serial::before {content: \"\";position: absolute;border-left: 1px solid gray;box-sizing: border-box;top: 0;bottom: 0;left: 50%;z-index: 0;}#sk-container-id-13 div.sk-serial {display: flex;flex-direction: column;align-items: center;background-color: white;padding-right: 0.2em;padding-left: 0.2em;position: relative;}#sk-container-id-13 div.sk-item {position: relative;z-index: 1;}#sk-container-id-13 div.sk-parallel {display: flex;align-items: stretch;justify-content: center;background-color: white;position: relative;}#sk-container-id-13 div.sk-item::before, #sk-container-id-13 div.sk-parallel-item::before {content: \"\";position: absolute;border-left: 1px solid gray;box-sizing: border-box;top: 0;bottom: 0;left: 50%;z-index: -1;}#sk-container-id-13 div.sk-parallel-item {display: flex;flex-direction: column;z-index: 1;position: relative;background-color: white;}#sk-container-id-13 div.sk-parallel-item:first-child::after {align-self: flex-end;width: 50%;}#sk-container-id-13 div.sk-parallel-item:last-child::after {align-self: flex-start;width: 50%;}#sk-container-id-13 div.sk-parallel-item:only-child::after {width: 0;}#sk-container-id-13 div.sk-dashed-wrapped {border: 1px dashed gray;margin: 0 0.4em 0.5em 0.4em;box-sizing: border-box;padding-bottom: 0.4em;background-color: white;}#sk-container-id-13 div.sk-label label {font-family: monospace;font-weight: bold;display: inline-block;line-height: 1.2em;}#sk-container-id-13 div.sk-label-container {text-align: center;}#sk-container-id-13 div.sk-container {/* jupyter's `normalize.less` sets `[hidden] { display: none; }` but bootstrap.min.css set `[hidden] { display: none !important; }` so we also need the `!important` here to be able to override the default hidden behavior on the sphinx rendered scikit-learn.org. See: https://github.com/scikit-learn/scikit-learn/issues/21755 */display: inline-block !important;position: relative;}#sk-container-id-13 div.sk-text-repr-fallback {display: none;}</style><div id=\"sk-container-id-13\" class=\"sk-top-container\"><div class=\"sk-text-repr-fallback\"><pre>HDBSCAN(min_cluster_size=2, min_samples=2)</pre><b>In a Jupyter environment, please rerun this cell to show the HTML representation or trust the notebook. <br />On GitHub, the HTML representation is unable to render, please try loading this page with nbviewer.org.</b></div><div class=\"sk-container\" hidden><div class=\"sk-item\"><div class=\"sk-estimator sk-toggleable\"><input class=\"sk-toggleable__control sk-hidden--visually\" id=\"sk-estimator-id-13\" type=\"checkbox\" checked><label for=\"sk-estimator-id-13\" class=\"sk-toggleable__label sk-toggleable__label-arrow\">HDBSCAN</label><div class=\"sk-toggleable__content\"><pre>HDBSCAN(min_cluster_size=2, min_samples=2)</pre></div></div></div></div></div>"
      ],
      "text/plain": [
       "HDBSCAN(min_cluster_size=2, min_samples=2)"
      ]
     },
     "execution_count": 64,
     "metadata": {},
     "output_type": "execute_result"
    }
   ],
   "source": [
    "clusterer.fit(df_4cluster)"
   ]
  },
  {
   "cell_type": "code",
   "execution_count": 65,
   "id": "00714f64-e678-43d7-9759-d86c1edde61f",
   "metadata": {},
   "outputs": [
    {
     "data": {
      "text/plain": [
       "array([0, 0, 0, 0, 0, 1, 0, 0, 0, 0, 0, 0, 0, 0, 0, 0, 0, 0, 0, 0, 0, 0,\n",
       "       0, 0, 1, 0, 0, 0, 0, 1, 0, 0, 0, 1, 0, 0, 0, 0, 1, 0, 1, 1])"
      ]
     },
     "execution_count": 65,
     "metadata": {},
     "output_type": "execute_result"
    }
   ],
   "source": [
    "clusterer.labels_"
   ]
  },
  {
   "cell_type": "code",
   "execution_count": 66,
   "id": "3958c3c8-85d8-4505-bcf3-efcc9dd96bb6",
   "metadata": {},
   "outputs": [
    {
     "data": {
      "text/plain": [
       "<matplotlib.collections.PathCollection at 0x168382b10>"
      ]
     },
     "execution_count": 66,
     "metadata": {},
     "output_type": "execute_result"
    },
    {
     "data": {
      "image/png": "[encoded data removed]",
      "text/plain": [
       "<Figure size 640x480 with 1 Axes>"
      ]
     },
     "metadata": {},
     "output_type": "display_data"
    }
   ],
   "source": [
    "from sklearn.manifold import TSNE\n",
    "import seaborn as sns\n",
    "color_palette = sns.color_palette('Paired', 12)\n",
    "cluster_colors = [color_palette[x] if x >= 0\n",
    "                  else (0.5, 0.5, 0.5)\n",
    "                  for x in clusterer.labels_]\n",
    "cluster_member_colors = [sns.desaturate(x, p) for x, p in\n",
    "                         zip(cluster_colors, clusterer.probabilities_)]\n",
    "\n",
    "projection = TSNE().fit_transform(df_4cluster)\n",
    "plt.scatter(*projection.T, s=50, linewidth=0, c=cluster_member_colors, alpha=0.5)"
   ]
  },
  {
   "cell_type": "code",
   "execution_count": null,
   "id": "58e6f9e6-b2aa-4a8f-90d2-c69fa4ef9eec",
   "metadata": {},
   "outputs": [],
   "source": []
  }
 ],
 "metadata": {
  "kernelspec": {
   "display_name": "Python 3 (ipykernel)",
   "language": "python",
   "name": "python3"
  },
  "language_info": {
   "codemirror_mode": {
    "name": "ipython",
    "version": 3
   },
   "file_extension": ".py",
   "mimetype": "text/x-python",
   "name": "python",
   "nbconvert_exporter": "python",
   "pygments_lexer": "ipython3",
   "version": "3.11.3"
  }
 },
 "nbformat": 4,
 "nbformat_minor": 5
}
